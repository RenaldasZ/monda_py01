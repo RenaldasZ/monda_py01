{
 "cells": [
  {
   "cell_type": "markdown",
   "metadata": {},
   "source": [
    "# Pillow biblioteka"
   ]
  },
  {
   "cell_type": "markdown",
   "metadata": {},
   "source": [
    "`Pillow` yra populiari Python biblioteka, leidžianti atlikti įvairias paveikslėlių manipuliacijas. Ji nėra įdiegta pagal nutylėjimą, todėl mes ją turime įdiegti. \n",
    "\n",
    "Terminale įvykdome komandą:\n",
    "\n",
    "```bash\n",
    "pip install Pillow\n",
    "```"
   ]
  },
  {
   "cell_type": "markdown",
   "metadata": {},
   "source": [
    "## Paveikslėlio dydžio keitimas (Resize)"
   ]
  },
  {
   "cell_type": "code",
   "execution_count": 2,
   "metadata": {},
   "outputs": [],
   "source": [
    "from PIL import Image\n",
    "\n",
    "image = Image.open(\"image.jpg\")\n",
    "width, height = (400, 300)\n",
    "new_size = (width, height) # vietoje \"width\" ir \"height\" įrašykite norimus parametrus, pvz.: (60, 80)\n",
    "resized_image = image.resize(new_size)\n",
    "resized_image.save(\"image_resized.jpg\")"
   ]
  },
  {
   "cell_type": "markdown",
   "metadata": {},
   "source": [
    "### Greita užduotis 1\n",
    "\n",
    "1. Įdiekite `Pillow` biblioteką naudodami terminalą arba komandinę eilutę ir patikrinkite įdiegimą.\n",
    "1. Parašykite Python skriptą paveikslėlio dydžio keitimui į nurodytą `plotį` ir `aukštį`.\n",
    "1. Išbandykite jį su įvairiais išmatavimais."
   ]
  },
  {
   "cell_type": "code",
   "execution_count": null,
   "metadata": {},
   "outputs": [],
   "source": [
    "# jūsu kodo vieta"
   ]
  },
  {
   "cell_type": "markdown",
   "metadata": {},
   "source": [
    "## Paveikslėlio apkarpymas (Crop)"
   ]
  },
  {
   "cell_type": "markdown",
   "metadata": {},
   "source": [
    "Atkreipkite dėmesį, kad taškų koordinatės skaičiuojamos `iš kairės į dešinę X`, `iš viršaus į apačią Y`."
   ]
  },
  {
   "cell_type": "code",
   "execution_count": 3,
   "metadata": {},
   "outputs": [],
   "source": [
    "from PIL import Image\n",
    "\n",
    "image = Image.open(\"image.jpg\")\n",
    "crop_area = (800, 300, 1100, 950) # įrašykite norimus parametrus, pvz.: (800, 300, 1100, 950)\n",
    "cropped_image = image.crop(crop_area)\n",
    "cropped_image.save(\"image_cropped.jpg\")"
   ]
  },
  {
   "cell_type": "markdown",
   "metadata": {},
   "source": [
    "Pateiktoje kodo ištraukoje apkerpamo ploto koordinatės nustatytos kaip `(800, 300, 1100, 950)`. Tai reiškia, kad apkirpta nuotrauka įtrauks pikselius iš pradinės nuotraukos, pradedant nuo 800 x-koordinatės (kairėje), 300 y-koordinatės (viršuje), iki 1100 x-koordinatės (dešinėje) ir žemyn iki 950 y-koordinatės (apačioje)."
   ]
  },
  {
   "cell_type": "markdown",
   "metadata": {},
   "source": [
    "### Greita užduotis 2: Paveikslėlio apkarpymas\n",
    "\n",
    "1. Apkarpykite konkrečią sritį iš atsisiųsto paveikslėlio naudodami Python.\n",
    "1. Eksperimentuokite su įvairiomis koordinatėmis apkarpymui."
   ]
  },
  {
   "cell_type": "code",
   "execution_count": null,
   "metadata": {},
   "outputs": [],
   "source": [
    "# jūsu kodo vieta"
   ]
  },
  {
   "cell_type": "markdown",
   "metadata": {},
   "source": [
    "## Paveikslėlio miniatiūrų kūrimas (Thumbnails)"
   ]
  },
  {
   "cell_type": "code",
   "execution_count": 4,
   "metadata": {},
   "outputs": [],
   "source": [
    "image = Image.open(\"image.jpg\")\n",
    "thumbnail_size = (width, height)\n",
    "image.thumbnail(thumbnail_size)\n",
    "image.save(\"image_thumbnail.jpg\")"
   ]
  },
  {
   "cell_type": "markdown",
   "metadata": {},
   "source": [
    "### Greita užduotis 3: Miniatiūrų kūrimas\n",
    "\n",
    "1. Sukurkite Python programą, kuri generuotų Jūsų paveikslėlio miniatiūrą.\n",
    "1. Keiskite miniatiūros dydį ir stebėkite rezultatus."
   ]
  },
  {
   "cell_type": "code",
   "execution_count": null,
   "metadata": {},
   "outputs": [],
   "source": [
    "# jūsu kodo vieta"
   ]
  },
  {
   "cell_type": "markdown",
   "metadata": {},
   "source": [
    "## Išskaidymas pikseliais ir surinkimas atgal"
   ]
  },
  {
   "cell_type": "markdown",
   "metadata": {},
   "source": [
    "Paveikslėliai kompiuteryje dažniausiai saugomi naudojant RGB spalvų modelį, kuriame kiekviena spalva sudaryta iš trijų pagrindinių spalvų sudedamųjų dalių: raudonos (`R`), žalios (`G`) ir mėlynos (`B`). \n",
    "\n",
    "Šis pavyzdys atskleidžia, kaip galite atskirti šias spalvų sudedamąsias dalis ir sujungti jas atgal į vieną paveikslėlį."
   ]
  },
  {
   "cell_type": "code",
   "execution_count": 5,
   "metadata": {},
   "outputs": [],
   "source": [
    "from PIL import Image\n",
    "\n",
    "def split_and_merge(image):\n",
    "    image_r, image_g, image_b = image.split()\n",
    "    merged_image = Image.merge(\"RGB\", (image_r, image_g, image_b))\n",
    "    return merged_image\n",
    "\n",
    "image = Image.open(\"image.jpg\")\n",
    "merged_image = split_and_merge(image)\n",
    "merged_image.save(\"image_merged.jpg\")"
   ]
  },
  {
   "cell_type": "markdown",
   "metadata": {},
   "source": [
    "- `image.split()` funkcija išskaido paveikslėlį į tris atskirus kanalus: raudoną (R), žalią (G) ir mėlyną (B). Šie kanalai yra atskiri paveikslėliai, kuriuose saugoma tik vienos spalvos sudedamoji dalis.\n",
    "- Po išskaidymo, `image_r`, `image_g` ir `image_b` kintamieji saugo atitinkamai raudoną, žalią ir mėlyną spalvų sudedamąsias dalis.\n",
    "- Tada naudojame Image.merge(\"RGB\", (image_r, image_g, image_b)) funkciją, kuri sujungia raudoną, žalią ir mėlyną spalvų sudedamąsias dalis atgal į vieną paveikslėlį. \"RGB\" reiškia, kad norime sujungti spalvas pagal RGB modelį."
   ]
  },
  {
   "cell_type": "markdown",
   "metadata": {},
   "source": [
    "### Greita užduotis 4: Pikselių Skaidymas ir Sujungimas\n",
    "\n",
    "1. Supraskite, kaip paveikslėlis skaidomas į Raudonos, Žalios ir Mėlynos (RGB) spalvų kanalus ir kaip jie sujungiami atgal.\n",
    "1. Pritaikykite pateiktą kodą paveikslėliui ir stebėkite pokyčius."
   ]
  },
  {
   "cell_type": "code",
   "execution_count": null,
   "metadata": {},
   "outputs": [],
   "source": [
    "# jūsu kodo vieta"
   ]
  },
  {
   "cell_type": "markdown",
   "metadata": {},
   "source": [
    "💡 Galite sukurti spalvų filtrą, taikydami tam tikrą funkciją kiekvieno kanalo pikseliams. \n",
    "\n",
    "Šiame pavyzdyje mes sukursime paprastą spalvų filtrą: padidinsime raudonos spalvos intensyvumą, sumažinsime žalios spalvos intensyvumą ir paliksime mėlynos spalvos intensyvumą nepakitusį"
   ]
  },
  {
   "cell_type": "code",
   "execution_count": 6,
   "metadata": {},
   "outputs": [],
   "source": [
    "from PIL import Image\n",
    "\n",
    "def apply_color_filter(image_r, image_g, image_b):\n",
    "    # Padidiname raudonos spalvos intensyvumą\n",
    "    image_r = image_r.point(lambda i: i * 1.5)\n",
    "\n",
    "    # Sumažiname žalios spalvos intensyvumą\n",
    "    image_g = image_g.point(lambda i: i * 0.5)\n",
    "\n",
    "    # Paliekame mėlynos spalvos intensyvumą nepakitę\n",
    "    image_b = image_b.point(lambda i: i)\n",
    "\n",
    "    return image_r, image_g, image_b\n",
    "\n",
    "def split_and_merge(image):\n",
    "    image_r, image_g, image_b = image.split()\n",
    "    image_r, image_g, image_b = apply_color_filter(image_r, image_g, image_b)\n",
    "    merged_image = Image.merge(\"RGB\", (image_r, image_g, image_b))\n",
    "    return merged_image\n",
    "\n",
    "image = Image.open(\"image.jpg\")\n",
    "merged_image = split_and_merge(image)\n",
    "merged_image.save(\"image_filtered.jpg\")"
   ]
  },
  {
   "cell_type": "markdown",
   "metadata": {},
   "source": [
    "Šiame pavyzdyje mes išskaidėme paveikslėlį į RGB kanalus, taikėme spalvų filtrą naudojant `apply_color_filter` funkciją, o po to sujungėme atnaujintus kanalus atgal į vieną paveikslėlį. Dėl šio pakeitimo paveikslėlyje matosi, kad raudona spalva tapo ryškesnė, žalia spalva - šviesesnė, o mėlyna spalva išliko nepakitusi."
   ]
  },
  {
   "cell_type": "markdown",
   "metadata": {},
   "source": [
    "### Greita užduotis 5: Spalvų Filtras\n",
    "\n",
    "1. Pakeiskite pateiktame kode spalvų filtrą, kad sukurtumėte pasirinktinį efektą.\n",
    "1. Pritaikykite atnaujintą filtrą paveikslėliui ir palyginkite rezultatus."
   ]
  },
  {
   "cell_type": "code",
   "execution_count": null,
   "metadata": {},
   "outputs": [],
   "source": [
    "# jūsu kodo vieta"
   ]
  },
  {
   "cell_type": "markdown",
   "metadata": {},
   "source": [
    "# Filtrai"
   ]
  },
  {
   "cell_type": "markdown",
   "metadata": {},
   "source": [
    "Pillow turi įvairių integruotų efektų, kuriuos galite pritaikyti prie savo paveikslėlių. Jie yra pasiekiami per `ImageFilter` klasę."
   ]
  },
  {
   "cell_type": "code",
   "execution_count": 7,
   "metadata": {},
   "outputs": [],
   "source": [
    "from PIL import Image, ImageFilter\n",
    "\n",
    "image = Image.open(\"image.jpg\")\n",
    "blurred_image = image.filter(ImageFilter.BLUR)\n",
    "blurred_image.save(\"image_blurred.jpg\")\n",
    "\n",
    "image = Image.open(\"image.jpg\")\n",
    "contour_image = image.filter(ImageFilter.CONTOUR)\n",
    "contour_image.save(\"image_contour.jpg\")\n",
    "\n",
    "image = Image.open(\"image.jpg\")\n",
    "sharpen_image = image.filter(ImageFilter.SHARPEN)\n",
    "sharpen_image.save(\"image_sharpen.jpg\")"
   ]
  },
  {
   "cell_type": "markdown",
   "metadata": {},
   "source": [
    "### Greita užduotis 6: Filtrai\n",
    "\n",
    "1. Eksperimentuokite su įvairiais `ImageFilter` klasės filtrais.\n",
    "1. Atskirai pritaikykite suliejimo, kontūrų ir aštrinimo filtrus paveikslėliui ir stebėkite vaizdo pokyčius."
   ]
  },
  {
   "cell_type": "code",
   "execution_count": null,
   "metadata": {},
   "outputs": [],
   "source": [
    "# jūsu kodo vieta"
   ]
  },
  {
   "cell_type": "markdown",
   "metadata": {},
   "source": [
    "For more information on different effects, [refer to the Pillow documentation](https://pillow.readthedocs.io/en/stable/reference/ImageFilter.html)."
   ]
  },
  {
   "cell_type": "markdown",
   "metadata": {},
   "source": [
    "## Išsaugojimas"
   ]
  },
  {
   "cell_type": "code",
   "execution_count": null,
   "metadata": {},
   "outputs": [],
   "source": [
    "from PIL import Image\n",
    "\n",
    "# Atidarome paveikslėlį\n",
    "image = Image.open(\"image.jpg\")\n",
    "\n",
    "# Atlikite norimas manipuliacijas su paveikslėliu\n",
    "# ... (manipuliacijų kodas čia)\n",
    "\n",
    "# Išsaugokite paveikslėlį nurodytu pavadinimu ir formatu\n",
    "image.save(\"image_edited.png\", \"PNG\")"
   ]
  },
  {
   "cell_type": "markdown",
   "metadata": {},
   "source": [
    "### Greita užduotis 7: Paveikslėlio Įrašymas\n",
    "\n",
    "1. Parašykite Python skriptą, kuris atidaro paveikslėlį, atlieka paprastą manipuliaciją (pvz., dydžio keitimą), ir išsaugo redaguotą paveikslėlį su nauju pavadinimu bei formatu."
   ]
  },
  {
   "cell_type": "code",
   "execution_count": null,
   "metadata": {},
   "outputs": [],
   "source": [
    "# jūsu kodo vieta"
   ]
  }
 ],
 "metadata": {
  "kernelspec": {
   "display_name": "venv",
   "language": "python",
   "name": "python3"
  },
  "language_info": {
   "codemirror_mode": {
    "name": "ipython",
    "version": 3
   },
   "file_extension": ".py",
   "mimetype": "text/x-python",
   "name": "python",
   "nbconvert_exporter": "python",
   "pygments_lexer": "ipython3",
   "version": "3.10.12"
  }
 },
 "nbformat": 4,
 "nbformat_minor": 2
}
