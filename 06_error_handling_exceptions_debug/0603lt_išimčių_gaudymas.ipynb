{
 "cells": [
  {
   "cell_type": "markdown",
   "metadata": {},
   "source": [
    "# Klaidos iššaukimas"
   ]
  },
  {
   "cell_type": "markdown",
   "metadata": {},
   "source": [
    "`Exception handling` yra labai svarbus programavimo konceptas kuris leidžia programuotojams sužinoti kad programoje atsirado klaida ir ji turi būti uždaryta. \n",
    "\n",
    "Python turi įvairių iššimčių kurios leidžia programuotojams pagauti ir susitvarkyti su klaidomis vėliau."
   ]
  },
  {
   "cell_type": "markdown",
   "metadata": {},
   "source": [
    "## Klaidos iššaukimas su `raise`"
   ]
  },
  {
   "cell_type": "markdown",
   "metadata": {},
   "source": [
    "`raise` teiginys leidžia pagauti klaidą kai programa yra leidžiama.\n",
    "\n",
    "**Pavyzdžiui**:"
   ]
  },
  {
   "cell_type": "code",
   "execution_count": null,
   "metadata": {},
   "outputs": [],
   "source": [
    "raise ValueError(\"Neteisingas argumentas\")  # raise ValueError(\"Neteisingas argumentas\")"
   ]
  },
  {
   "cell_type": "markdown",
   "metadata": {},
   "source": [
    "`raise` komanda gali būti naudojama bet kur, kur programoje reikia iššaukti klaidą. Galima naudoti pritaikytas klaidų klases. \n",
    "\n",
    "**Pavyzdžiui**:"
   ]
  },
  {
   "cell_type": "code",
   "execution_count": null,
   "metadata": {},
   "outputs": [],
   "source": [
    "class MyError(Exception):\n",
    "    pass\n",
    "\n",
    "raise MyError(\"Nepavyko atidaryti failo\")  # __main__.MyError: Nepavyko atidaryti failo\n"
   ]
  },
  {
   "cell_type": "markdown",
   "metadata": {},
   "source": [
    "Dažniausiai, klaidos yra išaukiamos kai fukcija grįžta per  `return` komandą su žinute kuri informuoja apie klaidą. \n",
    "\n",
    "**Pavyzdžiui**:"
   ]
  },
  {
   "cell_type": "code",
   "execution_count": null,
   "metadata": {},
   "outputs": [],
   "source": [
    "def division(x, y):\n",
    "    if y == 0:\n",
    "        raise ZeroDivisionError(\"Dalyba iš nulio negalima\")\n",
    "    return x / y\n",
    "\n",
    "try:\n",
    "    result = division(10, 0)\n",
    "except ZeroDivisionError as e:\n",
    "    print(e)  # Dalyba iš nulio negalima\n",
    "else:\n",
    "    print(result)"
   ]
  },
  {
   "cell_type": "markdown",
   "metadata": {},
   "source": [
    "### Greita Užduotis 1: klaidų iššaukimas su `raise`\n",
    "\n",
    "1. Sukurkite Python programą, kuri apibrėžia funkciją.\n",
    "1. Funkcijoje patikrinkite, ar nurodytas skaičius yra neigiamas.\n",
    "– Jei taip, iškelkite tinkintą išimtį, pavadintą `NegativeNumberError` su pranešimu „Skaičius negali būti neigiamas“.\n",
    "- Naudokite blokus `try` ir `except`, kad iškviestumėte funkciją ir tvarkytumėte tinkintą išimtį."
   ]
  },
  {
   "cell_type": "code",
   "execution_count": null,
   "metadata": {},
   "outputs": [],
   "source": [
    "# Jūsų kodo vieta"
   ]
  },
  {
   "cell_type": "markdown",
   "metadata": {},
   "source": [
    "## Klaidų iššaukimas su `raise Exception`\n",
    "`raise` komanda gali būtu naudojama su bet kokia klaidų klase, kaip pavyzdžiui `Exception`. "
   ]
  },
  {
   "cell_type": "code",
   "execution_count": null,
   "metadata": {},
   "outputs": [],
   "source": [
    "raise Exception('Klaidos Žinutė')  # Exception: Klaidos Žinutė"
   ]
  },
  {
   "cell_type": "markdown",
   "metadata": {},
   "source": [
    "Prieš tai buvęs `ZeroDivisionError` pavyzdys veikia su `Exception` :"
   ]
  },
  {
   "cell_type": "code",
   "execution_count": null,
   "metadata": {},
   "outputs": [],
   "source": [
    "def division(x, y):\n",
    "    if y == 0:\n",
    "        raise Exception(\"Dalyba iš nulio negalima\")\n",
    "    return x / y\n",
    "\n",
    "try:\n",
    "    result = division(10, 0)\n",
    "except Exception as e:\n",
    "    print(e)  # Dalyba iš nulio negalima\n",
    "else:\n",
    "    print(result)\n"
   ]
  },
  {
   "cell_type": "markdown",
   "metadata": {},
   "source": [
    "Rekomenduojama naudoti specializuotas klaidų klases, nes jos gali pagerinti klaidų tvarkymą ir aiškumą, nes skirtingi klaidų tipai gali būti tvarkomi skirtingai.\n",
    "\n",
    "Tačiau jei nėra aiškių naudojimo atvejų, geriau naudoti `Exception` klasę. Tai daryti saugu, bet nebūtinai efektyvu ar patogu, jei yra daug klaidų, kurias reikėtų tvarkyti kitaip."
   ]
  },
  {
   "cell_type": "markdown",
   "metadata": {},
   "source": [
    "### Greita Užduotis 2: Klaidų išaukimas su raise Exception\n",
    "\n",
    "Užduotis:\n",
    "\n",
    "1. Sukurkite Python programą, kuri apibrėžtų funkciją dalybai atlikti.\n",
    "- Jeigu dalyba vykdoma iš nulio, sukelkite `Exception` klaidą su žinute \"Dalyba iš nulio negalima\".\n",
    "- Naudokite `try` ir `except` blokus funkcijai iškviesti ir klaidai apdoroti."
   ]
  },
  {
   "cell_type": "code",
   "execution_count": null,
   "metadata": {},
   "outputs": [],
   "source": [
    "# Your code is here"
   ]
  },
  {
   "cell_type": "markdown",
   "metadata": {},
   "source": [
    "## Klaidos iššaukimas su `raise ValueError`"
   ]
  },
  {
   "cell_type": "markdown",
   "metadata": {},
   "source": [
    "`raise ValueError` komanda naudinga, kai reikia informuoti apie neleistiną argumentą ar reikšmę.\n",
    "\n",
    "**Pavyzdžiui**:"
   ]
  },
  {
   "cell_type": "code",
   "execution_count": null,
   "metadata": {},
   "outputs": [],
   "source": [
    "def skaiciu_kubas(skaicius):\n",
    "    if not isinstance(skaicius, int):\n",
    "        raise ValueError(\"Funkcija veikia tik su sveikais skaičiais\")\n",
    "    return skaicius ** 3\n",
    "\n",
    "try:\n",
    "    kubas = skaiciu_kubas(1.5)\n",
    "except ValueError as e:\n",
    "    print(e) # Funkcija veikia tik su sveikais skaičiais\n",
    "else:\n",
    "    print(kubas)"
   ]
  },
  {
   "cell_type": "markdown",
   "metadata": {},
   "source": [
    "### Greita užduotis 3: Išimčių išaukimas su `ValueError`\n",
    "\n",
    "Užduotis:\n",
    "\n",
    "1. Parašykite Python programą, kuri apibrėžia funkciją skaičiaus kvadratui apskaičiuoti.\n",
    "\n",
    "- Jei įvestis nėra skaičius (pvz., eilutė ar kito tipo), iškelkite `ValueError` su pranešimu „Įvestis turi būti skaičius“.\n",
    "- Naudokite `try` ir `except` blokus, kad iškviestumėte funkciją ir sutvarkytumėte `ValueError`."
   ]
  },
  {
   "cell_type": "code",
   "execution_count": null,
   "metadata": {},
   "outputs": [],
   "source": [
    "# Jūsų kodas"
   ]
  }
 ],
 "metadata": {
  "kernelspec": {
   "display_name": "Python 3",
   "language": "python",
   "name": "python3"
  },
  "language_info": {
   "codemirror_mode": {
    "name": "ipython",
    "version": 3
   },
   "file_extension": ".py",
   "mimetype": "text/x-python",
   "name": "python",
   "nbconvert_exporter": "python",
   "pygments_lexer": "ipython3",
   "version": "3.10.12"
  }
 },
 "nbformat": 4,
 "nbformat_minor": 2
}
