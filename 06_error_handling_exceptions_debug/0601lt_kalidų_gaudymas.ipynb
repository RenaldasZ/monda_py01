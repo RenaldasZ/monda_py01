{
 "cells": [
  {
   "cell_type": "markdown",
   "metadata": {},
   "source": [
    "# Klaidų Gaudymas"
   ]
  },
  {
   "cell_type": "markdown",
   "metadata": {},
   "source": [
    "Klaidų gaudymas yra esminė programavimo dalis, leidžianti efektyviai tvarkyti išimtis (exceptions) ir nepageidaujamus nesklandumus programos vykdymo metu. Python programavimo kalboje klaidų gaudymas įgyvendinamas naudojant `try` ir `except` raktažodžius, sudarant blokus.\n",
    "\n",
    "`try` blokas leidžia bandyti vykdyti kodą, kuris gali sukelti klaidą, o `except` blokas suteikia galimybę sugauti ir tvarkyti išimtį, jei ji įvyksta. Tai leidžia programuotojams kurti atsparesnias ir patikimesnias programas, užtikrinant, kad jos tęs veikimą net ir susidūrus su netikėtomis situacijomis."
   ]
  },
  {
   "cell_type": "markdown",
   "metadata": {},
   "source": [
    "## `try` `except` blokas"
   ]
  },
  {
   "cell_type": "markdown",
   "metadata": {},
   "source": [
    "Jeigu vykdymo metu `try` bloke iškyla klaida, programa nebaigia veikti, o vietoj to vykdymas perkeliamas į `except` bloką. `except` bloke yra aprašomas kodo fragmentas, kuris vykdomas tada, kai `try` bloke randama klaida."
   ]
  },
  {
   "cell_type": "code",
   "execution_count": null,
   "metadata": {},
   "outputs": [],
   "source": [
    "try:\n",
    "    a = 10 / 0\n",
    "except:\n",
    "    print(\"Klaida!\")  # Klaida!"
   ]
  },
  {
   "cell_type": "markdown",
   "metadata": {},
   "source": [
    "Galima nurodyti konkrečią klaidą `except` bloke (pvz. `TypeError`, `ValueError`, `ZeroDivisionError` ar kt.), tokiu atveju vykdymas eina į `except` bloką tik tada, jei `try` blokas sukelia nurodytą klaidą. Pavyzdžiui.:\n",
    "\n",
    "**Pavyzdžiui:**"
   ]
  },
  {
   "cell_type": "code",
   "execution_count": null,
   "metadata": {},
   "outputs": [],
   "source": [
    "try:\n",
    "    x = 5 / 0\n",
    "except ZeroDivisionError:\n",
    "    print(\"Negalima dalinti iš nulio!\")  # Dalyba iš nulio negalima!"
   ]
  },
  {
   "cell_type": "markdown",
   "metadata": {},
   "source": [
    "## Ignoruojam klaidą su `except: pass`\n",
    "\n",
    "Kartais, kai įvyksta tam tikra klaida, jums nereikia imtis jokių veiksmų. Tokiu atveju galite naudoti konstrukciją `except: pass`, kuri tiesiog praleidžia klaidų tvarkymą ir tęsia programos vykdymą. \n",
    "\n",
    "**Pavyzdžiui:**"
   ]
  },
  {
   "cell_type": "code",
   "execution_count": null,
   "metadata": {},
   "outputs": [],
   "source": [
    "try:\n",
    "    x = 5 / 0\n",
    "except ZeroDivisionError:\n",
    "    pass"
   ]
  },
  {
   "cell_type": "markdown",
   "metadata": {},
   "source": [
    "Kartais, kai įvyksta tam tikra klaida, jums nereikia imtis jokių veiksmų. Tokiu atveju galite naudoti konstrukciją `except: pass`, kuri tiesiog praleidžia klaidų tvarkymą ir tęsia programos vykdymą."
   ]
  },
  {
   "cell_type": "markdown",
   "metadata": {},
   "source": [
    "## `else` ir `finally` po `try` `except`"
   ]
  },
  {
   "cell_type": "markdown",
   "metadata": {},
   "source": [
    "Programavime `else` ir `finally` yra papildomi blokai, kurie gali būti naudojami kartu su `try` ir `except`. \n",
    "\n",
    "`else` blokas yra naudojamas po `try` ir `except` blokų ir jame esantis kodas įvykdomas tik tada, kai `try` bloke neįvyksta jokių klaidų.\n",
    "\n",
    "**Pavyzdžiui:**"
   ]
  },
  {
   "cell_type": "code",
   "execution_count": null,
   "metadata": {},
   "outputs": [],
   "source": [
    "try:\n",
    "    result = 10 / 2\n",
    "except ZeroDivisionError:\n",
    "    print(\"Negalima dalinti iš nulio!\")\n",
    "else:\n",
    "    print(\"Rezultatas yra\", result)  # Rezultatas yra 5.0"
   ]
  },
  {
   "cell_type": "markdown",
   "metadata": {},
   "source": [
    "`finally` blokas programavime yra naudojamas tam, kad užtikrintų tam tikrų svarbių veiksmų atlikimą po to, kai bandoma vykdyti kodą `try` bloke, neatsižvelgiant į tai, ar ten įvyko klaida, ar ne. Pavyzdžiui, jis gali būti naudojamas norint išvalyti failus ar atsijungti nuo duomenų bazės, kai pagrindinis kodas jau buvo išbandytas."
   ]
  },
  {
   "cell_type": "code",
   "execution_count": null,
   "metadata": {},
   "outputs": [],
   "source": [
    "try:\n",
    "    result = 10 / 0\n",
    "except ZeroDivisionError:\n",
    "    print(\"Negalima dalinti iš nulio!\")\n",
    "finally:\n",
    "    print(\"Programa baigė vykdymą\")"
   ]
  },
  {
   "cell_type": "markdown",
   "metadata": {},
   "source": [
    "## Skirtingų klaidų apdorojimas vienam `try` kodo blokui su keliais `Except`"
   ]
  },
  {
   "cell_type": "markdown",
   "metadata": {},
   "source": [
    "Norint apdoroti skirtingas klaidas viename `try` bloke, galima naudoti kelis `except` blokus su skirtingomis klaidomis.\n",
    "\n",
    "**Pavyzdžiui:**"
   ]
  },
  {
   "cell_type": "code",
   "execution_count": null,
   "metadata": {},
   "outputs": [],
   "source": [
    "try:\n",
    "    skaicius = int(input(\"Įveskite skaičių: \"))\n",
    "    rezultatas = 10 / skaicius\n",
    "except ZeroDivisionError:\n",
    "    print(\"Negalima dalinti iš nulio\")\n",
    "except ValueError:\n",
    "    print(\"Neteisingas skaičiaus formatas\")\n",
    "else:\n",
    "    print(\"Rezultatas yra:\", rezultatas)"
   ]
  },
  {
   "cell_type": "markdown",
   "metadata": {},
   "source": [
    "Be to, galima naudoti bendrą `except` bloką, kuris pagaus bet kokią klaidą, kuri nėra apdorota ankstesniuose `except` blokuose. Šis blokas dažniausiai naudojamas kaip pagalbinis, kad apsaugotų programą nuo neplanuoto elgesio."
   ]
  },
  {
   "cell_type": "code",
   "execution_count": null,
   "metadata": {},
   "outputs": [],
   "source": [
    "try:\n",
    "    skaicius = int(input(\"Įveskite skaičių: \"))\n",
    "    rezultatas = 10 / skaicius\n",
    "except ZeroDivisionError:\n",
    "    print(\"Negalima dalyba iš nulio\")\n",
    "except ValueError:\n",
    "    print(\"Netinkamas skaičiaus formatas\")\n",
    "except:\n",
    "    print(\"Įvyko klaida\")\n",
    "else:\n",
    "    print(\"Rezultatas yra:\", rezultatas)"
   ]
  },
  {
   "cell_type": "markdown",
   "metadata": {},
   "source": [
    "Kombinuojant šias konstrukcijas, galima sukurti labai galingą ir lankstų klaidų valdymo mechanizmą, kuris leidžia kontroluoti programos vykdymo eigą ir užtikrinti, kad klaidos neleistų programai nulūžti arba sukeltų neplanuotą elgesį."
   ]
  },
  {
   "cell_type": "markdown",
   "metadata": {},
   "source": [
    "## Alternatyva: `if` ir `else` naudojimas"
   ]
  },
  {
   "cell_type": "markdown",
   "metadata": {},
   "source": [
    "Galima atlikti klaidų gaudymą naudojant `if-else` Sąlyga. Kaip alternatyva `try-except` metodui. \n",
    "\n",
    "**Pavyzdžiui:**"
   ]
  },
  {
   "cell_type": "code",
   "execution_count": null,
   "metadata": {},
   "outputs": [],
   "source": [
    "skaicius = input(\"Įveskite skaičių: \")\n",
    "\n",
    "if skaicius.isdigit():\n",
    "    skaicius = int(skaicius)\n",
    "    if skaicius == 0:\n",
    "        print(\"Dalyba iš nulio negalima\")\n",
    "    else:\n",
    "        rezultatas = 10 / skaicius\n",
    "        print(\"Rezultatas yra: \", rezultatas)\n",
    "else:\n",
    "    print(\"Negalimas skaičiaus fromatas\")\n",
    "\n"
   ]
  },
  {
   "cell_type": "markdown",
   "metadata": {},
   "source": [
    "Rezultatas:"
   ]
  },
  {
   "cell_type": "markdown",
   "metadata": {},
   "source": [
    "Įveskite skaičių: 0\n",
    "Dalyba iš nulio negalima\n",
    "\n",
    "Įveskite skaičių: du\n",
    "Negalimas skaičiaus formatas\n",
    "\n",
    "Įveskite skaičių: 3\n",
    "Rezultatas yra: 3.3333333333333335"
   ]
  },
  {
   "cell_type": "markdown",
   "metadata": {},
   "source": [
    "Šis metodas turi privalumų ir trūkumų. Vienas privalumas yra tai, kad jis gali būti paprastesnis nei try except metodas, ypač jei norime apdoroti tik vieną klaidą. Tačiau, kai turime apdoroti daug klaidų, pavyzdžiui, jei turime apdoroti penkis skirtingus klaidų tipus, mes turime rašyti penkias atskiras sąlygas, kas gali padaryti kodą pernelyg ilgą ir neskaitomą.\n"
   ]
  },
  {
   "cell_type": "markdown",
   "metadata": {},
   "source": [
    "### Užduotis:\n",
    "\n",
    "1. Parašykite programą, kuri leidžia vartotojui įvesti du skaičius ir atspausdina jų dalmenį.\n",
    "1. Jei vartotojas įveda tekstą arba dalina iš nulio, programa turi sugauti klaidą ir atspausdinti klaidos pranešimą."
   ]
  },
  {
   "cell_type": "code",
   "execution_count": null,
   "metadata": {},
   "outputs": [],
   "source": [
    "# Jūsų kodo vieta"
   ]
  }
 ],
 "metadata": {
  "language_info": {
   "name": "python"
  }
 },
 "nbformat": 4,
 "nbformat_minor": 2
}
