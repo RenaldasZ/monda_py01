{
 "cells": [
  {
   "cell_type": "markdown",
   "metadata": {},
   "source": [
    "# Testavimas ir testų kūrimo praktikos"
   ]
  },
  {
   "cell_type": "markdown",
   "metadata": {},
   "source": [
    "## Testavimo teorija\n",
    "\n",
    "Testavimas – tai procesas, kurio metu patikrinama, ar programinė įranga atitinka keliamus reikalavimus ir veikia be klaidų. Yra du pagrindiniai testavimo metodai: `rankinis` ir `automatizuotas`."
   ]
  },
  {
   "cell_type": "markdown",
   "metadata": {},
   "source": [
    "## Rankinis testavimas\n",
    "\n",
    "Rankinis testavimas - tai testavimo metodas, kai testuotojas atlieka testus be specializuotų įrankių pagalbos. Rankinis testavimas gali būti naudingas pradiniam programinės įrangos veikimo įvertinimui, tačiau jis reikalauja daug laiko ir kelia riziką įsivelti žmogiškąsias klaidas."
   ]
  },
  {
   "cell_type": "markdown",
   "metadata": {},
   "source": [
    "## Automatizuotas testavimas\n",
    "\n",
    "Automatizuotas testavimas - tai testavimo metodas, kai testai atliekami naudojant specializuotas programas ir skriptus. Python kalboje yra keletas bibliotekų, skirtų automatizuotam testavimui, pavyzdžiui, unittest, pytest ir kt."
   ]
  },
  {
   "cell_type": "markdown",
   "metadata": {},
   "source": [
    "## Unittest biblioteka\n",
    "\n",
    "`unittest` yra Python standardinė modulinė testavimo biblioteka, skirta automatizuotam testavimui. Joje yra siūlomos funkcijos unit testų kūrimui ir vykdymui, bei tvarkingam rezultatų patikrinimui."
   ]
  },
  {
   "cell_type": "markdown",
   "metadata": {},
   "source": [
    "## Assert Metodai\n",
    "\n",
    "Assert metodai, esantys `unittest` bibliotekoje, leidžia tikrinti, ar testo rezultatas atitinka lūkesčius. Jie yra svarbūs formuojant teiginius, kurie patvirtina arba paneigia testavimo metu gautus duomenis."
   ]
  },
  {
   "cell_type": "code",
   "execution_count": null,
   "metadata": {},
   "outputs": [],
   "source": [
    "import unittest\n",
    "\n",
    "class TestAssertMethods(unittest.TestCase):\n",
    "    def test_assertEqual(self):\n",
    "        self.assertEqual(3 + 2, 5)\n",
    "\n",
    "    def test_assertTrue(self):\n",
    "        self.assertTrue(3 < 5)\n",
    "\n",
    "    def test_assertFalse(self):\n",
    "        self.assertFalse(5 < 3)\n",
    "\n",
    "    def test_assertIs(self):\n",
    "        a = [1, 2, 3]\n",
    "        b = a\n",
    "        self.assertIs(a, b)\n",
    "\n",
    "    def test_assertIsNone(self):\n",
    "        self.assertIsNone(None)\n",
    "\n",
    "if __name__ == '__main__':\n",
    "    unittest.main()"
   ]
  },
  {
   "cell_type": "markdown",
   "metadata": {},
   "source": [
    "Čia pateikti pavyzdžiai demonstruoja, kaip naudoti įvairius `assert` metodus `unittest` bibliotekoje:\n",
    "\n",
    "- `test_assertEqual`: patikrina, ar 3 + 2 yra lygu 5. \n",
    "- `test_assertTrue`: patikrina, ar sąlyga 3 < 5 yra teisinga (True). \n",
    "- `test_assertFalse`: patikrina, ar sąlyga 5 < 3 yra neteisinga (False). \n",
    "- `test_assertIs`: patikrina, ar kintamieji 'a' ir 'b' yra tas pats objektas. \n",
    "- `test_assertIsNone`: patikrina, ar funkcija grąžina None reikšmę."
   ]
  },
  {
   "cell_type": "markdown",
   "metadata": {},
   "source": [
    "## Testo paleidimas komandinėje eilutėje\n",
    "\n",
    "Testą galite paleisti komandinėje eilutėje naudodami šią komandą:"
   ]
  },
  {
   "cell_type": "code",
   "execution_count": null,
   "metadata": {},
   "outputs": [],
   "source": [
    "python -m unittest test_example.py"
   ]
  },
  {
   "cell_type": "markdown",
   "metadata": {},
   "source": [
    "## Testo paleidimas su `unittest.main()`"
   ]
  },
  {
   "cell_type": "markdown",
   "metadata": {},
   "source": [
    "Testą taip pat galite paleisti naudodami `unittest.main()` funkciją:"
   ]
  },
  {
   "cell_type": "code",
   "execution_count": null,
   "metadata": {},
   "outputs": [],
   "source": [
    "if __name__ == '__main__':\n",
    "    unittest.main()"
   ]
  },
  {
   "cell_type": "markdown",
   "metadata": {},
   "source": [
    "## False positive pavyzdys"
   ]
  },
  {
   "cell_type": "markdown",
   "metadata": {},
   "source": [
    "False positive - tai klaidingas teigiamas rezultatas, kai testas praeina, bet turėtų nepavykti.\n",
    "\n",
    "Pavyzdys su nesuderinamu palyginimu:"
   ]
  },
  {
   "cell_type": "code",
   "execution_count": null,
   "metadata": {},
   "outputs": [],
   "source": [
    "import unittest\n",
    "\n",
    "def divide(x, y):\n",
    "    return x / y\n",
    "\n",
    "class TestDivideFunction(unittest.TestCase):\n",
    "    def test_integer_division(self):\n",
    "        self.assertEqual(divide(10, 2), 10 // 2)  # False positive: 5.0 == 5\n",
    "\n",
    "if __name__ == '__main__':\n",
    "    unittest.main()"
   ]
  },
  {
   "cell_type": "markdown",
   "metadata": {},
   "source": [
    "Šiame pavyzdyje turime false positive situaciją, nes naudojame nesuderinamas operacijas (/ ir //). Testas praeina, nes Python automatiškai paverčia 5.0 į 5 palyginimo metu. Tačiau iš tikrųjų turėtume naudoti `assertAlmostEqual`, kad patikrintume, ar rezultatai yra pakankamai artimi, o ne tiesiog lygūs.\n",
    "\n",
    "Pavyzdys su klaidinga logika:"
   ]
  },
  {
   "cell_type": "code",
   "execution_count": null,
   "metadata": {},
   "outputs": [],
   "source": [
    "import unittest\n",
    "\n",
    "def is_prime(n):\n",
    "    if n <= 1: \n",
    "        return False\n",
    "    for i in range(2, n):\n",
    "        if n % i == 0:\n",
    "            return False\n",
    "    return True # Klaidinga logika nes range(2, 2) negražina nieko. Tada kodas tiesiog praleidžia 2 kaip pirminį.\n",
    "\n",
    "class TestIsPrimeFunction(unittest.TestCase):\n",
    "    def test_prime(self):\n",
    "        self.assertTrue(is_prime(2))\n",
    "        self.assertTrue(is_prime(3))\n",
    "        self.assertTrue(is_prime(5))\n",
    "        self.assertTrue(is_prime(7))\n",
    "        self.assertTrue(is_prime(11))\n",
    "\n",
    "    def test_non_prime(self):\n",
    "        self.assertFalse(is_prime(4))\n",
    "        self.assertFalse(is_prime(6))\n",
    "        self.assertFalse(is_prime(8))\n",
    "        self.assertFalse(is_prime(9))\n",
    "        self.assertFalse(is_prime(10))\n",
    "        self.assertFalse(is_prime(12))\n",
    "\n",
    "if __name__ == '__main__':\n",
    "    unittest.main()"
   ]
  },
  {
   "cell_type": "markdown",
   "metadata": {},
   "source": [
    "Šiame pavyzdyje testas test_prime praeina dėl klaidingos logikos is_prime funkcijoje. Nors ši funkcija teisingai nustato, ar skaičius nėra pirminis, ji nepatikrina, ar skaičius yra 2. Dėl šios klaidingos logikos testas praeina, nors turėtų nepavykti.\n",
    "\n",
    "Norint išvengti false positive, svarbu užtikrinti, kad testai būtų kruopščiai suprojektuoti ir tikrintų visus galimus scenarijus, o funkcijos būtų korektiškai įgyvendintos."
   ]
  },
  {
   "cell_type": "markdown",
   "metadata": {},
   "source": [
    "## Objektų klasių testavimas, `setUp()` metodas"
   ]
  },
  {
   "cell_type": "markdown",
   "metadata": {},
   "source": [
    "`setUp()` metodas yra `unittest` bibliotekos metodas, kuris leidžia jums nustatyti pradines reikšmes prieš kiekvieną testą.\n",
    "\n",
    "Pavyzdys:"
   ]
  },
  {
   "cell_type": "code",
   "execution_count": null,
   "metadata": {},
   "outputs": [],
   "source": [
    "import unittest\n",
    "\n",
    "class MyClass:\n",
    "    def __init__(self, x):\n",
    "        self.x = x\n",
    "\n",
    "    def add(self, y):\n",
    "        return self.x + y\n",
    "\n",
    "class TestMyClass(unittest.TestCase):\n",
    "    def setUp(self): \n",
    "        self.obj = MyClass(5)\n",
    "\n",
    "    def test_add(self):\n",
    "        self.assertEqual(self.obj.add(3), 8)\n",
    "\n",
    "if __name__ == '__main__':\n",
    "    unittest.main()"
   ]
  },
  {
   "cell_type": "markdown",
   "metadata": {},
   "source": [
    "Sukuriame testavimo klasę `TestMyClass`, kuri paveldi iš `unittest.TestCase`. \n",
    "\n",
    "- TestMyClass klasėje aprašome `setUp()` metodą. \n",
    "- Prieš kiekvieną testą sukuriamas naujas MyClass objektas su x reikšme lygia 5. \n",
    "- `test_add` testas patikrina, ar add metodas veikia teisingai. \n",
    "- Testas naudoja `assertEqual()` funkciją, kad patikrintų, ar self.obj.add(3) grąžina 8, kaip tikimasi."
   ]
  },
  {
   "cell_type": "markdown",
   "metadata": {},
   "source": [
    "## TDD (Test Driven Development) metodologija"
   ]
  },
  {
   "cell_type": "markdown",
   "metadata": {},
   "source": [
    "Test Driven Development (TDD) yra programavimo metodologija, kurioje pirmiausia parašomi testai, o tik po to - pati funkcionalumo realizuojanti programinė įranga. Tai padeda iš anksto apibrėžti, koks turėtų būti funkcionalumas, ir užtikrinti, kad programinė įranga veiks pagal prieš tai nustatytus reikalavimus."
   ]
  },
  {
   "cell_type": "markdown",
   "metadata": {},
   "source": [
    "### TDD proceso etapai"
   ]
  },
  {
   "cell_type": "markdown",
   "metadata": {},
   "source": [
    "- Parašyti testą, kuris dar nepavyksta.\n",
    "- Parašyti minimalų kodą, kad testas praeitų.\n",
    "- Refaktorizuoti kodą, kad jis atitiktų gerąją programavimo praktiką.\n",
    "- Pakartoti 1-3 etapus, kol visi reikalavimai bus įgyvendinti.\n",
    "\n",
    "Tarkime, kad turime šią TDD užduotį: Sukurti kalkuliatorių, kuris gali atlikti sudėties operaciją.\n",
    "\n",
    "- Parašome testą, kuris dar nepavyksta"
   ]
  },
  {
   "cell_type": "code",
   "execution_count": 5,
   "metadata": {},
   "outputs": [],
   "source": [
    "class TestCalculator(unittest.TestCase):\n",
    "    def setUp(self):\n",
    "        self.calc = Calculator()\n",
    "\n",
    "    def test_add(self):\n",
    "        self.assertEqual(self.calc.add(3, 5), 8)"
   ]
  },
  {
   "cell_type": "markdown",
   "metadata": {},
   "source": [
    "Testas test_add tikrina, ar Calculator klasės add metodas teisingai atlieka sudėtį. Tikimasi, kad suma 3 ir 5 bus lygi 8.\n",
    "\n",
    "- Parašome minimalų kodą, kad testas veiktų"
   ]
  },
  {
   "cell_type": "code",
   "execution_count": 4,
   "metadata": {},
   "outputs": [],
   "source": [
    "class Calculator:\n",
    "    def add(self, x, y):\n",
    "        pass"
   ]
  },
  {
   "cell_type": "markdown",
   "metadata": {},
   "source": [
    "Šiuo metu add metodas yra tuščias (naudoja pass komandą). Tai reiškia, kad jis nieko nedaro ir nieko negrąžina. Dėl šios priežasties test_add testas nepavyks, nes self.calc.add(3, 5) grąžins None, o ne 8.\n",
    "\n",
    "- Parašome minimalų kodą, kad testas praeitų"
   ]
  },
  {
   "cell_type": "code",
   "execution_count": 6,
   "metadata": {},
   "outputs": [],
   "source": [
    "class Calculator:\n",
    "    def add(self, x, y):\n",
    "        return x + y"
   ]
  },
  {
   "cell_type": "markdown",
   "metadata": {},
   "source": [
    "Šiame etape add metodas buvo pakeistas, kad grąžintų x ir y sumą. Dabar test_add testas turėtų pavykti, nes self.calc.add(3, 5) grąžins 8, kaip tikimasi."
   ]
  },
  {
   "cell_type": "markdown",
   "metadata": {},
   "source": [
    "- Refaktorizuoti kodą, kad jis atitiktų gerąją programavimo praktiką\n",
    "\n",
    "Šiuo atveju kodo refaktorizavimas nėra būtinas, nes klasė Calculator ir jos metodas add yra pakankamai paprasti ir aiškūs.\n",
    "\n",
    "- Pakartoti 1-3 etapus, kol visi reikalavimai bus įgyvendinti.\n",
    "\n",
    "Šiame pavyzdyje reikalavimas buvo įgyvendinti sudėties funkcija. Jei būtų papildomų reikalavimų (pvz., atimties, daugybos ir dalybos funkcijos), turėtumėte pakartoti TDD proceso etapus kiekvienam iš jų.\n",
    "\n",
    "TDD procesas padeda užtikrinti, kad funkcijos veikia teisingai ir, kad jūsų kodas yra tvarkingas bei lengvai suprantamas. Be to, jis padeda išvengti galimų klaidų ir palengvina programos priežiūrą."
   ]
  },
  {
   "cell_type": "markdown",
   "metadata": {},
   "source": [
    "### Užduotis"
   ]
  },
  {
   "cell_type": "markdown",
   "metadata": {},
   "source": [
    "TDD principu parašykite programą \"paskolos kalkuliatorius\".\n",
    "\n",
    "- sukurkite testą paskolos kalkuliatoriaus programai, kur paskolos objektui galima nustatyti paskolos dydį, metines palūkanas ir terminą. Testavimo scenarijus turi patikrinti kelis teisingus paskolos palūkanų, pabrangimo, mokėjimo grafiko scenarijus.\n",
    "\n",
    "- sukurkite programą, kuri veikia su aukščiau įgyvendintu testu."
   ]
  },
  {
   "cell_type": "code",
   "execution_count": null,
   "metadata": {},
   "outputs": [],
   "source": []
  }
 ],
 "metadata": {
  "kernelspec": {
   "display_name": "venv",
   "language": "python",
   "name": "python3"
  },
  "language_info": {
   "codemirror_mode": {
    "name": "ipython",
    "version": 3
   },
   "file_extension": ".py",
   "mimetype": "text/x-python",
   "name": "python",
   "nbconvert_exporter": "python",
   "pygments_lexer": "ipython3",
   "version": "3.10.12"
  }
 },
 "nbformat": 4,
 "nbformat_minor": 2
}
