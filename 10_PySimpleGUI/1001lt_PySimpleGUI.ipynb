{
 "cells": [
  {
   "cell_type": "markdown",
   "metadata": {},
   "source": [
    "# PySimpleGUI"
   ]
  },
  {
   "cell_type": "markdown",
   "metadata": {},
   "source": [
    "`PySimpleGUI` yra biblioteka, kuri yra sukurta būtent tam, kad būtų paprasta naudoti ir leistų greitai sukurti grafinę vartotojo sąsają (GUI). "
   ]
  },
  {
   "cell_type": "markdown",
   "metadata": {},
   "source": [
    "## Funkcionalumas\n",
    "\n",
    "- **Paprastumas**: PySimpleGUI leidžia greitai ir lengvai kurti GUI.\n",
    "- **Palaikymas**: Prieinamas per `tkinter`, taip pat yra versijos naudojančios `Qt`, `wxPython`, ir `Remi`.\n",
    "- **Daugialangis dizainas**: Galima kurti sudėtingas programas su keletu langų.\n",
    "- **Dažnas valdiklių pasirinkimas**: Palaiko daugelį standartinių GUI valdiklių.\n",
    "- **Temų ir spalvų pritaikymas**: Leidžia pritaikyti GUI temą ir spalvas.\n",
    "- **Įvykių valdymas**: Įvykiais grįstas programavimas reaguoja į vartotojo veiksmus.\n",
    "- **Išsami dokumentacija**: Prieinama ir informatyvi dokumentacija vartotojams."
   ]
  },
  {
   "cell_type": "markdown",
   "metadata": {},
   "source": [
    "## Instaliavimas\n",
    "\n",
    "- Prieš pradedant, įsitikinkite, kad įdiegėte PySimpleGUI. Galite jį įdiegti naudodami pip:\n",
    "\n",
    "`pip install PySimpleGUI`\n",
    "\n",
    "`pip freeze >requirements.txt`"
   ]
  },
  {
   "cell_type": "markdown",
   "metadata": {},
   "source": [
    "## Išdėstymo elementai (Element layouts)\n",
    "\n",
    "Tai svarbu, nes išdėstymo elementai yra GUI širdis ir siela, leidžiantys jums struktūrizuoti ir organizuoti vizualinį turinį, kurį matys vartotojas."
   ]
  },
  {
   "cell_type": "markdown",
   "metadata": {},
   "source": [
    "- **Pagrindiniai Komponentai**: Mygtukai, tekstas, įvedimo laukai, žymės laukeliai ir kt.\n",
    "- **Sudėtingesni Valdikliai**: Lentelės, slankikliai (sliders), kalendoriai, kortelių (tabs) elementai ir daugiau.\n",
    "- **Išdėstymo Valdymas**: Kaip naudoti rėmelius (frames), stulpelius (columns) ir eilutes (rows) efektyviam GUI išdėstymui.\n",
    "- **Sąveika tarp Elementų**: Kaip valdikliai gali sąveikauti tarpusavyje, pavyzdžiui, keičiant vieno valdiklio būseną remiantis kito valdiklio veiksmu.\n",
    "- **Grafinio Dizaino Principai**: Kaip tinkamas išdėstymas ir dizainas gali pagerinti vartotojo patirtį.\n",
    "- **Responsyvumas**: Užtikrinant, kad GUI tinkamai reaguoja į įvairaus dydžio langus ar ekrano rezoliucijas."
   ]
  },
  {
   "cell_type": "markdown",
   "metadata": {},
   "source": [
    "**Teksto valdiklis** (`sg.Text`)\n",
    "\n",
    "`sg.Text` yra teksto valdiklis, kuris rodo statinį tekstą GUI lange."
   ]
  },
  {
   "cell_type": "markdown",
   "metadata": {},
   "source": [
    "**Įvedimo teksto laukas** (`sg.InputText`)\n",
    "\n",
    "`sg.InputText` yra įvedimo laukas, leidžiantis vartotojui įvesti tekstą, kurį programa gali vėliau naudoti. Įvedimas gali būti vardo, slaptažodžio, URL ar bet kokios kitos informacijos įrašymas."
   ]
  },
  {
   "cell_type": "markdown",
   "metadata": {},
   "source": [
    "**Mygtuko valdikliai** (`sg.Button`)\n",
    "\n",
    "`sg.Button` yra mygtuko valdiklis. Mygtukai yra interaktyvūs elementai, kurie, kai paspaudžiami, gali leisti programai atlikti tam tikrą veiksmą."
   ]
  },
  {
   "cell_type": "markdown",
   "metadata": {},
   "source": [
    "**Langas** (`sg.Window`)\n",
    "\n",
    "`sg.Window` sukuria langą pagal anksčiau apibrėžtą išdėstymą (layout). Šis metodas taip pat nustato lango pavadinimą."
   ]
  },
  {
   "cell_type": "markdown",
   "metadata": {},
   "source": [
    "**Popup** (`sg.popup`)\n",
    "\n",
    "`sg.popup` yra funkcija, kuri rodo paprastą iššokantį pranešimą (popup) su tekstu ir patvirtinimo mygtuku."
   ]
  },
  {
   "cell_type": "code",
   "execution_count": null,
   "metadata": {},
   "outputs": [],
   "source": [
    "import PySimpleGUI as sg\n",
    "\n",
    "sg.popup(\"Sveiki\")"
   ]
  },
  {
   "cell_type": "code",
   "execution_count": null,
   "metadata": {},
   "outputs": [],
   "source": [
    "import PySimpleGUI as sg\n",
    "\n",
    "rezultatas = sg.popup_yes_no(\"Sveiki, ar patinka PySimpleGUI?\")\n",
    "\n",
    "if rezultatas == \"Yes\":\n",
    "    print(\"Puiku!\")\n",
    "else:\n",
    "    print(\"Oh no!\")"
   ]
  },
  {
   "cell_type": "markdown",
   "metadata": {},
   "source": [
    "Kiekvienas iš šių elementų yra būtina PySimpleGUI programos dalis, leidžianti sukurti interaktyvią ir naudotojui patogią grafikos vartotojo sąsają."
   ]
  },
  {
   "cell_type": "code",
   "execution_count": null,
   "metadata": {},
   "outputs": [],
   "source": [
    "import PySimpleGUI as sg\n",
    "\n",
    "# Išdėstymas nurodo valdiklių išsidėstymą lange: tekstą, įvedimo lauką ir mygtukus\n",
    "layout = [\n",
    "    [sg.Text('Įveskite savo vardą:')],  # Teksto valdiklis, kuris rodo instrukciją\n",
    "    [sg.InputText()],  # Įvedimo teksto laukas vartotojui įvesti tekstą\n",
    "    [sg.Button('Pateikti'), sg.Button('Išeiti')]  # Mygtukai 'Pateikti' ir 'Išeiti'\n",
    "]\n",
    "\n",
    "# Sukuriame langą su anksčiau apibrėžtu išdėstymu ir pavadinimu\n",
    "window = sg.Window('Vartotojo Įvedimo Langas', layout)\n",
    "\n",
    "event, values = window.read()  # Skaityti įvykius ir vertes\n",
    "\n",
    "print(\"Sveiki\", values[0], \"! Ačiū, kad išbandėte PySimpleGUI\")\n",
    "sg.popup('Sveiki,', values[0])  # Rodyti iššokantį langą su sveikinimu ir įvestu vardu\n",
    "\n",
    "# Langą reikia uždaryti po naudojimo\n",
    "window.close()"
   ]
  },
  {
   "cell_type": "markdown",
   "metadata": {},
   "source": [
    "Eksperimentuodami su šiais elementais ir derindami juos įvairiais būdais, galite kurti vis sudėtingesnius ir funkcionalius GUI.\n",
    "\n",
    "Štai dar vienas pavyzdys:\n",
    "\n",
    "Pagrindinis skirtumas tarp anksčiau matyto vienkartinio lango ir interaktyvaus lango yra \"Įvykių Kilpa\". Įvykių kilpa skaito įvykius ir įvestis iš jūsų lango."
   ]
  },
  {
   "cell_type": "code",
   "execution_count": null,
   "metadata": {},
   "outputs": [],
   "source": [
    "import PySimpleGUI as sg\n",
    "\n",
    "# Apibrėžiame lango turinį su raktų (keys) priskyrimu elementams\n",
    "layout = [\n",
    "    [sg.Text('Įveskite savo vardą:')],\n",
    "    [sg.InputText(key='-INPUT-')],  # Pridėtas raktas įvedimo laukui\n",
    "    [sg.Text(size=(40,1), key='-OUTPUT-')],  # Teksto valdiklis rezultatams su priskirtu raktu\n",
    "    [sg.Button('Pateikti'), sg.Button('Išeiti')],\n",
    "]\n",
    "\n",
    "# Sukuriamas langas\n",
    "window = sg.Window('Lango Pavadinimas', layout)\n",
    "\n",
    "# Atvaizduojame ir bendraujame su langu, naudodami įvykių kilpą\n",
    "while True:\n",
    "    event, values = window.read()  # Skaityti įvykius ir vertes iš lango\n",
    "\n",
    "    # Žiūrime, ar vartotojas nori išeiti, ar langas buvo uždarytas\n",
    "    if event == sg.WIN_CLOSED or event == 'Išeiti':  # Jei paspaustas langų uždarymo kryžiukas arba 'Išeiti' mygtukas\n",
    "        break\n",
    "    \n",
    "    # Atnaujiname rezultatų tekstą, jei buvo paspaustas 'Pateikti' mygtukas\n",
    "    if event == 'Pateikti':\n",
    "        # Atnaujiname -OUTPUT- teksto valdiklį su nauju tekstu\n",
    "        window['-OUTPUT-'].update(\n",
    "            f'Sveiki, {values[\"-INPUT-\"]}' + \"! Nusišypsokite dienai :)\", text_color='#F7D060'\n",
    "        )\n",
    "        \n",
    "# Baigiame darbą, pašalindami langą iš ekrano\n",
    "window.close()"
   ]
  },
  {
   "cell_type": "markdown",
   "metadata": {},
   "source": [
    "Pirma, atkreipkite dėmesį į išdėstymo skirtumus. Yra dvi ypač svarbios detalės, į kurias reikėtų atsižvelgti. \n",
    "Viena iš jų yra `key` parametro pridėjimas prie `Input` elemento ir vieno iš `Text` elementų. `Key` parametro naudojimas leidžia unikaliai identifikuoti sąsajos elementus. Python terminologijoje `key` veiktų kaip žodyno raktas (angl. 'dictionary key'). \n",
    "Vėlesniame kode galite naudoti šį raktą prieiti prie `Input` elemento `vertės`, nes tai bus atitinkamas žodyno raktas.\n",
    "\n",
    "Kitas skirtumas yra šio `sg.Text` elemento pridėjimas:"
   ]
  },
  {
   "cell_type": "code",
   "execution_count": null,
   "metadata": {},
   "outputs": [],
   "source": [
    "[sg.Text(size=(40,1), key='-OUTPUT-')]"
   ]
  },
  {
   "cell_type": "markdown",
   "metadata": {},
   "source": [
    "Čia pateikti 2 parametrai, vienas jau aptartas - tai `key`. \n",
    "\n",
    "Parametras \"`size`\" apibrėžia elemento dydį simboliais. Šiuo atveju mes nurodome, kad šis `Text` elementas yra 40 simbolių pločio ir 1 simbolio aukščio. Pastebėkite, kad nėra nurodytas joks tekstas, tai reiškia, kad jis bus tuščias. Tuščią eilutę galite lengvai pamatyti sukurtame lange.\n",
    "\n",
    "Jei langas nebuvo uždarytas ir nebuvo paspaustas \"Išeiti\" mygtukas, tada vykdymas tęsiasi. Vienintelis dalykas, kuris galėjo įvykti, yra tai, kad vartotojas paspaudė mygtuką \"Patvirtinti\"."
   ]
  },
  {
   "cell_type": "markdown",
   "metadata": {},
   "source": [
    "Paskutinis teiginys įvykių cikle yra šis:"
   ]
  },
  {
   "cell_type": "code",
   "execution_count": null,
   "metadata": {},
   "outputs": [],
   "source": [
    "window['-OUTPUT-'].update(\n",
    "    f'Sveiki, {values[\"-INPUT-\"]}' + \"! Nusišypsokite dienai :)\", text_color='#F7D060'\n",
    ")"
   ]
  },
  {
   "cell_type": "markdown",
   "metadata": {},
   "source": [
    "Šis teiginys atnaujina `Text` elementą, kuris turi raktą `-OUTPUT-`, su eilute. `window['-OUTPUT-']` ieško elemento su raktu `-OUTPUT-`. Tas raktas priklauso mūsų tuščiam `Text` elementui. Kai tas elementas yra grąžinamas iš paieškos, tada kviečiamas jo atnaujinimo metodas. Beveik visi elementai turi atnaujinimo metodą."
   ]
  },
  {
   "cell_type": "markdown",
   "metadata": {},
   "source": [
    "## Elementų parametrai"
   ]
  },
  {
   "cell_type": "markdown",
   "metadata": {},
   "source": [
    "Kiekvienam elementui galimi parametrai yra aprašyti šioje [dokumentacijoje](https://www.pysimplegui.org/en/latest/call%20reference/). Jei ieškosite `Text` elemento `update` metodo, rasite šį apibrėžimą:\n",
    "\n",
    "![Alt text](https://raw.githubusercontent.com/infohata/course-python-basic/main/images/pysimple/02.jpeg)"
   ]
  },
  {
   "cell_type": "markdown",
   "metadata": {},
   "source": [
    "## Procedūrinis elementų kūrimas ir išdėstymas"
   ]
  },
  {
   "cell_type": "markdown",
   "metadata": {},
   "source": [
    "Lango išdėstymas GUI yra sukurtas kaip 'sąrašas iš sąrašų', kur kiekviena eilutė GUI yra atskiras sąrašas elementų. Visos šios eilutės yra kombinuojamos į vieną bendrą sąrašą, sudarant hierarchinę ir struktūrizuotą GUI išdėstymo schema.\n",
    "\n",
    "```\n",
    "[\n",
    "  [row1col1, row1col2, row1col3],\n",
    "  [row2col1, row2col2, row2col3],\n",
    "  [row3col1, row3col2, row3col3],\n",
    "]"
   ]
  },
  {
   "cell_type": "code",
   "execution_count": null,
   "metadata": {},
   "outputs": [],
   "source": [
    "import PySimpleGUI as sg\n",
    "\n",
    "layout = [[sg.Text(\"Eilutė 1, Stulpelis 1\"), sg.Text(\"Eilutė 1, Stulpelis 2\"), sg.Text(\"Eilutė 1, Stulpelis 3\")],\n",
    "          [sg.Text(\"Eilutė 2, Stulpelis 1\"), sg.Text(\"Eilutė 2, Stulpelis 2\"), sg.Text(\"Eilutė 2, Stulpelis 3\")],\n",
    "          [sg.Text(\"Eilutė 3, Stulpelis 1\"), sg.Text(\"Eilutė 3, Stulpelis 2\"), sg.Text(\"Eilutė 3, Stulpelis 3\")],\n",
    "          [sg.Text(\"Eilutė 4, Stulpelis 1\"), sg.Text(\"Eilutė 4, Stulpelis 2\"), sg.Text(\"Eilutė 4, Stulpelis 3\")]]\n",
    "\n",
    "window = sg.Window(\"Pavyzdys\", layout)\n",
    "\n",
    "while True:\n",
    "    event, values = window.read()\n",
    "    if event == sg.WINDOW_CLOSED:\n",
    "        break\n",
    "\n",
    "window.close()"
   ]
  },
  {
   "cell_type": "markdown",
   "metadata": {},
   "source": [
    "Be to, yra galimybė panaudoti ciklų struktūras arba list comprehension metodiką, siekiant efektyviai generuoti mygtukų tinklelį tiesiogiai iš vienos kodo eilutės:"
   ]
  },
  {
   "cell_type": "code",
   "execution_count": null,
   "metadata": {},
   "outputs": [],
   "source": [
    "import PySimpleGUI as sg\n",
    "\n",
    "layout = [[sg.Button(f'{row}, {col}') for col in range(4)] for row in range(4)]\n",
    "\n",
    "event, values = sg.Window('List Comprehensions', layout).read(close=True)"
   ]
  },
  {
   "cell_type": "markdown",
   "metadata": {},
   "source": [
    "## GUI estetika"
   ]
  },
  {
   "cell_type": "markdown",
   "metadata": {},
   "source": [
    "`sg.Theme()` yra metodas, skirtas nustatyti bendrą vartotojo sąsajos dizainą, pasitelkiant iš anksto sukonfigūruotas spalvų schemas. Tai leidžia vieningai keisti ir pritaikyti GUI estetiką."
   ]
  },
  {
   "cell_type": "code",
   "execution_count": null,
   "metadata": {},
   "outputs": [],
   "source": [
    "import PySimpleGUI as sg\n",
    "\n",
    "sg.theme('DarkBlue')  # Pritaikyti temą\n",
    "layout = [\n",
    "    [sg.Text('Sveiki!')],\n",
    "    [sg.Button('Gerai')]\n",
    "]\n",
    "\n",
    "window = sg.Window('Pavadinimas', layout)\n",
    "\n",
    "while True:\n",
    "    event, _ = window.read()\n",
    "    if event in (None, 'Gerai'):\n",
    "        break\n",
    "\n",
    "window.close()"
   ]
  },
  {
   "cell_type": "markdown",
   "metadata": {},
   "source": [
    "Daugiau temų:"
   ]
  },
  {
   "cell_type": "code",
   "execution_count": null,
   "metadata": {},
   "outputs": [],
   "source": [
    "import PySimpleGUI as sg\n",
    "\n",
    "# Get the list of available themes\n",
    "themes = sg.theme_list()\n",
    "\n",
    "# Print the list of themes\n",
    "print(\"Available Themes:\")\n",
    "for theme in themes:\n",
    "    print(theme)"
   ]
  },
  {
   "cell_type": "markdown",
   "metadata": {},
   "source": [
    "## GUI Lentelės"
   ]
  },
  {
   "cell_type": "markdown",
   "metadata": {},
   "source": [
    "`sg.Table` yra PySimpleGUI komponentas, leidžiantis vaizduoti duomenis lentelės pavidalu. Tai puikus būdas efektyviai atvaizduoti struktūrizuotus duomenis, pavyzdžiui, duomenų bazės užklausų rezultatus ar CSV failo turinį."
   ]
  },
  {
   "cell_type": "code",
   "execution_count": null,
   "metadata": {},
   "outputs": [],
   "source": [
    "import PySimpleGUI as sg\n",
    "\n",
    "# Lentelės duomenys\n",
    "table_data = [\n",
    "    [1, 'Jonas', 'Jonaitis'],\n",
    "    [2, 'Petras', 'Petraitis'],\n",
    "    [3, 'Ona', 'Onaitė']\n",
    "]\n",
    "\n",
    "# Lentelės antraštės\n",
    "headings = ['ID', 'Vardas', 'Pavardė']\n",
    "\n",
    "# GUI išdėstymas su table elementu\n",
    "layout = [\n",
    "    [sg.Table(values=table_data, headings=headings, max_col_width=25,\n",
    "              auto_size_columns=True, display_row_numbers=True,\n",
    "              justification='right', num_rows=10, key='-TABLE-', \n",
    "              row_height=25, tooltip='Tai yra lentelė')],\n",
    "    [sg.Button('Gerai')]\n",
    "]\n",
    "\n",
    "# Sukurkite langą\n",
    "window = sg.Window('Lentelės Pavyzdys', layout)\n",
    "\n",
    "# Įvykių kilpa\n",
    "while True:\n",
    "    event, values = window.read()\n",
    "    if event == sg.WIN_CLOSED or event == 'Gerai':\n",
    "        break\n",
    "\n",
    "window.close()"
   ]
  },
  {
   "cell_type": "markdown",
   "metadata": {},
   "source": [
    "- maksimalus stulpelio plotis (max_col_width),\n",
    "- automatinis stulpelio dydžio nustatymas (auto_size_columns),\n",
    "- eilutės numerių atvaizdavimas (display_row_numbers), \n",
    "- teksto išlyginimas (justification), \n",
    "- rodomų eilučių skaičius (num_rows), \n",
    "- eilutės aukštis (row_height), \n",
    "- ir įrankio patarimas (tooltip)."
   ]
  },
  {
   "cell_type": "markdown",
   "metadata": {},
   "source": [
    "## CRUD Operacijos su JSON ir Pickle"
   ]
  },
  {
   "cell_type": "markdown",
   "metadata": {},
   "source": [
    "Šiame pavyzdyje mes sukursime paprastą PySimpleGUI programą, kuri atliks CRUD operacijas (Sukurti, Skaityti, Atnaujinti, Ištrinti) su įrašų sąrašu.\n",
    "\n",
    "Taip pat išnagrinėsime, kaip išsaugoti ir įkelti duomenis naudojant JSON ir Pickle."
   ]
  },
  {
   "cell_type": "markdown",
   "metadata": {},
   "source": [
    "Prieš pradedant, įsitikinkite, kad įdiegėte bibliotekas. Galite jas įdiegti naudodami pip:\n",
    "\n",
    "`pip install json`\n",
    "\n",
    "`pip install pickle`"
   ]
  },
  {
   "cell_type": "code",
   "execution_count": null,
   "metadata": {},
   "outputs": [],
   "source": [
    "import PySimpleGUI as sg\n",
    "import json\n",
    "import pickle"
   ]
  },
  {
   "cell_type": "markdown",
   "metadata": {},
   "source": [
    "Šios funkcijos valdo duomenų įkėlimą ir išsaugojimą. `load_data` funkcijos skaito duomenis iš `JSON` failo, o `load_data_pickle` funkcijos – iš dvejetainio (`Pickle`) failo. `save_data` ir `save_data_pickle` funkcijos įrašo duomenis į atitinkamus failus."
   ]
  },
  {
   "cell_type": "code",
   "execution_count": null,
   "metadata": {},
   "outputs": [],
   "source": [
    "def load_data(file_path):\n",
    "    try:\n",
    "        with open(file_path, 'r') as file:\n",
    "            data = json.load(file)\n",
    "    except FileNotFoundError:\n",
    "        data = []\n",
    "    return data\n",
    "\n",
    "def save_data(data, file_path):\n",
    "    with open(file_path, 'w') as file:\n",
    "        json.dump(data, file, indent=2)\n",
    "\n",
    "def load_data_pickle(file_path):\n",
    "    try:\n",
    "        with open(file_path, 'rb') as file:\n",
    "            data = pickle.load(file)\n",
    "    except FileNotFoundError:\n",
    "        data = []\n",
    "    return data\n",
    "\n",
    "def save_data_pickle(data, file_path):\n",
    "    with open(file_path, 'wb') as file:\n",
    "        pickle.dump(data, file)\n"
   ]
  },
  {
   "cell_type": "markdown",
   "metadata": {},
   "source": [
    "Ši `create_layout()` funkcija sukuria PySimpleGUI naudojamą sąsajos išdėstymą. Jame yra lentelės JSON ir Pickle duomenims rodyti, įvesties laukai vardui ir amžiui, mygtukai pridėti, išsaugoti, ištrinti ir išeiti."
   ]
  },
  {
   "cell_type": "code",
   "execution_count": null,
   "metadata": {},
   "outputs": [],
   "source": [
    "def create_layout(data_json, data_pickle):\n",
    "    return [\n",
    "        [sg.Table(values=data_json, headings=['JSON Data'],\n",
    "                  auto_size_columns=False,\n",
    "                  col_widths=[40],\n",
    "                  justification='left',\n",
    "                  num_rows=5,\n",
    "                  key='-TABLE-')],\n",
    "        [sg.Table(values=data_pickle, headings=['Pickle Data'],\n",
    "                  auto_size_columns=False,\n",
    "                  col_widths=[40],\n",
    "                  justification='left',\n",
    "                  num_rows=5,\n",
    "                  key='-TABLE-PICKLE-')],\n",
    "        [sg.Text('Name:'), sg.InputText(key='-NAME-')],\n",
    "        [sg.Text('Age:'), sg.InputText(key='-AGE-')],\n",
    "        [sg.Button('Add Entry')],\n",
    "        [sg.Button('Save JSON'), sg.Button('Save Pickle'), sg.Button('Delete Selected'), sg.Button('Exit')]\n",
    "    ]"
   ]
  },
  {
   "cell_type": "markdown",
   "metadata": {},
   "source": [
    "Ši funkcija atnaujina GUI lenteles naujais duomenimis."
   ]
  },
  {
   "cell_type": "code",
   "execution_count": null,
   "metadata": {},
   "outputs": [],
   "source": [
    "def update_tables(window, data_json, data_pickle):\n",
    "    window['-TABLE-'].update(values=data_json)\n",
    "    window['-TABLE-PICKLE-'].update(values=data_pickle)"
   ]
  },
  {
   "cell_type": "markdown",
   "metadata": {},
   "source": [
    "Pagrindinė (`main`) funkcija paruošia pradinius duomenis, sukūria GUI langą ir pradeda pagrindinį įvykių ciklą. Ji tvarko tokius įvykius, kaip mygtukų paspaudimai, atnaujina duomenis ir atlieka atitinkamus veiksmus. `finally` skyrius užtikrina, kad GUI langas būtų tinkamai uždarytas, net jei įvyktų išimtis."
   ]
  },
  {
   "cell_type": "code",
   "execution_count": null,
   "metadata": {},
   "outputs": [],
   "source": [
    "def main():\n",
    "    sg.theme('LightGrey1')\n",
    "\n",
    "    file_path_json = 'data.json'\n",
    "    file_path_pickle = 'data.pkl'\n",
    "\n",
    "    data_json = load_data(file_path_json)\n",
    "    data_pickle = load_data_pickle(file_path_pickle)\n",
    "\n",
    "    layout = create_layout(data_json, data_pickle)\n",
    "\n",
    "    window = sg.Window('CRUD Application with PySimpleGUI', layout, resizable=True)\n",
    "\n",
    "    try:\n",
    "        while True:\n",
    "            event, values = window.read()\n",
    "\n",
    "            if event == sg.WIN_CLOSED or event == 'Exit':\n",
    "                break\n",
    "\n",
    "            elif event == 'Add Entry':\n",
    "                name = values['-NAME-']\n",
    "                age = values['-AGE-']\n",
    "\n",
    "                if name and age.isdigit():\n",
    "                    new_data = {'Name': name, 'Age': int(age)}\n",
    "                    data_json.append(new_data)\n",
    "                    data_pickle.append(new_data)\n",
    "                    update_tables(window, data_json, data_pickle)\n",
    "\n",
    "                else:\n",
    "                    sg.popup_error('Invalid input. Please enter a name and a numeric age.')\n",
    "\n",
    "            elif event == 'Save JSON':\n",
    "                save_data(data_json, file_path_json)\n",
    "\n",
    "            elif event == 'Save Pickle':\n",
    "                save_data_pickle(data_pickle, file_path_pickle)\n",
    "\n",
    "            elif event == 'Delete Selected':\n",
    "                selected_row_json = values['-TABLE-'][0] if values['-TABLE-'] else None\n",
    "                selected_row_pickle = values['-TABLE-PICKLE-'][0] if values['-TABLE-PICKLE-'] else None\n",
    "\n",
    "                if selected_row_json is not None and selected_row_json < len(data_json):\n",
    "                    del data_json[selected_row_json]\n",
    "                    update_tables(window, data_json, data_pickle)\n",
    "\n",
    "                if selected_row_pickle is not None and selected_row_pickle < len(data_pickle):\n",
    "                    del data_pickle[selected_row_pickle]\n",
    "                    update_tables(window, data_json, data_pickle)\n",
    "\n",
    "    finally:\n",
    "        window.close()\n",
    "\n",
    "if __name__ == '__main__':\n",
    "    main()"
   ]
  },
  {
   "cell_type": "markdown",
   "metadata": {},
   "source": [
    "Apibendrinant, ši programa yra paprasta CRUD (Sukurti, Skaityti, Atnaujinti, Ištrinti) aplikacija, naudojanti PySimpleGUI, leidžianti vartotojams tvarkyti duomenis tiek JSON, tiek Pickle formatais."
   ]
  },
  {
   "cell_type": "markdown",
   "metadata": {},
   "source": [
    "Tai yra bazine PySimpleGUI apžvalga, ir yra daug daugiau, ką galite atrasti. Norėdami gauti išsamią informaciją ir pažangias funkcijas, žiūrėkite oficialioje [dokumentacijoje](https://www.pysimplegui.org/en/latest/).\n",
    "\n",
    "- PySimpleGUI Cookbook: https://www.pysimplegui.org/en/latest/cookbook/\n",
    "- PySimpleGUI on PyPI: https://pypi.org/project/PySimpleGUI/\n",
    "- PySimpleGUI Demos: https://www.pysimplegui.org/en/latest/Demos/"
   ]
  }
 ],
 "metadata": {
  "kernelspec": {
   "display_name": "Python 3",
   "language": "python",
   "name": "python3"
  },
  "language_info": {
   "codemirror_mode": {
    "name": "ipython",
    "version": 3
   },
   "file_extension": ".py",
   "mimetype": "text/x-python",
   "name": "python",
   "nbconvert_exporter": "python",
   "pygments_lexer": "ipython3",
   "version": "3.10.12"
  }
 },
 "nbformat": 4,
 "nbformat_minor": 2
}
