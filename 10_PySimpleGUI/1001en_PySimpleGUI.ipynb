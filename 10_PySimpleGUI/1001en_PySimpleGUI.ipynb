{
 "cells": [
  {
   "cell_type": "markdown",
   "metadata": {},
   "source": [
    "# PySimpleGUI"
   ]
  },
  {
   "cell_type": "markdown",
   "metadata": {},
   "source": [
    "`PySimpleGUI` is a library that is designed specifically to be easy to use and allows for the quick creation of a graphical user interface (GUI)."
   ]
  },
  {
   "cell_type": "markdown",
   "metadata": {},
   "source": [
    "## Functionality\n",
    "\n",
    "- **Simplicity**: PySimpleGUI enables the quick and easy creation of graphical user interfaces.\n",
    "- **Compatibility**: Accessible through `tkinter`, with versions also available for `Qt`, `wxPython`, and `Remi`.\n",
    "- **Multilingual Design**: It allows the creation of complex programs with multiple windows.\n",
    "- **Wide Range of Controls**: Supports many standard GUI controls.\n",
    "- **Customizable Themes and Colors**: Allows customization of the GUI theme and colors.\n",
    "- **Event Handling**: Event-driven programming responds to user actions.\n",
    "- **Comprehensive Documentation**: User-friendly and informative documentation is available."
   ]
  },
  {
   "cell_type": "markdown",
   "metadata": {},
   "source": [
    "## Installation\n",
    "\n",
    "- Before getting started, ensure that you have installed PySimpleGUI. You can install it using pip:\n",
    "\n",
    "`pip install PySimpleGUI`\n",
    "\n",
    "`pip freeze >requirements.txt`"
   ]
  },
  {
   "cell_type": "markdown",
   "metadata": {},
   "source": [
    "## Element Layouts\n",
    "\n",
    "This is crucial because layout elements serve as the heart and soul of the GUI, allowing you to structure and organize the visual content that the user will see."
   ]
  },
  {
   "cell_type": "markdown",
   "metadata": {},
   "source": [
    "- **Key Components**: Buttons, text, input fields, label fields, and more.\n",
    "- **Advanced Controls**: Tables, sliders, calendars, tab elements, and beyond.\n",
    "- **Layout Management**: How to use frames, columns, and rows for effective GUI layout.\n",
    "- **Interaction between Elements**: How controls can interact with each other, such as changing the state of one control based on the action of another.\n",
    "- **Graphic Design Principles**: How proper layout and design can enhance the user experience.\n",
    "- **Responsiveness**: Ensuring that the GUI appropriately responds to various window sizes or screen resolutions."
   ]
  },
  {
   "cell_type": "markdown",
   "metadata": {},
   "source": [
    "**Text Control** (`sg.Text`)\n",
    "\n",
    "`sg.Text` is a text control widget that displays static text in a GUI window."
   ]
  },
  {
   "cell_type": "markdown",
   "metadata": {},
   "source": [
    "**Input Text Field** (`sg.InputText`)\n",
    "\n",
    "`sg.InputText` is an input field that allows the user to enter text, which the program can use later on. The input can be for entering a name, password, URL, or any other type of information."
   ]
  },
  {
   "cell_type": "markdown",
   "metadata": {},
   "source": [
    "**Button Controls** (`sg.Button`)\n",
    "\n",
    "`sg.Button` is a button control widget. Buttons are interactive elements that, when clicked, can prompt the program to perform a certain action."
   ]
  },
  {
   "cell_type": "markdown",
   "metadata": {},
   "source": [
    "**Window** (`sg.Window`)\n",
    "\n",
    "`sg.Window` creates a window based on a previously defined layout. This method also sets the title of the window."
   ]
  },
  {
   "cell_type": "markdown",
   "metadata": {},
   "source": [
    "**Popup** (`sg.popup`)\n",
    "\n",
    "`sg.popup` is a function that displays a simple pop-up message with text and a confirmation button."
   ]
  },
  {
   "cell_type": "code",
   "execution_count": null,
   "metadata": {},
   "outputs": [],
   "source": [
    "import PySimpleGUI as sg\n",
    "\n",
    "sg.popup(\"Welcome\")"
   ]
  },
  {
   "cell_type": "code",
   "execution_count": null,
   "metadata": {},
   "outputs": [],
   "source": [
    "import PySimpleGUI as sg\n",
    "\n",
    "result = sg.popup_yes_no(\"Hello, do you like PySimpleGUI?\")\n",
    "\n",
    "if result == \"Yes\":\n",
    "    print(\"Nice!\")\n",
    "else:\n",
    "    print(\"Oh no!\")"
   ]
  },
  {
   "cell_type": "markdown",
   "metadata": {},
   "source": [
    "Each of these elements is an essential part of a PySimpleGUI application, allowing for the creation of an interactive and user-friendly graphical user interface."
   ]
  },
  {
   "cell_type": "code",
   "execution_count": null,
   "metadata": {},
   "outputs": [],
   "source": [
    "import PySimpleGUI as sg\n",
    "\n",
    "# Layout defines the arrangement of controls in the window: text, input field, and buttons\n",
    "layout = [\n",
    "    [sg.Text('Enter your name:')],  # Text control displaying instructions\n",
    "    [sg.InputText()],  # Input text field for user to enter text\n",
    "    [sg.Button('Submit'), sg.Button('Exit')]  # 'Submit' and 'Exit' buttons\n",
    "]\n",
    "\n",
    "# Create a window with the previously defined layout and title\n",
    "window = sg.Window('User Input Window', layout)\n",
    "\n",
    "event, values = window.read()  # Read events and values\n",
    "\n",
    "print(\"Hello\", values[0], \"! Thank you for trying out PySimpleGUI\")\n",
    "sg.popup('Hello,', values[0])  # Display a popup with a greeting and the entered name\n",
    "\n",
    "# The window needs to be closed after use\n",
    "window.close()"
   ]
  },
  {
   "cell_type": "markdown",
   "metadata": {},
   "source": [
    "Experimenting with these elements and combining them in various ways allows you to create increasingly complex and functional GUIs.\n",
    "\n",
    "Here's another example:\n",
    "\n",
    "The main difference between the previously seen single-use window and an interactive window is the \"Event Loop.\" The event loop reads events and inputs from your window."
   ]
  },
  {
   "cell_type": "code",
   "execution_count": null,
   "metadata": {},
   "outputs": [],
   "source": [
    "import PySimpleGUI as sg\n",
    "\n",
    "# Define window content with key assignments to elements\n",
    "layout = [\n",
    "    [sg.Text('Enter your name:')],\n",
    "    [sg.InputText(key='-INPUT-')],  # Added key to the input field\n",
    "    [sg.Text(size=(40,1), key='-OUTPUT-')],  # Text control for results with assigned key\n",
    "    [sg.Button('Submit'), sg.Button('Exit')],\n",
    "]\n",
    "\n",
    "# Create a window\n",
    "window = sg.Window('Window Title', layout)\n",
    "\n",
    "# Display and interact with the window using the event loop\n",
    "while True:\n",
    "    event, values = window.read()  # Read events and values from the window\n",
    "\n",
    "    # Check if the user wants to exit or the window was closed\n",
    "    if event == sg.WIN_CLOSED or event == 'Exit':  # If the window close 'X' button is pressed or 'Exit' button is clicked\n",
    "        break\n",
    "    \n",
    "    # Update the results text if the 'Submit' button is pressed\n",
    "    if event == 'Submit':\n",
    "        # Update the -OUTPUT- text control with new text\n",
    "        window['-OUTPUT-'].update(\n",
    "            f'Hello, {values[\"-INPUT-\"]}' + \"! Smile for the day :)\", text_color='#F7D060'\n",
    "        )\n",
    "        \n",
    "# Finish by closing the window and removing it from the screen\n",
    "window.close()"
   ]
  },
  {
   "cell_type": "markdown",
   "metadata": {},
   "source": [
    "First, pay attention to the differences in the layout. There are two particularly important details to consider. \n",
    "One of them is the addition of the `key` parameter to the `Input` element and one of the `Text` elements. The use of the `key` parameter allows the unique identification of interface elements. In Python terminology, the key would function as a dictionary key. In the subsequent code, you can use this `key` to access the `value` of the `Input` element, as it will be the corresponding dictionary key.\n",
    "\n",
    "Another difference is the addition of this sg.Text element:"
   ]
  },
  {
   "cell_type": "code",
   "execution_count": null,
   "metadata": {},
   "outputs": [],
   "source": [
    "[sg.Text(size=(40,1), key='-OUTPUT-')]"
   ]
  },
  {
   "cell_type": "markdown",
   "metadata": {},
   "source": [
    "Here, two parameters are provided, one already discussed - the `key`.\n",
    "\n",
    "The \"`size`\" parameter defines the size of the element in characters. In this case, we specify that this `Text` element is `40` characters wide and `1` character high. Notice that no text is specified, which means it will be empty. The empty line can be easily seen in the created window.\n",
    "\n",
    "If the window was not closed and the \"Exit\" button was not pressed, then the execution continues. The only thing that could have happened is that the user pressed the \"Confirm\" button."
   ]
  },
  {
   "cell_type": "markdown",
   "metadata": {},
   "source": [
    "The last statement in the event loop is this:"
   ]
  },
  {
   "cell_type": "code",
   "execution_count": null,
   "metadata": {},
   "outputs": [],
   "source": [
    "window['-OUTPUT-'].update(\n",
    "    f'Hello, {values[\"-INPUT-\"]}' + \"! Smile to the day :)\", text_color='#F7D060'\n",
    ")"
   ]
  },
  {
   "cell_type": "markdown",
   "metadata": {},
   "source": [
    "This statement updates the `Text` element that has the key `-OUTPUT-` with a string. `window['-OUTPUT-']` looks for the element with the key `-OUTPUT-`. That `key` belongs to our empty `Text` element. When that element is returned from the search, then its update method is called. Almost all elements have an update method."
   ]
  },
  {
   "cell_type": "markdown",
   "metadata": {},
   "source": [
    "## Element Parameters"
   ]
  },
  {
   "cell_type": "markdown",
   "metadata": {},
   "source": [
    "The parameters available for each element are described in this [documentation](https://www.pysimplegui.org/en/latest/call%20reference/). If you search for the `Text` element's `update` method, you will find the following definition:\n",
    "\n",
    "![Alt text](https://raw.githubusercontent.com/infohata/course-python-basic/main/images/pysimple/02.jpeg)"
   ]
  },
  {
   "cell_type": "markdown",
   "metadata": {},
   "source": [
    "## Procedural element creation and Layout"
   ]
  },
  {
   "cell_type": "markdown",
   "metadata": {},
   "source": [
    "The layout of a window in a GUI is created as a 'list of lists', where each row in the GUI is a separate list of elements. All these rows are combined into one master list, forming a hierarchical and structured GUI layout scheme.\n",
    "\n",
    "```\n",
    "[\n",
    "  [row1col1, row1col2, row1col3],\n",
    "  [row2col1, row2col2, row2col3],\n",
    "  [row3col1, row3col2, row3col3],\n",
    "]"
   ]
  },
  {
   "cell_type": "code",
   "execution_count": null,
   "metadata": {},
   "outputs": [],
   "source": [
    "import PySimpleGUI as sg\n",
    "\n",
    "layout = [\n",
    "    [sg.Text(\"Row 1, Column 1\"), sg.Text(\"Row 1, Column 2\"), sg.Text(\"Row 1, Column 3\")],\n",
    "    [sg.Text(\"Row 2, Column 1\"), sg.Text(\"Row 2, Column 2\"), sg.Text(\"Row 2, Column 3\")],\n",
    "    [sg.Text(\"Row 3, Column 1\"), sg.Text(\"Row 3, Column 2\"), sg.Text(\"Row 3, Column 3\")],\n",
    "    [sg.Text(\"Row 4, Column 1\"), sg.Text(\"Row 4, Column 2\"), sg.Text(\"Row 4, Column 3\")]\n",
    "]\n",
    "\n",
    "window = sg.Window(\"Example\", layout)\n",
    "\n",
    "while True:\n",
    "    event, values = window.read()\n",
    "    if event == sg.WINDOW_CLOSED:\n",
    "        break\n",
    "\n",
    "window.close()"
   ]
  },
  {
   "cell_type": "markdown",
   "metadata": {},
   "source": [
    "Additionally, there is the possibility to use loop structures or list comprehension techniques to efficiently generate a grid of buttons directly from a single line of code:"
   ]
  },
  {
   "cell_type": "code",
   "execution_count": null,
   "metadata": {},
   "outputs": [],
   "source": [
    "import PySimpleGUI as sg\n",
    "\n",
    "layout = [[sg.Button(f'{row}, {col}') for col in range(4)] for row in range(4)]\n",
    "\n",
    "event, values = sg.Window('List Comprehensions', layout).read(close=True)"
   ]
  },
  {
   "cell_type": "markdown",
   "metadata": {},
   "source": [
    "## GUI Aesthetics"
   ]
  },
  {
   "cell_type": "markdown",
   "metadata": {},
   "source": [
    "`sg.Theme()` is a method used to set the overall user interface design by utilizing pre-configured color schemes. This allows for a uniform change and customization of the GUI aesthetics."
   ]
  },
  {
   "cell_type": "code",
   "execution_count": null,
   "metadata": {},
   "outputs": [],
   "source": [
    "import PySimpleGUI as sg\n",
    "\n",
    "sg.theme('DarkBlue')  # Apply theme\n",
    "layout = [\n",
    "    [sg.Text('Hello!')],\n",
    "    [sg.Button('OK')]\n",
    "]\n",
    "\n",
    "window = sg.Window('Title', layout)\n",
    "\n",
    "while True:\n",
    "    event, _ = window.read()\n",
    "    if event in (None, 'OK'):\n",
    "        break\n",
    "\n",
    "window.close()"
   ]
  },
  {
   "cell_type": "markdown",
   "metadata": {},
   "source": [
    "More themes:"
   ]
  },
  {
   "cell_type": "code",
   "execution_count": null,
   "metadata": {},
   "outputs": [],
   "source": [
    "import PySimpleGUI as sg\n",
    "\n",
    "# Get the list of available themes\n",
    "themes = sg.theme_list()\n",
    "\n",
    "# Print the list of themes\n",
    "print(\"Available Themes:\")\n",
    "for theme in themes:\n",
    "    print(theme)"
   ]
  },
  {
   "cell_type": "markdown",
   "metadata": {},
   "source": [
    "## GUI Table"
   ]
  },
  {
   "cell_type": "markdown",
   "metadata": {},
   "source": [
    "`sg.Table` is a PySimpleGUI component that enables the display of data in a table format. It's an excellent way to efficiently present structured data, such as database query results or the contents of a CSV file."
   ]
  },
  {
   "cell_type": "code",
   "execution_count": null,
   "metadata": {},
   "outputs": [],
   "source": [
    "import PySimpleGUI as sg\n",
    "\n",
    "# Table data\n",
    "table_data = [\n",
    "    [1, 'Jonas', 'Jonaitis'],\n",
    "    [2, 'Petras', 'Petraitis'],\n",
    "    [3, 'Ona', 'Onaitė']\n",
    "]\n",
    "\n",
    "# Table headings\n",
    "headings = ['ID', 'Name', 'Surname']\n",
    "\n",
    "# GUI layout with a table element\n",
    "layout = [\n",
    "    [sg.Table(values=table_data, headings=headings, max_col_width=25,\n",
    "              auto_size_columns=True, display_row_numbers=True,\n",
    "              justification='right', num_rows=10, key='-TABLE-', \n",
    "              row_height=25, tooltip='This is a table')],\n",
    "    [sg.Button('OK')]\n",
    "]\n",
    "\n",
    "# Create a window\n",
    "window = sg.Window('Table Example', layout)\n",
    "\n",
    "# Event loop\n",
    "while True:\n",
    "    event, values = window.read()\n",
    "    if event == sg.WIN_CLOSED or event == 'OK':\n",
    "        break\n",
    "\n",
    "window.close()\n"
   ]
  },
  {
   "cell_type": "markdown",
   "metadata": {},
   "source": [
    "- maximum column width (max_col_width),\n",
    "- automatic column size adjustment (auto_size_columns),\n",
    "- display of row numbers (display_row_numbers),\n",
    "- text justification (justification),\n",
    "- number of displayed rows (num_rows),\n",
    "- row height (row_height),\n",
    "- and tooltip (tooltip)."
   ]
  },
  {
   "cell_type": "markdown",
   "metadata": {},
   "source": [
    "## CRUD Operations with JSON and Pickle"
   ]
  },
  {
   "cell_type": "markdown",
   "metadata": {},
   "source": [
    "In this example, we will create a simple PySimpleGUI application that performs CRUD operations (Create, Read, Update, Delete) with a list of records.\n",
    "\n",
    "We will also explore how to save and load data using JSON and Pickle."
   ]
  },
  {
   "cell_type": "markdown",
   "metadata": {},
   "source": [
    "Before beginning, make sure that you've installed the necessary libraries. You can install them using pip:\n",
    "\n",
    "`pip install json`\n",
    "\n",
    "`pip install pickle`"
   ]
  },
  {
   "cell_type": "code",
   "execution_count": null,
   "metadata": {},
   "outputs": [],
   "source": [
    "import PySimpleGUI as sg\n",
    "import json\n",
    "import pickle"
   ]
  },
  {
   "cell_type": "markdown",
   "metadata": {},
   "source": [
    "These functions manage data loading and saving. The `load_data` function reads data from a `JSON` file, while the `load_data_pickle` function reads from a binary (`Pickle`) file. The `save_data` and `save_data_pickle` functions write data to the respective files."
   ]
  },
  {
   "cell_type": "code",
   "execution_count": null,
   "metadata": {},
   "outputs": [],
   "source": [
    "def load_data(file_path):\n",
    "    try:\n",
    "        with open(file_path, 'r') as file:\n",
    "            data = json.load(file)\n",
    "    except FileNotFoundError:\n",
    "        data = []\n",
    "    return data\n",
    "\n",
    "def save_data(data, file_path):\n",
    "    with open(file_path, 'w') as file:\n",
    "        json.dump(data, file, indent=2)\n",
    "\n",
    "def load_data_pickle(file_path):\n",
    "    try:\n",
    "        with open(file_path, 'rb') as file:\n",
    "            data = pickle.load(file)\n",
    "    except FileNotFoundError:\n",
    "        data = []\n",
    "    return data\n",
    "\n",
    "def save_data_pickle(data, file_path):\n",
    "    with open(file_path, 'wb') as file:\n",
    "        pickle.dump(data, file)\n"
   ]
  },
  {
   "cell_type": "markdown",
   "metadata": {},
   "source": [
    "The `create_layout()` function creates the interface layout used by PySimpleGUI. It includes tables for displaying JSON and Pickle data, input fields for name and age, and buttons for adding, saving, deleting, and exiting."
   ]
  },
  {
   "cell_type": "code",
   "execution_count": null,
   "metadata": {},
   "outputs": [],
   "source": [
    "def create_layout(data_json, data_pickle):\n",
    "    return [\n",
    "        [sg.Table(values=data_json, headings=['JSON Data'],\n",
    "                  auto_size_columns=False,\n",
    "                  col_widths=[40],\n",
    "                  justification='left',\n",
    "                  num_rows=5,\n",
    "                  key='-TABLE-')],\n",
    "        [sg.Table(values=data_pickle, headings=['Pickle Data'],\n",
    "                  auto_size_columns=False,\n",
    "                  col_widths=[40],\n",
    "                  justification='left',\n",
    "                  num_rows=5,\n",
    "                  key='-TABLE-PICKLE-')],\n",
    "        [sg.Text('Name:'), sg.InputText(key='-NAME-')],\n",
    "        [sg.Text('Age:'), sg.InputText(key='-AGE-')],\n",
    "        [sg.Button('Add Entry')],\n",
    "        [sg.Button('Save JSON'), sg.Button('Save Pickle'), sg.Button('Delete Selected'), sg.Button('Exit')]\n",
    "    ]"
   ]
  },
  {
   "cell_type": "markdown",
   "metadata": {},
   "source": [
    "This function updates the GUI tables with new data."
   ]
  },
  {
   "cell_type": "code",
   "execution_count": null,
   "metadata": {},
   "outputs": [],
   "source": [
    "def update_tables(window, data_json, data_pickle):\n",
    "    window['-TABLE-'].update(values=data_json)\n",
    "    window['-TABLE-PICKLE-'].update(values=data_pickle)"
   ]
  },
  {
   "cell_type": "markdown",
   "metadata": {},
   "source": [
    "The main (`main`) function prepares the initial data, creates the GUI window, and initiates the main event loop. It handles events such as button clicks, updates data, and performs the corresponding actions. The `finally` section ensures that the GUI window is properly closed, even if an exception occurs."
   ]
  },
  {
   "cell_type": "code",
   "execution_count": null,
   "metadata": {},
   "outputs": [],
   "source": [
    "def main():\n",
    "    sg.theme('LightGrey1')\n",
    "\n",
    "    file_path_json = 'data.json'\n",
    "    file_path_pickle = 'data.pkl'\n",
    "\n",
    "    data_json = load_data(file_path_json)\n",
    "    data_pickle = load_data_pickle(file_path_pickle)\n",
    "\n",
    "    layout = create_layout(data_json, data_pickle)\n",
    "\n",
    "    window = sg.Window('CRUD Application with PySimpleGUI', layout, resizable=True)\n",
    "\n",
    "    try:\n",
    "        while True:\n",
    "            event, values = window.read()\n",
    "\n",
    "            if event == sg.WIN_CLOSED or event == 'Exit':\n",
    "                break\n",
    "\n",
    "            elif event == 'Add Entry':\n",
    "                name = values['-NAME-']\n",
    "                age = values['-AGE-']\n",
    "\n",
    "                if name and age.isdigit():\n",
    "                    new_data = {'Name': name, 'Age': int(age)}\n",
    "                    data_json.append(new_data)\n",
    "                    data_pickle.append(new_data)\n",
    "                    update_tables(window, data_json, data_pickle)\n",
    "\n",
    "                else:\n",
    "                    sg.popup_error('Invalid input. Please enter a name and a numeric age.')\n",
    "\n",
    "            elif event == 'Save JSON':\n",
    "                save_data(data_json, file_path_json)\n",
    "\n",
    "            elif event == 'Save Pickle':\n",
    "                save_data_pickle(data_pickle, file_path_pickle)\n",
    "\n",
    "            elif event == 'Delete Selected':\n",
    "                selected_row_json = values['-TABLE-'][0] if values['-TABLE-'] else None\n",
    "                selected_row_pickle = values['-TABLE-PICKLE-'][0] if values['-TABLE-PICKLE-'] else None\n",
    "\n",
    "                if selected_row_json is not None and selected_row_json < len(data_json):\n",
    "                    del data_json[selected_row_json]\n",
    "                    update_tables(window, data_json, data_pickle)\n",
    "\n",
    "                if selected_row_pickle is not None and selected_row_pickle < len(data_pickle):\n",
    "                    del data_pickle[selected_row_pickle]\n",
    "                    update_tables(window, data_json, data_pickle)\n",
    "\n",
    "    finally:\n",
    "        window.close()\n",
    "\n",
    "if __name__ == '__main__':\n",
    "    main()"
   ]
  },
  {
   "cell_type": "markdown",
   "metadata": {},
   "source": [
    "In summary, this program is a simple CRUD (Create, Read, Update, Delete) application using PySimpleGUI, allowing users to manage data in both JSON and Pickle formats."
   ]
  },
  {
   "cell_type": "markdown",
   "metadata": {},
   "source": [
    "This is a basic overview of `PySimpleGUI`, and there is much more you can explore. Refer to the [official documentation](https://www.pysimplegui.org/en/latest/) for detailed information and advanced features.\n",
    "\n",
    "- PySimpleGUI Cookbook: https://www.pysimplegui.org/en/latest/cookbook/\n",
    "- PySimpleGUI on PyPI: https://pypi.org/project/PySimpleGUI/\n",
    "- PySimpleGUI Demos: https://www.pysimplegui.org/en/latest/Demos/"
   ]
  }
 ],
 "metadata": {
  "kernelspec": {
   "display_name": "Python 3",
   "language": "python",
   "name": "python3"
  },
  "language_info": {
   "codemirror_mode": {
    "name": "ipython",
    "version": 3
   },
   "file_extension": ".py",
   "mimetype": "text/x-python",
   "name": "python",
   "nbconvert_exporter": "python",
   "pygments_lexer": "ipython3",
   "version": "3.10.6"
  }
 },
 "nbformat": 4,
 "nbformat_minor": 2
}
