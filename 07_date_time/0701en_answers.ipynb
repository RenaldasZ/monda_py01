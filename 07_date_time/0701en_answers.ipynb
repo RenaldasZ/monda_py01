{
 "cells": [
  {
   "cell_type": "markdown",
   "metadata": {},
   "source": [
    "### Quick Assignement 1"
   ]
  },
  {
   "cell_type": "code",
   "execution_count": null,
   "metadata": {},
   "outputs": [],
   "source": [
    "from datetime import datetime\n",
    "\n",
    "now = datetime.now()\n",
    "format_string = \"%M:%S\"\n",
    "\n",
    "time = now.strftime(format_string)\n",
    "print(time)"
   ]
  },
  {
   "cell_type": "markdown",
   "metadata": {},
   "source": [
    "### Quick Assignement 2\n"
   ]
  },
  {
   "cell_type": "code",
   "execution_count": null,
   "metadata": {},
   "outputs": [],
   "source": [
    "from datetime import datetime, timedelta\n",
    "\n",
    "def days_until_birthday(birth_date):\n",
    "     birth_date_format = datetime.strptime(birth_date, \"%Y-%m-%d\")\n",
    "     today = datetime.now()\n",
    "     birthday_date = birth_date_format.replace(year=today.year)\n",
    "\n",
    "     if birthday_date < today:\n",
    "         birthday_date = birthday_date.replace(year=today.year + 1)\n",
    "\n",
    "     difference = birthday_date - today\n",
    "     return difference.days\n",
    "\n",
    "birth_date = \"05/15/2000\"\n",
    "print(f\"{days_until_birthday(birth_date)} day(s) left until birthday.\")"
   ]
  },
  {
   "cell_type": "markdown",
   "metadata": {},
   "source": [
    "### Quick Assignement 3"
   ]
  },
  {
   "cell_type": "code",
   "execution_count": null,
   "metadata": {},
   "outputs": [],
   "source": [
    "from datetime import datetime, timedelta\n",
    "\n",
    "def add_48_hours(date_time):\n",
    "     format_string = \"%Y-%m-%d %H:%M\"\n",
    "     date_object = datetime.strptime(date_time, format_string)\n",
    "     new_date_object = date_object + timedelta(hours=48)\n",
    "     new_date_time = new_date_object.strftime(format_string)\n",
    "     return new_date_time\n",
    "\n",
    "date_time = \"2023-05-21 15:30\"\n",
    "print(f\"After adding 48 hours: {add_48_hours(date_time)}\")"
   ]
  },
  {
   "cell_type": "markdown",
   "metadata": {},
   "source": [
    "### Quick Assignement 4"
   ]
  },
  {
   "cell_type": "code",
   "execution_count": null,
   "metadata": {},
   "outputs": [],
   "source": [
    "from datetime import datetime\n",
    "\n",
    "def difference_in_days(timestamp1, timestamp2):\n",
    "     date_object1 = datetime.fromtimestamp(timestamp1)\n",
    "     date_object2 = datetime.fromtimestamp(timestamp2)\n",
    "     difference = abs(date_object2 - date_object1)\n",
    "     return difference.days\n",
    "\n",
    "timestamp1 = 1671395400\n",
    "timestamp2 = 1674000000\n",
    "print(f\"Difference between periods in days: {difference_in_days(timestamp1, timestamp2)}\")"
   ]
  },
  {
   "cell_type": "markdown",
   "metadata": {},
   "source": [
    "### Quick Assignement 4: second example"
   ]
  },
  {
   "cell_type": "code",
   "execution_count": null,
   "metadata": {},
   "outputs": [],
   "source": [
    "from datetime import datetime\n",
    "\n",
    "def calculate_days_between_timestamps(timestamp1, timestamp2):\n",
    "    # Parse the timestamps into datetime objects\n",
    "    datetime1 = datetime.strptime(timestamp1, \"%Y-%m-%d %H:%M:%S\")\n",
    "    datetime2 = datetime.strptime(timestamp2, \"%Y-%m-%d %H:%M:%S\")\n",
    "    \n",
    "    # Calculate the difference in days\n",
    "    difference = datetime2 - datetime1\n",
    "    return difference.days\n",
    "\n",
    "# Input timestamps\n",
    "timestamp1 = input(\"Enter the first timestamp (YYYY-MM-DD HH:MM:SS): \")\n",
    "timestamp2 = input(\"Enter the second timestamp (YYYY-MM-DD HH:MM:SS): \")\n",
    "\n",
    "# Calculate and print the difference in days\n",
    "days_difference = calculate_days_between_timestamps(timestamp1, timestamp2)\n",
    "print(f\"The difference is: {days_difference} days\")"
   ]
  },
  {
   "cell_type": "markdown",
   "metadata": {},
   "source": [
    "### Quick Assignement 5"
   ]
  },
  {
   "cell_type": "code",
   "execution_count": null,
   "metadata": {},
   "outputs": [],
   "source": [
    "from datetime import datetime\n",
    "\n",
    "def week_day(date):\n",
    "     format_string = \"%Y-%m-%d\"\n",
    "     date_object = datetime.strptime(date, format_string)\n",
    "     days = [\"Monday\", \"Tuesday\", \"Wednesday\", \"Thursday\", \"Friday\", \"Saturday\", \"Sunday\"]\n",
    "     return days[date_object.weekday()]\n",
    "\n",
    "date = \"2023-06-01\"\n",
    "print(f\"This date is {week_day(date)}\")"
   ]
  }
 ],
 "metadata": {
  "kernelspec": {
   "display_name": "Python 3",
   "language": "python",
   "name": "python3"
  },
  "language_info": {
   "codemirror_mode": {
    "name": "ipython",
    "version": 3
   },
   "file_extension": ".py",
   "mimetype": "text/x-python",
   "name": "python",
   "nbconvert_exporter": "python",
   "pygments_lexer": "ipython3",
   "version": "3.10.12"
  }
 },
 "nbformat": 4,
 "nbformat_minor": 2
}
