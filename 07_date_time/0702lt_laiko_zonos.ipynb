{
 "cells": [
  {
   "cell_type": "markdown",
   "metadata": {},
   "source": [
    "# Laiko zonos"
   ]
  },
  {
   "cell_type": "markdown",
   "metadata": {},
   "source": [
    "## Aware ir Naive datos/laiko objektai"
   ]
  },
  {
   "cell_type": "markdown",
   "metadata": {},
   "source": [
    "Python `datetime` modulyje yra du pagrindiniai datos ir laiko objektų tipai: \"aware\" ir \"naive\". \"Naive\" datos ir laiko objektai neturi informacijos apie laiko zonas ar vasaros laiko taikymą, todėl jie gali būti nepatogūs, kai reikia atsižvelgti į laiko zonų pokyčius. Tuo tarpu \"aware\" objektai turi informaciją apie laiko zonas ir vasaros laiko taikymą, todėl juos galima naudoti tiksliam laiko skaičiavimui skirtingose laiko zonose."
   ]
  },
  {
   "cell_type": "markdown",
   "metadata": {},
   "source": [
    "## `datetime.utcnow()`"
   ]
  },
  {
   "cell_type": "markdown",
   "metadata": {},
   "source": [
    "Norėdami gauti dabartinį laiką pagal Coordinated Universal Time (UTC) laiko zoną, galite naudoti `datetime` modulio `utcnow()` funkciją:"
   ]
  },
  {
   "cell_type": "code",
   "execution_count": null,
   "metadata": {},
   "outputs": [],
   "source": [
    "from datetime import datetime\n",
    "\n",
    "utc_now = datetime.utcnow()\n",
    "print(utc_now)"
   ]
  },
  {
   "cell_type": "markdown",
   "metadata": {},
   "source": [
    "## Laiko zonų sąrašas, `zoneinfo` modulis"
   ]
  },
  {
   "cell_type": "markdown",
   "metadata": {},
   "source": [
    "Python 3.9+ versijose yra `zoneinfo` modulis, leidžiantis dirbti su laiko zonomis:"
   ]
  },
  {
   "cell_type": "code",
   "execution_count": null,
   "metadata": {},
   "outputs": [],
   "source": [
    "from zoneinfo import ZoneInfo\n",
    "from datetime import datetime\n",
    "\n",
    "# Sukurti \"aware\" datetime objektą su nurodyta laiko zona\n",
    "laikas = datetime(2024, 1, 30, 4, 20, tzinfo=ZoneInfo(\"Europe/Vilnius\"))\n",
    "print(laikas)"
   ]
  },
  {
   "cell_type": "markdown",
   "metadata": {},
   "source": [
    "Galite naudoti šį modulį, kad išvestumėte sąrašą laiko zonų, kurias jis palaiko:"
   ]
  },
  {
   "cell_type": "code",
   "execution_count": null,
   "metadata": {},
   "outputs": [],
   "source": [
    "from zoneinfo import available_timezones\n",
    "\n",
    "for time_zone in available_timezones():\n",
    "    print(time_zone)"
   ]
  },
  {
   "cell_type": "markdown",
   "metadata": {},
   "source": [
    "# Greita užduotis 1\n",
    "\n",
    "1. Parašykite programą, kuri išvestų sąrašą visų laiko zonų, kurių pavadinimuose yra žodis 'America'."
   ]
  },
  {
   "cell_type": "code",
   "execution_count": null,
   "metadata": {},
   "outputs": [],
   "source": [
    "# jūsu kodo vieta"
   ]
  },
  {
   "cell_type": "markdown",
   "metadata": {},
   "source": [
    "## `datetime.tzinfo`"
   ]
  },
  {
   "cell_type": "markdown",
   "metadata": {},
   "source": [
    "`datetime.tzinfo` yra abstrakti klasė, skirta laiko zonos informacijai saugoti. Galite naudoti `zoneinfo` modulio funkcijas, kad užpildytumėte `tzinfo` atributą, kai kuriate naują „aware“ `datetime` objektą:"
   ]
  },
  {
   "cell_type": "code",
   "execution_count": null,
   "metadata": {},
   "outputs": [],
   "source": [
    "from datetime import datetime\n",
    "from zoneinfo import ZoneInfo\n",
    "\n",
    "laikas = datetime(2023, 4, 12, 18, 30, tzinfo=ZoneInfo(\"Europe/Vilnius\"))\n",
    "print(laikas.tzinfo)"
   ]
  },
  {
   "cell_type": "markdown",
   "metadata": {},
   "source": [
    "## Laiko zonos nurodymas `datetime.datetime` objekte"
   ]
  },
  {
   "cell_type": "markdown",
   "metadata": {},
   "source": [
    "Norėdami nurodyti laiko zoną `datetime.datetime` objekte, galite naudoti `replace()` funkciją su `tzinfo` argumentu arba `astimezone()` funkciją.\n",
    "\n",
    "Pavyzdys su `replace()`:"
   ]
  },
  {
   "cell_type": "code",
   "execution_count": null,
   "metadata": {},
   "outputs": [],
   "source": [
    "from datetime import datetime\n",
    "from zoneinfo import ZoneInfo\n",
    "\n",
    "utc_now = datetime.utcnow()\n",
    "vilnius_time = utc_now.replace(tzinfo=ZoneInfo(\"UTC\")).astimezone(ZoneInfo(\"Europe/Vilnius\"))\n",
    "print(vilnius_time)"
   ]
  },
  {
   "cell_type": "markdown",
   "metadata": {},
   "source": [
    "Pavyzdys su `astimezone()`:"
   ]
  },
  {
   "cell_type": "code",
   "execution_count": null,
   "metadata": {},
   "outputs": [],
   "source": [
    "from datetime import datetime\n",
    "from zoneinfo import ZoneInfo\n",
    "\n",
    "utc_now = datetime.utcnow().replace(tzinfo=ZoneInfo(\"UTC\"))\n",
    "vilnius_time = utc_now.astimezone(ZoneInfo(\"Europe/Vilnius\"))\n",
    "print(vilnius_time)"
   ]
  },
  {
   "cell_type": "markdown",
   "metadata": {},
   "source": [
    "Abu šie metodai pirmiausia sukuria `datetime.datetime` objektą, kuris atspindi dabartinį UTC laiką, ir tada naudoja `replace()` metodą su `tzinfo` argumentu arba `astimezone()` metodą, kad pakeistų laiko zoną į Europe/Vilnius, ir išvestų rezultatą ekrane."
   ]
  },
  {
   "cell_type": "markdown",
   "metadata": {},
   "source": [
    "### Greita užduotis 2\n",
    "\n",
    "1. Parašykite programą, kuri paprašytų vartotojo įvesti laiką HH:MM(:SS) formatu, kur sekundės yra neprivalomos. \n",
    "- Tada paprašykite įvesti laiko zoną. \n",
    "- Išspausdinkite įvestą laiką šiose laiko zonose: Sidnėjaus, Dubajaus, Vilniaus, Londono, Niujorko ir Los Andželo."
   ]
  },
  {
   "cell_type": "code",
   "execution_count": null,
   "metadata": {},
   "outputs": [],
   "source": [
    "# Jūsų kodo vieta"
   ]
  }
 ],
 "metadata": {
  "kernelspec": {
   "display_name": "venv",
   "language": "python",
   "name": "python3"
  },
  "language_info": {
   "codemirror_mode": {
    "name": "ipython",
    "version": 3
   },
   "file_extension": ".py",
   "mimetype": "text/x-python",
   "name": "python",
   "nbconvert_exporter": "python",
   "pygments_lexer": "ipython3",
   "version": "3.10.12"
  }
 },
 "nbformat": 4,
 "nbformat_minor": 2
}
