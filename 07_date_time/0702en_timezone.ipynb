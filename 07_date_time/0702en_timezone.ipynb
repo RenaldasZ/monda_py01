{
 "cells": [
  {
   "cell_type": "markdown",
   "metadata": {},
   "source": [
    "# Time Zones"
   ]
  },
  {
   "cell_type": "markdown",
   "metadata": {},
   "source": [
    "## Aware and Naive Date/Time Objects\n",
    "\n",
    "In the Python datetime module, there are two main types of date and time objects: \"aware\" and \"naive.\" \"Naive\" date and time objects lack information about time zones or switching to summer time, making them inconvenient when dealing with changes in time zones. \n",
    "\n",
    "\"Aware\" objects contain information about time zones and switching to summer time."
   ]
  },
  {
   "cell_type": "markdown",
   "metadata": {},
   "source": [
    "## `datetime.utcnow()`\n",
    "\n",
    "To obtain the current time in Coordinated Universal Time (UTC), you can use the datetime.utcnow() function:"
   ]
  },
  {
   "cell_type": "code",
   "execution_count": null,
   "metadata": {},
   "outputs": [],
   "source": [
    "from datetime import datetime\n",
    "\n",
    "utc_now = datetime.utcnow()\n",
    "print(utc_now)"
   ]
  },
  {
   "cell_type": "markdown",
   "metadata": {},
   "source": [
    "## Time Zone List, `zoneinfo` Module\n",
    "\n",
    "In Python 3.9 and later versions, the `zoneinfo` module allows working with time zones:"
   ]
  },
  {
   "cell_type": "code",
   "execution_count": null,
   "metadata": {},
   "outputs": [],
   "source": [
    "\n",
    "from zoneinfo import ZoneInfo\n",
    "from datetime import datetime\n",
    "\n",
    "# Create an \"aware\" datetime object with a specified time zone\n",
    "time = datetime(2024, 1, 30, 18, 30, tzinfo=ZoneInfo(\"Europe/Vilnius\"))\n",
    "print(time)"
   ]
  },
  {
   "cell_type": "markdown",
   "metadata": {},
   "source": [
    "\n",
    "You can use this module to output a list of time zones it supports:\n",
    "\n"
   ]
  },
  {
   "cell_type": "code",
   "execution_count": null,
   "metadata": {},
   "outputs": [],
   "source": [
    "from zoneinfo import available_timezones\n",
    "\n",
    "for time_zone in available_timezones():\n",
    "    print(time_zone)"
   ]
  },
  {
   "cell_type": "markdown",
   "metadata": {},
   "source": [
    "### Quick Assignement 1\n",
    "\n",
    "1. Write a Python program that generates and outputs a list of all time zones that include the word \"`America`\" in their name, utilizing the `zoneinfo` module."
   ]
  },
  {
   "cell_type": "code",
   "execution_count": null,
   "metadata": {},
   "outputs": [],
   "source": [
    "# Your code here"
   ]
  },
  {
   "cell_type": "markdown",
   "metadata": {},
   "source": [
    "## `datetime.tzinfo`\n",
    "\n",
    "`datetime.tzinfo` is an abstract class used to store time zone information. You can use functions from the `zoneinfo` module to populate the `tzinfo` attribute when creating a new \"aware\" datetime object:\n"
   ]
  },
  {
   "cell_type": "code",
   "execution_count": 6,
   "metadata": {},
   "outputs": [
    {
     "name": "stdout",
     "output_type": "stream",
     "text": [
      "Europe/Vilnius\n"
     ]
    }
   ],
   "source": [
    "\n",
    "from datetime import datetime\n",
    "from zoneinfo import ZoneInfo\n",
    "\n",
    "time = datetime(2023, 4, 12, 18, 30, tzinfo=ZoneInfo(\"Europe/Vilnius\"))\n",
    "print(time.tzinfo)"
   ]
  },
  {
   "cell_type": "markdown",
   "metadata": {},
   "source": [
    "## Specifying Time Zone in `datetime.datetime` Object\n",
    "\n",
    "To specify the time zone in a `datetime.datetime` object, you can use the `replace()` function or the `astimezone()` function.\n",
    "\n",
    "Example with `replace()`:\n"
   ]
  },
  {
   "cell_type": "code",
   "execution_count": 7,
   "metadata": {},
   "outputs": [
    {
     "name": "stdout",
     "output_type": "stream",
     "text": [
      "2024-01-30 13:55:05.813297+02:00\n"
     ]
    }
   ],
   "source": [
    "\n",
    "from datetime import datetime\n",
    "from zoneinfo import ZoneInfo\n",
    "\n",
    "utc_now = datetime.utcnow()\n",
    "vilnius_time = utc_now.replace(tzinfo=ZoneInfo(\"UTC\")).astimezone(ZoneInfo(\"Europe/Vilnius\"))\n",
    "print(vilnius_time)\n"
   ]
  },
  {
   "cell_type": "markdown",
   "metadata": {},
   "source": [
    "Example with `astimezone()`:"
   ]
  },
  {
   "cell_type": "code",
   "execution_count": 8,
   "metadata": {},
   "outputs": [
    {
     "name": "stdout",
     "output_type": "stream",
     "text": [
      "2024-01-30 13:55:31.489903+02:00\n"
     ]
    }
   ],
   "source": [
    "from datetime import datetime\n",
    "from zoneinfo import ZoneInfo\n",
    "\n",
    "utc_now = datetime.utcnow().replace(tzinfo=ZoneInfo(\"UTC\"))\n",
    "vilnius_time = utc_now.astimezone(ZoneInfo(\"Europe/Vilnius\"))\n",
    "print(vilnius_time)"
   ]
  },
  {
   "cell_type": "markdown",
   "metadata": {},
   "source": [
    "\n",
    "Both examples first create a `datetime.datetime` object reflecting the current time in Coordinated Universal Time (UTC). Then, they use the `replace()` or `astimezone()` function to change the time zone to \"Europe/Vilnius\" and output the result on the screen."
   ]
  },
  {
   "cell_type": "markdown",
   "metadata": {},
   "source": [
    "### Quick Assignement 2\n",
    "\n",
    "1. Write a Python program that prompts the user to enter a time in HH:MM or HH:MM:SS format (where seconds are optional) and a time zone. \n",
    "- The program should then display the entered time converted to the time zones of Sydney, Dubai, Vilnius, London, New York, and Los Angeles."
   ]
  },
  {
   "cell_type": "code",
   "execution_count": null,
   "metadata": {},
   "outputs": [],
   "source": [
    "# Your code here"
   ]
  }
 ],
 "metadata": {
  "kernelspec": {
   "display_name": "Python 3",
   "language": "python",
   "name": "python3"
  },
  "language_info": {
   "codemirror_mode": {
    "name": "ipython",
    "version": 3
   },
   "file_extension": ".py",
   "mimetype": "text/x-python",
   "name": "python",
   "nbconvert_exporter": "python",
   "pygments_lexer": "ipython3",
   "version": "3.10.12"
  }
 },
 "nbformat": 4,
 "nbformat_minor": 2
}
