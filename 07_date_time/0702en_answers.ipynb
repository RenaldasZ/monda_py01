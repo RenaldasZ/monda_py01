{
 "cells": [
  {
   "cell_type": "markdown",
   "metadata": {},
   "source": [
    "### Quick Assignement 1"
   ]
  },
  {
   "cell_type": "code",
   "execution_count": null,
   "metadata": {},
   "outputs": [],
   "source": [
    "from zoneinfo import available_timezones\n",
    "\n",
    "america_time_zones = []\n",
    "\n",
    "for tz in available_timezones():\n",
    "     if \"America\" in tz:\n",
    "         america_time_zones.append(tz)\n",
    "\n",
    "for time_zone in america_time_zones:\n",
    "     print(time_zone)"
   ]
  },
  {
   "cell_type": "markdown",
   "metadata": {},
   "source": [
    "### Quick Assignement 1: second example"
   ]
  },
  {
   "cell_type": "code",
   "execution_count": null,
   "metadata": {},
   "outputs": [],
   "source": [
    "from zoneinfo import available_timezones\n",
    "\n",
    "def find_american_timezones():\n",
    "    # List comprehension to filter time zones containing 'America'\n",
    "    american_time_zones = [zone for zone in available_timezones() if \"America/\" in zone]\n",
    "    return american_time_zones\n",
    "\n",
    "# Get the list of 'America' time zones\n",
    "american_timezones = find_american_timezones()\n",
    "\n",
    "# Output the list\n",
    "print(\"American Time Zones:\")\n",
    "for timezone in american_timezones:\n",
    "    print(timezone)"
   ]
  },
  {
   "cell_type": "markdown",
   "metadata": {},
   "source": [
    "### Quick Assignement 2"
   ]
  },
  {
   "cell_type": "code",
   "execution_count": null,
   "metadata": {},
   "outputs": [],
   "source": [
    "from datetime import datetime\n",
    "from zoneinfo import ZoneInfo\n",
    "\n",
    "input_time = input(\"Enter the time in the format HH:MM(:SS), seconds are not required\")\n",
    "format = \"%H:%M\"\n",
    "user_time_zone = input(\"enter time zone eg:\\\"America/Barbados\\\"\")\n",
    "\n",
    "if len(input_time) > 5:\n",
    "     format = \"%H:%M:%S\"\n",
    "time = datetime.strptime(input_time, format)\n",
    "\n",
    "sydney = time.replace(tzinfo=ZoneInfo(user_time_zone)).astimezone(ZoneInfo(\"Australia/Sydney\"))\n",
    "dubai = time.replace(tzinfo=ZoneInfo(user_time_zone)).astimezone(ZoneInfo(\"Asia/Dubai\"))\n",
    "vilnius = time.replace(tzinfo=ZoneInfo(user_time_zone)).astimezone(ZoneInfo(\"Europe/Vilnius\"))\n",
    "london = time.replace(tzinfo=ZoneInfo(user_time_zone)).astimezone(ZoneInfo(\"Europe/London\"))\n",
    "new_york = time.replace(tzinfo=ZoneInfo(user_time_zone)).astimezone(ZoneInfo(\"America/New_York\"))\n",
    "los_angeles = time.replace(tzinfo=ZoneInfo(user_time_zone)).astimezone(ZoneInfo(\"America/Los_Angeles\"))\n",
    "\n",
    "print(f\"\"\"Your time: {time.time()}, {user_time_zone}\n",
    "Sydney time: {sydney.time()}, Australia/Sydney\n",
    "Dubai Time: {dubai.time()}, Asia/Dubai\n",
    "Vilnius time: {vilnius.time()}, Europe/Vilnius\n",
    "London Time: {london.time()}, Europe/London\n",
    "New York Time: {new_york.time()}, America/New York\n",
    "Los Angeles Time: {los_angeles.time()}, America/ Los Angeles\"\"\")"
   ]
  }
 ],
 "metadata": {
  "kernelspec": {
   "display_name": "Python 3",
   "language": "python",
   "name": "python3"
  },
  "language_info": {
   "codemirror_mode": {
    "name": "ipython",
    "version": 3
   },
   "file_extension": ".py",
   "mimetype": "text/x-python",
   "name": "python",
   "nbconvert_exporter": "python",
   "pygments_lexer": "ipython3",
   "version": "3.10.12"
  }
 },
 "nbformat": 4,
 "nbformat_minor": 2
}
