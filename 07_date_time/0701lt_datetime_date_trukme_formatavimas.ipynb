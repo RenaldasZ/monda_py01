{
 "cells": [
  {
   "cell_type": "markdown",
   "metadata": {},
   "source": [
    "# Data ir laikas, formatavimas"
   ]
  },
  {
   "cell_type": "markdown",
   "metadata": {},
   "source": [
    "Modulis `datetime` yra standartinė Python biblioteka, kuri apima įvairias funkcijas ir klases, leidžiančias kurti, keisti, formatuoti ir manipuliuoti datų bei laiko objektais."
   ]
  },
  {
   "cell_type": "markdown",
   "metadata": {},
   "source": [
    "## `datetime` klasė"
   ]
  },
  {
   "cell_type": "code",
   "execution_count": null,
   "metadata": {},
   "outputs": [],
   "source": [
    "from datetime import datetime\n",
    "\n",
    "# Sukurkite datetime objektą su nurodytomis metų, mėnesio, dienos, valandų, minučių ir sekundžių reikšmėmis\n",
    "dt = datetime(2024, 1, 30, 16, 30, 45)\n",
    "\n",
    "print(dt)  # Išves: 2024-01-30 16:30:45"
   ]
  },
  {
   "cell_type": "markdown",
   "metadata": {},
   "source": [
    "## `datetime.now()` funkcija"
   ]
  },
  {
   "cell_type": "code",
   "execution_count": null,
   "metadata": {},
   "outputs": [],
   "source": [
    "from datetime import datetime\n",
    "\n",
    "# Gaukite dabartinį laiką kaip datetime objektą\n",
    "dabar = datetime.now()\n",
    "\n",
    "print(dabar)  # Išves: dabartinį laiką"
   ]
  },
  {
   "cell_type": "markdown",
   "metadata": {},
   "source": [
    "### Greita užduotis 1\n",
    "\n",
    "1. Parašykite programą, kuri pateiktų dabartinį laiką, bet tik minutes ir sekundes."
   ]
  },
  {
   "cell_type": "code",
   "execution_count": null,
   "metadata": {},
   "outputs": [],
   "source": [
    "# Jūsu kodo vieta"
   ]
  },
  {
   "cell_type": "markdown",
   "metadata": {},
   "source": [
    "## `date` klasė"
   ]
  },
  {
   "cell_type": "code",
   "execution_count": null,
   "metadata": {},
   "outputs": [],
   "source": [
    "from datetime import date\n",
    "\n",
    "# Sukurkite date objektą su nurodytomis metų, mėnesio ir dienos reikšmėmis\n",
    "d = date(2023, 4, 7)\n",
    "\n",
    "print(d)  # Išves: 2023-04-07"
   ]
  },
  {
   "cell_type": "markdown",
   "metadata": {},
   "source": [
    "## `date.today()` funkcija"
   ]
  },
  {
   "cell_type": "code",
   "execution_count": null,
   "metadata": {},
   "outputs": [],
   "source": [
    "from datetime import date\n",
    "\n",
    "# Gaukite šiandienos datą kaip date objektą\n",
    "siandiena = date.today()\n",
    "\n",
    "print(siandiena)  # Išves: šiandienos datą"
   ]
  },
  {
   "cell_type": "markdown",
   "metadata": {},
   "source": [
    "## `datetime.timedelta` klasė ir matematiniai veiksmai su data/laiku"
   ]
  },
  {
   "cell_type": "code",
   "execution_count": null,
   "metadata": {},
   "outputs": [],
   "source": [
    "from datetime import datetime, timedelta\n",
    "\n",
    "dabar = datetime.now()\n",
    "print(\"Dabar:\", dabar)\n",
    "\n",
    "# Pridėti 5 dienas prie dabartinės datos\n",
    "po_5_dienu = dabar + timedelta(days=5)\n",
    "print(\"Po 5 dienų:\", po_5_dienu)\n",
    "\n",
    "# Atimti 2 valandas nuo dabartinio laiko\n",
    "pries_2_valandas = dabar - timedelta(hours=2)\n",
    "print(\"Prieš 2 valandas:\", pries_2_valandas)\n",
    "\n",
    "# Skirtumas tarp dviejų datų\n",
    "date1 = datetime(2023, 12, 7)\n",
    "date2 = datetime(2024, 4, 20)\n",
    "skirtumas = date2 - date1\n",
    "print(\"Skirtumas tarp datų:\", skirtumas)  # Išves: 135 days, 0:00:00"
   ]
  },
  {
   "cell_type": "markdown",
   "metadata": {},
   "source": [
    "## Datos ir laiko išvedimo formatavimas su `strftime`"
   ]
  },
  {
   "cell_type": "markdown",
   "metadata": {},
   "source": [
    "Funkcija `strftime` taip pat yra `datetime` modulio dalis ir leidžia formatuoti datetime objektus į eilutes (angl. strings)."
   ]
  },
  {
   "cell_type": "code",
   "execution_count": null,
   "metadata": {},
   "outputs": [],
   "source": [
    "from datetime import datetime\n",
    "\n",
    "date_object = datetime(2023, 4, 12, 18, 30, 0)\n",
    "format_string = \"%Y-%m-%d %H:%M:%S\"\n",
    "\n",
    "date_string = date_object.strftime(format_string)\n",
    "print(date_string)"
   ]
  },
  {
   "cell_type": "markdown",
   "metadata": {},
   "source": [
    "Simboliai `%Y`, `%m`, `%d`, `%H`, `%M` ir `%S` yra formatavimo kodo žymenys, kurie atitinka metus, mėnesius, dienas, valandas, minutes ir sekundes atitinkamai.\n",
    "\n",
    "Daugiau formatavimo galimybių: [https://strftime.org/](https://strftime.org/) (atminkite, tai nėra oficiali Python dokumentacijos svetainė, bet gali būti naudinga kaip greita nuoroda)."
   ]
  },
  {
   "cell_type": "markdown",
   "metadata": {},
   "source": [
    "### Greita užduotis 2"
   ]
  },
  {
   "cell_type": "markdown",
   "metadata": {},
   "source": [
    "1. Sukurkite funkciją, kuri priimtų vartotojo gimimo datą kaip eilutę (\"string\") nurodytu formatu \"%Y-%m-%d\" ir grąžintų skaičių, rodantį, kiek dienų liko iki artimiausio vartotojo gimtadienio."
   ]
  },
  {
   "cell_type": "code",
   "execution_count": null,
   "metadata": {},
   "outputs": [],
   "source": [
    "# Jūsu kodo vieta"
   ]
  },
  {
   "cell_type": "markdown",
   "metadata": {},
   "source": [
    "## Datos ir laiko formavimas iš stringo su `strptime`"
   ]
  },
  {
   "cell_type": "markdown",
   "metadata": {},
   "source": [
    "Python programavimo kalboje funkcija `strptime` yra dalis `datetime` modulio ir yra naudojama eilutei (string) konvertuoti į `datetime` objektą. Ši funkcija leidžia nustatyti eilutės laiko formatą ir pagal jį suformuoti tikslų laiko objektą. \n",
    "\n",
    "Štai pavyzdys, kaip galite naudoti `strptime` funkciją"
   ]
  },
  {
   "cell_type": "code",
   "execution_count": null,
   "metadata": {},
   "outputs": [],
   "source": [
    "from datetime import datetime\n",
    "\n",
    "# Eilutės su data ir laiku formatas\n",
    "date_string = \"2024-01-30 14:05:15\"\n",
    "format_string = \"%Y-%m-%d %H:%M:%S\"\n",
    "\n",
    "# Konvertuojame eilutę į datetime objektą\n",
    "date_object = datetime.strptime(date_string, format_string)\n",
    "\n",
    "print(date_object) # 2023-03-28 14:05:15"
   ]
  },
  {
   "cell_type": "markdown",
   "metadata": {},
   "source": [
    "### Greita užduotis 3\n",
    "\n",
    "1. Parašykite Python programą, kuri priimtų datą ir laiką tekstiniame (string) formate, pavyzdžiui, \"2023-05-21 15:30\", pridėtų prie jos 48 valandas ir grąžintų naują datą bei laiką tekstiniame formate."
   ]
  },
  {
   "cell_type": "code",
   "execution_count": null,
   "metadata": {},
   "outputs": [],
   "source": [
    "# Jūsu kodo vieta"
   ]
  },
  {
   "cell_type": "markdown",
   "metadata": {},
   "source": [
    "## Datos ir laiko išraiška skaičiumi per timestamp"
   ]
  },
  {
   "cell_type": "markdown",
   "metadata": {},
   "source": [
    "`Timestamp` – tai skaičius, nurodantis sekundžių kiekį, praėjusį nuo 1970 m. sausio 1 d. 00:00:00 UTC (laikas, vadinamas Unix epocha). Python programavimo kalboje galima konvertuoti `datetime` objektus į timestamp'us ir atvirkščiai. \n",
    "\n",
    "Štai kaip tai atliekama:"
   ]
  },
  {
   "cell_type": "code",
   "execution_count": null,
   "metadata": {},
   "outputs": [],
   "source": [
    "from datetime import datetime\n",
    "import time\n",
    "\n",
    "date_object = datetime(2023, 4, 12, 18, 30, 0)\n",
    "\n",
    "timestamp = time.mktime(date_object.timetuple())\n",
    "print(timestamp)"
   ]
  },
  {
   "cell_type": "markdown",
   "metadata": {},
   "source": [
    "Konvertuojame timestamp atgal į datetime objektą"
   ]
  },
  {
   "cell_type": "code",
   "execution_count": null,
   "metadata": {},
   "outputs": [],
   "source": [
    "from datetime import datetime\n",
    "import time\n",
    "\n",
    "timestamp = 1681313400\n",
    "\n",
    "date_object = datetime.fromtimestamp(timestamp)\n",
    "print(date_object)"
   ]
  },
  {
   "cell_type": "markdown",
   "metadata": {},
   "source": [
    "### Greita užduotis 4\n",
    "\n",
    "Parašykite programą, kuri priimtų du laikotarpius kaip laiko žymes (timestamp'us) ir grąžintų jų skirtumą dienomis."
   ]
  },
  {
   "cell_type": "code",
   "execution_count": null,
   "metadata": {},
   "outputs": [],
   "source": [
    "# Jūsu kodo vieta"
   ]
  },
  {
   "cell_type": "markdown",
   "metadata": {},
   "source": [
    "### Greita užduotis 5\n",
    "\n",
    "Sukurkite funkciją, kuri priimtų datą kaip eilutę (pavyzdžiui, \"2023-06-01\") ir grąžintų, kokia savaitės diena yra nurodyta šioje datoje (pavyzdžiui, \"Pirmadienis\", \"Antradienis\" ir t.t.)."
   ]
  },
  {
   "cell_type": "code",
   "execution_count": null,
   "metadata": {},
   "outputs": [],
   "source": [
    "# Jūsu kodo vieta"
   ]
  }
 ],
 "metadata": {
  "kernelspec": {
   "display_name": "venv",
   "language": "python",
   "name": "python3"
  },
  "language_info": {
   "codemirror_mode": {
    "name": "ipython",
    "version": 3
   },
   "file_extension": ".py",
   "mimetype": "text/x-python",
   "name": "python",
   "nbconvert_exporter": "python",
   "pygments_lexer": "ipython3",
   "version": "3.10.12"
  }
 },
 "nbformat": 4,
 "nbformat_minor": 2
}
