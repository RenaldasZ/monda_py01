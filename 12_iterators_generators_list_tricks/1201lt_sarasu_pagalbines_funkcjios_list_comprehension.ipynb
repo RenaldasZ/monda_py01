{
 "cells": [
  {
   "cell_type": "markdown",
   "metadata": {},
   "source": [
    "# Sąrašų pagalbinės funkcjios, Sąrašo apibrėžimas"
   ]
  },
  {
   "cell_type": "markdown",
   "metadata": {},
   "source": [
    "## pagalbinės funkcjios"
   ]
  },
  {
   "cell_type": "markdown",
   "metadata": {},
   "source": [
    "### Sąrašų apdorojimo funkcija `reduce()`: "
   ]
  },
  {
   "cell_type": "markdown",
   "metadata": {},
   "source": [
    "`reduce()` funkcija, kuri yra iš functools modulio, naudojama sąrašo elementų redukcijai (sumažinimui) į vieną reikšmę, taikant nurodytą dvejų argumentų funkciją. Funkcija pritaikoma paeiliui kiekvienai porai elementų sąraše, kaupiant galutinį rezultatą. \n",
    "\n",
    "Pavyzdžiui, jei norite susumuoti sąrašo skaičius, galite padaryti tai su `reduce()` taip:"
   ]
  },
  {
   "cell_type": "code",
   "execution_count": null,
   "metadata": {},
   "outputs": [],
   "source": [
    "from functools import reduce\n",
    "\n",
    "skaiciai = [1, 2, 3, 4, 5]\n",
    "suma = reduce(lambda x, y: x + y, skaiciai)\n",
    "print(suma)  # 15"
   ]
  },
  {
   "cell_type": "markdown",
   "metadata": {},
   "source": [
    "Kitas pavyzdys naudojant if, else:"
   ]
  },
  {
   "cell_type": "code",
   "execution_count": null,
   "metadata": {},
   "outputs": [],
   "source": [
    "from functools import reduce\n",
    "\n",
    "sarasas = [1, 2, 3, 4, 5]\n",
    "maksimalus = reduce(lambda x, y: x if x > y else y, sarasas)\n",
    "print(maksimalus)  # 5"
   ]
  },
  {
   "cell_type": "markdown",
   "metadata": {},
   "source": [
    "`lambda x, y: x + y` yra funkcija, kurią `reduce()` naudoja kaip savo veiksmą. Ji ima pirmus du skaičius iš sąrašo, taiko funkciją (`x + y`), tada resultatą naudoja kaip pirmą skaičių naujai porai su trečiuoju skaičiumi iš sąrašo, ir t.t., kol lieka tik vienas skaičius - galutinė suma."
   ]
  },
  {
   "cell_type": "markdown",
   "metadata": {},
   "source": [
    "*`map()` ir `filter()` taip pat yra pagalbinės fukcijos, jas prisiminti galite [čia](https://github.com/infohata/monda_py01/blob/main/03_functions/0306en_anonymous_functions.ipynb)*"
   ]
  },
  {
   "cell_type": "markdown",
   "metadata": {},
   "source": [
    "### Greita užduotis 1\n",
    "\n",
    "1. Sukurkite programą, kuri naudoja `lambda`, `map()` ir `filter()` funkcijas, kad atrinktų sąrašo elementus, didesnius už 10, ir padidintų juos dvigubai. \n",
    "- Palyginkite šį rezultatą su tuo, ką gautumėte naudodami \"list comprehension\"."
   ]
  },
  {
   "cell_type": "code",
   "execution_count": null,
   "metadata": {},
   "outputs": [],
   "source": [
    "# jusu kodo vieta"
   ]
  },
  {
   "cell_type": "markdown",
   "metadata": {},
   "source": [
    "### Greita užduotis 2\n",
    "\n",
    "1. Parašykite programą, kuri naudoja `reduce()` funkciją, kad rastų sąrašo elementų sandaugą."
   ]
  },
  {
   "cell_type": "code",
   "execution_count": null,
   "metadata": {},
   "outputs": [],
   "source": [
    "# jusu kodo vieta"
   ]
  },
  {
   "cell_type": "markdown",
   "metadata": {},
   "source": [
    "## Statistinės funkcijos"
   ]
  },
  {
   "cell_type": "markdown",
   "metadata": {},
   "source": [
    "- `sum()`: funkcija, grąžinanti sąrašo elementų sumą.\n",
    "- `max()`: funkcija, grąžinanti didžiausią sąrašo elementą.\n",
    "- `min()`: funkcija, grąžinanti mažiausią sąrašo elementą.\n",
    "- `mean()`: funkcija, grąžinanti vidurkį. Galite ją gauti su `statistics.mean()`.\n",
    "- `median()`: funkcija, grąžinanti medianą. Galite ją gauti su `statistics.median()`."
   ]
  },
  {
   "cell_type": "markdown",
   "metadata": {},
   "source": [
    "Pavyzdys:"
   ]
  },
  {
   "cell_type": "code",
   "execution_count": null,
   "metadata": {},
   "outputs": [],
   "source": [
    "import statistics\n",
    "\n",
    "sarasas = [1, 2, 3, 4, 5]\n",
    "print(sum(sarasas))  # 15\n",
    "print(max(sarasas))  # 5\n",
    "print(min(sarasas))  # 1\n",
    "print(statistics.mean(sarasas))  # 3.0\n",
    "print(statistics.median(sarasas))  # 3"
   ]
  },
  {
   "cell_type": "markdown",
   "metadata": {},
   "source": [
    "### Greita užduotis 3\n",
    "\n",
    "1. Naudodamiesi `statistics` moduliu, apskaičiuokite ir išveskite sąrašo elementų sumą, vidurkį, medianą, mažiausią ir didžiausią elementą.\n",
    "\n",
    "```py\n",
    "sarasas = [2, 4, 20, 33, 10]"
   ]
  },
  {
   "cell_type": "code",
   "execution_count": null,
   "metadata": {},
   "outputs": [],
   "source": [
    "# jusu kodo vieta"
   ]
  },
  {
   "cell_type": "markdown",
   "metadata": {},
   "source": [
    "## `sort()`"
   ]
  },
  {
   "cell_type": "markdown",
   "metadata": {},
   "source": [
    "Tai yra sąrašo metodas, kuris išrūšiuoja sąrašo elementus. `sort()` priima kelis pasirinktinius parametrus, tokius kaip `key` ir `reverse`.\n",
    "\n",
    "Pavyzdys:"
   ]
  },
  {
   "cell_type": "code",
   "execution_count": null,
   "metadata": {},
   "outputs": [],
   "source": [
    "sarasas = [3, 1, 4, 1, 5, 9, 2]\n",
    "sarasas.sort()\n",
    "print(sarasas)  # [1, 1, 2, 3, 4, 5, 9]"
   ]
  },
  {
   "cell_type": "markdown",
   "metadata": {},
   "source": [
    "Jei norite rūšiuoti sąrašą atvirkščia tvarka, galite nurodyti `reverse=True`:"
   ]
  },
  {
   "cell_type": "code",
   "execution_count": null,
   "metadata": {},
   "outputs": [],
   "source": [
    "sarasas = [3, 1, 4, 1, 5, 9, 2]\n",
    "sarasas.sort(reverse=True)\n",
    "print(sarasas)  # [9, 5, 4, 3, 2, 1, 1]"
   ]
  },
  {
   "cell_type": "markdown",
   "metadata": {},
   "source": [
    "Galite naudoti `key` parametrą, kad nurodytumėte, pagal ką rūšiuoti sąrašą:"
   ]
  },
  {
   "cell_type": "code",
   "execution_count": null,
   "metadata": {},
   "outputs": [],
   "source": [
    "eilutes_sarasas = [\"vienas\", \"du\", \"trys\", \"keturi\", \"penki\"]\n",
    "eilutes_sarasas.sort(key=len)\n",
    "print(eilutes_sarasas)  # ['du', 'trys', 'vienas', 'keturi', 'penki']"
   ]
  },
  {
   "cell_type": "markdown",
   "metadata": {},
   "source": [
    "## `sorted()`"
   ]
  },
  {
   "cell_type": "markdown",
   "metadata": {},
   "source": [
    "Tai yra Python įterpimo funkcija, kuri rūšiuoja sąrašą ir grąžina naują, rūšiuotą sąrašą, nepakeisdama pradinio. `sorted()` taip pat priima pasirinktinius parametrus, tokius kaip `key` ir `reverse`.\n",
    "\n",
    "Pavyzdys:"
   ]
  },
  {
   "cell_type": "code",
   "execution_count": null,
   "metadata": {},
   "outputs": [],
   "source": [
    "sarasas = [3, 1, 4, 1, 5, 9, 2]\n",
    "rūšiuotas_sarasas = sorted(sarasas)\n",
    "print(rūšiuotas_sarasas)  # [1, 1, 2, 3, 4, 5, 9]"
   ]
  },
  {
   "cell_type": "markdown",
   "metadata": {},
   "source": [
    "### Greita užduotis 4\n",
    "1. Sukurkite programą, kuri naudoja `sort()` arba `sorted()` funkcijas, kad rūšiuotų sąrašą skaičių pagal jų liekanas dalinant iš 3 (atsižvelgiant į key parametrą)."
   ]
  },
  {
   "cell_type": "code",
   "execution_count": null,
   "metadata": {},
   "outputs": [],
   "source": [
    "# jusu kodo vieta"
   ]
  },
  {
   "cell_type": "markdown",
   "metadata": {},
   "source": [
    "## Objektų rūšiavimas sąraše"
   ]
  },
  {
   "cell_type": "markdown",
   "metadata": {},
   "source": [
    "Tarkime, turime Student klasę, kuri saugo vardą, pavardę ir pažymių sąrašą. Norime rūšiuoti `Studentas` objektų sąrašą pagal jų pažymių vidurkius."
   ]
  },
  {
   "cell_type": "code",
   "execution_count": null,
   "metadata": {},
   "outputs": [],
   "source": [
    "class Studentas:\n",
    "    def __init__(self, vardas, pavarde, pazymiai):\n",
    "        self.vardas = vardas\n",
    "        self.pavarde = pavarde\n",
    "        self.pazymiai = pazymiai\n",
    "\n",
    "    def vidurkis(self):\n",
    "        return sum(self.pazymiai) / len(self.pazymiai)\n",
    "\n",
    "studentai = [\n",
    "    Studentas(\"Jonas\", \"Jonaitis\", [8, 9, 7]),\n",
    "    Studentas(\"Petras\", \"Petraitis\", [10, 9, 10]),\n",
    "    Studentas(\"Ona\", \"Onaitė\", [6, 8, 7]),\n",
    "]\n",
    "\n",
    "rusiuoti_studentai = sorted(studentai, key=lambda x: x.vidurkis(), reverse=True)\n",
    "for studentas in rusiuoti_studentai:\n",
    "    print(f\"{studentas.vardas} {studentas.pavarde} - {studentas.vidurkis()}\")"
   ]
  },
  {
   "cell_type": "markdown",
   "metadata": {},
   "source": [
    "Ši programa naudoja `sorted()` funkciją su `key` argumentu, nukreiptu į `Studentas` objektų metodą `vidurkis()`, kad surūšiuotų studentai sąrašą pagal studentų vidurkius. Be to, argumentas `reverse=True` yra pritaikytas, pabrėžiant poreikį atlikti rūšiavimą mažėjančia tvarka, nuo didžiausio vidurkio iki mažiausio."
   ]
  },
  {
   "cell_type": "markdown",
   "metadata": {},
   "source": [
    "## `attrgetter()`"
   ]
  },
  {
   "cell_type": "markdown",
   "metadata": {},
   "source": [
    "`attrgetter()` funkcija iš operator modulio yra skirta generuoti funkciją, kuri veikia kaip raktas (`key`) rūšiavimo ar kitokioms operacijoms, kuriose reikalinga palyginimo logika. Ji efektyviai išgauna objekto atributus pagal nurodytus atributų pavadinimus, leidžiant tokiu būdu greitai ir patogiai rūšiuoti arba grupuoti duomenis remiantis šiais atributais."
   ]
  },
  {
   "cell_type": "code",
   "execution_count": null,
   "metadata": {},
   "outputs": [],
   "source": [
    "from operator import attrgetter\n",
    "\n",
    "class Studentas:\n",
    "    def __init__(self, vardas, pavarde, pazymiai):\n",
    "        self.vardas = vardas\n",
    "        self.pavarde = pavarde\n",
    "        self.pazymiai = pazymiai\n",
    "\n",
    "    def vidurkis(self):\n",
    "        return sum(self.pazymiai) / len(self.pazymiai)\n",
    "\n",
    "studentai = [\n",
    "    Studentas(\"Jonas\", \"Jonaitis\", [8, 9, 7]),\n",
    "    Studentas(\"Petras\", \"Petraitis\", [10, 9, 10]),\n",
    "    Studentas(\"Ona\", \"Onaitė\", [6, 8, 7]),\n",
    "]\n",
    "\n",
    "rūšiuoti_studentai = sorted(studentai, key=attrgetter(\"vardas\"))\n",
    "for studentas in rūšiuoti_studentai:\n",
    "    print(f\"{studentas.vardas} {studentas.pavarde}\")"
   ]
  },
  {
   "cell_type": "markdown",
   "metadata": {},
   "source": [
    "`attrgetter()` funkcija nusako, kad rūšiuojame objektus pagal \"`vardas`\" atributą.\n",
    "\n",
    "Jei norite rūšiuoti pagal kelis atributus, galite pateikti kelių atributų pavadinimus kaip argumentus `attrgetter()` funkcijai:"
   ]
  },
  {
   "cell_type": "code",
   "execution_count": null,
   "metadata": {},
   "outputs": [],
   "source": [
    "rūšiuoti_studentai = sorted(studentai, key=attrgetter(\"pavarde\", \"vardas\"))\n",
    "for studentas in rūšiuoti_studentai:\n",
    "    print(f\"{studentas.pavarde} {studentas.vardas}\")"
   ]
  },
  {
   "cell_type": "markdown",
   "metadata": {},
   "source": [
    "`attrgetter()` funkcija rūšiuos studentus pagal pavardę, o tada pagal vardą, kadangi key funkcija rūšiuoja elementus nuo kairės į dešinę."
   ]
  },
  {
   "cell_type": "markdown",
   "metadata": {},
   "source": [
    "## Sąrašo apibrėžimas (List comprehension)"
   ]
  },
  {
   "cell_type": "markdown",
   "metadata": {},
   "source": [
    "Sąrašo apibrėžimas (angl. `list comprehension`) yra kodą sutrumpinantis metodas naujų sąrašų kūrimui iš esamų iteruojamų objektų. Jis leidžia taikyti `for` ciklą ir, jei reikia, `if` sąlygas viename reiškinyje. Tai ne tik padidina kodo skaitymo aiškumą ir glaustumą, bet ir dažnai yra efektyvesnis vykdymo laiko atžvilgiu, palyginti su tradicinio ciklo naudojimu."
   ]
  },
  {
   "cell_type": "markdown",
   "metadata": {},
   "source": [
    "### Sąrašo kėlimas laipsniu"
   ]
  },
  {
   "cell_type": "code",
   "execution_count": null,
   "metadata": {},
   "outputs": [],
   "source": [
    "skaiciai = [1, 2, 3, 4, 5]\n",
    "laipsniai = 3\n",
    "pakelta_skaiciai = [x ** laipsniai for x in skaiciai]\n",
    "print(pakelta_skaiciai)  # Rezultatas: [1, 8, 27, 64, 125]"
   ]
  },
  {
   "cell_type": "markdown",
   "metadata": {},
   "source": [
    "### Sąrašo filtravimas pagal loginę sąlygą"
   ]
  },
  {
   "cell_type": "code",
   "execution_count": null,
   "metadata": {},
   "outputs": [],
   "source": [
    "skaiciai = [1, 2, 3, 4, 5]\n",
    "salyga = lambda x: x % 2 == 0\n",
    "filtruoti_skaiciai = [x for x in skaiciai if salyga(x)]\n",
    "print(filtruoti_skaiciai)  # Rezultatas: [2, 4]"
   ]
  },
  {
   "cell_type": "markdown",
   "metadata": {},
   "source": [
    "### Sąrašo apibrėžimas pritaikant `lambda` funkciją"
   ]
  },
  {
   "cell_type": "code",
   "execution_count": null,
   "metadata": {},
   "outputs": [],
   "source": [
    "skaiciai = [1, 2, 3, 4, 5]\n",
    "dvigubas_skaiciai = [(lambda x: x * 2)(x) for x in skaiciai]\n",
    "print(dvigubas_skaiciai)  # Rezultatas: [2, 4, 6, 8, 10]"
   ]
  },
  {
   "cell_type": "markdown",
   "metadata": {},
   "source": [
    "### Sąrašo apibrėžimo pakeitimas generatoriaus apibrėžimu"
   ]
  },
  {
   "cell_type": "code",
   "execution_count": null,
   "metadata": {},
   "outputs": [],
   "source": [
    "skaiciai = [1, 2, 3, 4, 5]\n",
    "laipsniai = 3\n",
    "pakelta_skaiciai_gen = (x ** laipsniai for x in skaiciai)\n",
    "\n",
    "for pakeltas in pakelta_skaiciai_gen:\n",
    "    print(pakeltas)\n",
    "\n",
    "# Rezultatas:\n",
    "# 1\n",
    "# 8\n",
    "# 27\n",
    "# 64\n",
    "# 125"
   ]
  },
  {
   "cell_type": "markdown",
   "metadata": {},
   "source": [
    "### Greita užduotis 5\n",
    "\n",
    "1. Sukurkite programą, kuri naudoja `lambda`, `filter()` ir `reduce()` funkcijas, kad apskaičiuotų vidurkį tų sąrašo skaičių, kurie yra lyginiai. \n",
    "- Palyginkite šį rezultatą su tuo, ką gautumėte naudodami \"list comprehension\"."
   ]
  },
  {
   "cell_type": "code",
   "execution_count": null,
   "metadata": {},
   "outputs": [],
   "source": [
    "# jusu kodo vieta"
   ]
  }
 ],
 "metadata": {
  "kernelspec": {
   "display_name": "venv",
   "language": "python",
   "name": "python3"
  },
  "language_info": {
   "codemirror_mode": {
    "name": "ipython",
    "version": 3
   },
   "file_extension": ".py",
   "mimetype": "text/x-python",
   "name": "python",
   "nbconvert_exporter": "python",
   "pygments_lexer": "ipython3",
   "version": "3.10.12"
  }
 },
 "nbformat": 4,
 "nbformat_minor": 2
}
