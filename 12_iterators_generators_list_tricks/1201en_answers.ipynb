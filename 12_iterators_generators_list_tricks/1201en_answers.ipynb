{
 "cells": [
  {
   "cell_type": "markdown",
   "metadata": {},
   "source": [
    "# Quick assignment 1"
   ]
  },
  {
   "cell_type": "code",
   "execution_count": null,
   "metadata": {},
   "outputs": [],
   "source": [
    "numbers = [5, 12, 7, 18, 4, 15]\n",
    "\n",
    "# Using map() and lambda function to double numbers greater than 10\n",
    "doubled_numbers = map(lambda x: x * 2, filter(lambda x: x > 10, numbers))\n",
    "print(\"Using map() and filter():\", list(doubled_numbers))\n",
    "\n",
    "# List comprehension\n",
    "doubled_numbers_lc = [x * 2 for x in numbers if x > 10]\n",
    "print(\"Using list comprehension:\", doubled_numbers_lc)\n"
   ]
  },
  {
   "cell_type": "markdown",
   "metadata": {},
   "source": [
    "# Quick assignment 2"
   ]
  },
  {
   "cell_type": "code",
   "execution_count": null,
   "metadata": {},
   "outputs": [],
   "source": [
    "from functools import reduce\n",
    "\n",
    "numbers = [1, 2, 3, 4, 5]\n",
    "\n",
    "# Find the product\n",
    "product = reduce(lambda x, y: x * y, numbers)\n",
    "print(product)  # 120"
   ]
  },
  {
   "cell_type": "markdown",
   "metadata": {},
   "source": [
    "# Quick assignment 3"
   ]
  },
  {
   "cell_type": "code",
   "execution_count": null,
   "metadata": {},
   "outputs": [],
   "source": [
    "import statistics\n",
    "\n",
    "numbers = [2, 4, 20, 33, 10]\n",
    "\n",
    "print(sum(numbers))  # 69\n",
    "print(statistics.mean(numbers))  # 13.8\n",
    "print(statistics.median(numbers))  # 10\n",
    "print(min(numbers))  # 2\n",
    "print(max(numbers))  # 33"
   ]
  },
  {
   "cell_type": "markdown",
   "metadata": {},
   "source": [
    "# Quick assignment 4"
   ]
  },
  {
   "cell_type": "code",
   "execution_count": null,
   "metadata": {},
   "outputs": [],
   "source": [
    "numbers = [3, 1, 4, 1, 5, 9, 2]\n",
    "\n",
    "result = sorted(numbers, key=lambda x: x % 3)\n",
    "print(result)  # [3, 9, 1, 4, 1, 5, 2]"
   ]
  },
  {
   "cell_type": "markdown",
   "metadata": {},
   "source": [
    "# Quick assignment 5"
   ]
  },
  {
   "cell_type": "code",
   "execution_count": null,
   "metadata": {},
   "outputs": [],
   "source": [
    "from functools import reduce\n",
    "\n",
    "numbers = [1, 2, 3, 4, 5]\n",
    "\n",
    "result = reduce(lambda x, y: x + y, filter(lambda x: x % 2 == 0, numbers)) / len(list(filter(lambda x: x % 2 == 0, numbers)))\n",
    "print(result)  # 3.0\n",
    "\n",
    "# Using simple functions and `for` loops\n",
    "result = sum(x for x in numbers if x % 2 == 0) / len([x for x in numbers if x % 2 == 0])\n",
    "print(result)  # 3.0"
   ]
  }
 ],
 "metadata": {
  "kernelspec": {
   "display_name": "Python 3",
   "language": "python",
   "name": "python3"
  },
  "language_info": {
   "codemirror_mode": {
    "name": "ipython",
    "version": 3
   },
   "file_extension": ".py",
   "mimetype": "text/x-python",
   "name": "python",
   "nbconvert_exporter": "python",
   "pygments_lexer": "ipython3",
   "version": "3.10.12"
  }
 },
 "nbformat": 4,
 "nbformat_minor": 2
}
