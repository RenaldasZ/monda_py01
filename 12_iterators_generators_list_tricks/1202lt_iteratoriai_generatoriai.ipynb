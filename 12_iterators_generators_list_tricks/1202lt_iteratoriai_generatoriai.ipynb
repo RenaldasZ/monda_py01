{
 "cells": [
  {
   "cell_type": "markdown",
   "metadata": {},
   "source": [
    "## Iteratoriai ir Generatoriai"
   ]
  },
  {
   "cell_type": "markdown",
   "metadata": {},
   "source": [
    "Iteratorius yra objektas, kuris palaiko iteraciją (kartojimą) per elementus arba reikšmes."
   ]
  },
  {
   "cell_type": "markdown",
   "metadata": {},
   "source": [
    "### Iterator ir `iter()` metodai\n",
    "\n",
    "Iteratorius naudoja dviejų metodų rinkinį: `iter()` ir `next()`\n",
    "\n",
    "Pavyzdys:"
   ]
  },
  {
   "cell_type": "code",
   "execution_count": null,
   "metadata": {},
   "outputs": [],
   "source": [
    "# Sukuriame sąrašą\n",
    "my_list = [1, 2, 3, 4, 5]\n",
    "\n",
    "# Sukuriame iteratoriaus objektą\n",
    "my_iterator = iter(my_list)\n",
    "\n",
    "# Iteruojame per iteratoriaus elementus su next() metodu\n",
    "try:\n",
    "    print(next(my_iterator)) # 1\n",
    "    print(next(my_iterator)) # 2\n",
    "    print(next(my_iterator)) # 3\n",
    "    print(next(my_iterator)) # 4\n",
    "    print(next(my_iterator)) # 5\n",
    "    print(next(my_iterator)) # sukels StopIteration išimtį\n",
    "except StopIteration:\n",
    "    print(\"Baigta iteracija\")"
   ]
  },
  {
   "cell_type": "markdown",
   "metadata": {},
   "source": [
    "Šioje programoje sukūrėme sąrašą „my_list“ ir po to sukūrėme iteratoriaus objektą „my_iterator“ naudodami `iter()` metodą. Tada mes iteravome per iteratoriaus elementus naudodami `next()` metodą, atspausdinome kiekvieną elementą ir naudojome try-except bloką, kad suvaldytume `StopIteration` išimtį, kuri sukelia, kai bandome iteruoti daugiau elementų, nei yra."
   ]
  },
  {
   "cell_type": "markdown",
   "metadata": {},
   "source": [
    "### Greita Užduotis 1: Bazinis Iteratorius\n",
    "\n",
    "1. Sukurkite sąrašą (list) su savo mėgstamiausiais vaisiais.\n",
    "1. Sukurkite iteratoriaus objektą šiam sąrašui.\n",
    "1. Iteruokite per iteratorių naudodami `next()` metodą ir atspausdinkite kiekvieną vaisių."
   ]
  },
  {
   "cell_type": "code",
   "execution_count": null,
   "metadata": {},
   "outputs": [],
   "source": [
    "# jusu kodo vieta"
   ]
  },
  {
   "cell_type": "markdown",
   "metadata": {},
   "source": [
    "## Iteravimas su `for` ciklu"
   ]
  },
  {
   "cell_type": "markdown",
   "metadata": {},
   "source": [
    "Ciklas `for` automatiškai iškviečia `iter()` metodą, kad gautų iteratoriaus objektą, o paskui iškviečia `next()` metodą, norėdamas gauti kiekvieną reikšmę iš iteratoriaus sekos.\n",
    "\n",
    "Sukurkime sąrašą (list) ir iteruokime per jį naudodami `for` ciklą:"
   ]
  },
  {
   "cell_type": "code",
   "execution_count": null,
   "metadata": {},
   "outputs": [],
   "source": [
    "# Sukuriame sąrašą\n",
    "my_list = [1, 2, 3, 4, 5]\n",
    "\n",
    "# Iteruojame per sąrašą su for ciklu\n",
    "for element in my_list:\n",
    "    print(element)"
   ]
  },
  {
   "cell_type": "markdown",
   "metadata": {},
   "source": [
    "Sukurkime žodyną ir iteruokite per jo raktus (`key`) ir reikšmes (`value`) naudodami for ciklą:"
   ]
  },
  {
   "cell_type": "code",
   "execution_count": null,
   "metadata": {},
   "outputs": [],
   "source": [
    "# Sukuriame žodyną\n",
    "my_dict = {\"A\": 1, \"B\": 2, \"C\": 3}\n",
    "\n",
    "# Iteruojame per žodyno raktus ir reikšmes su for ciklu\n",
    "for key, value in my_dict.items():\n",
    "    print(key, value)"
   ]
  },
  {
   "cell_type": "markdown",
   "metadata": {},
   "source": [
    "Sukurkime eilutę ir iteruokite per jos simbolius naudodami `for` ciklą:"
   ]
  },
  {
   "cell_type": "code",
   "execution_count": null,
   "metadata": {},
   "outputs": [],
   "source": [
    "# Sukuriame tekstinę eilutę\n",
    "sentence = \"Sveikas, pasauli!\"\n",
    "\n",
    "# Iteruojame per eilutės simbolius su for ciklu\n",
    "for character in sentence:\n",
    "    print(character)"
   ]
  },
  {
   "cell_type": "markdown",
   "metadata": {},
   "source": [
    "Kaip matote, for ciklas yra patogus būdas iteruoti per iteratoriaus elementus, nes jis automatiškai iškviečia `iter()` ir `next()` metodus."
   ]
  },
  {
   "cell_type": "markdown",
   "metadata": {},
   "source": [
    "### Greita Užduotis 2: Iteratorius su „for“ Ciklu\n",
    "\n",
    "1. Sukurkite `žodyną` programavimo kalbų ir jų populiarumo.\n",
    "1. Iteruokite per `žodyną` naudodami `for` ciklą ir `atspausdinkite` kiekvieną kalbą bei jos populiarumą."
   ]
  },
  {
   "cell_type": "code",
   "execution_count": null,
   "metadata": {},
   "outputs": [],
   "source": [
    "# jusu kodo vieta"
   ]
  },
  {
   "cell_type": "markdown",
   "metadata": {},
   "source": [
    "## Iteravimas su `while` ciklu"
   ]
  },
  {
   "cell_type": "markdown",
   "metadata": {},
   "source": [
    "Ciklas `while` naudoja `next()` metodą, kad gautų kiekvieną reikšmę iš iteratoriaus sekos, ir tada apdoroja šias reikšmes, kol bus iškelta `StopIteration` išimtis.\n",
    "\n",
    "Sukurkime `sąrašą` ir iteruokime per jį naudodami `while` ciklą:"
   ]
  },
  {
   "cell_type": "code",
   "execution_count": null,
   "metadata": {},
   "outputs": [],
   "source": [
    "# Sukuriame sąrašą\n",
    "my_list = [1, 2, 3, 4, 5]\n",
    "\n",
    "# Sukuriame iteratoriaus objektą\n",
    "my_iterator = iter(my_list)\n",
    "\n",
    "# Iteruojame per iteratoriaus elementus su while ciklu\n",
    "while True:\n",
    "    try:\n",
    "        element = next(my_iterator)\n",
    "        print(element)\n",
    "    except StopIteration:\n",
    "        break"
   ]
  },
  {
   "cell_type": "markdown",
   "metadata": {},
   "source": [
    "Sukurkime žodyną ir iteruokime per jo raktus ir reikšmes su while ciklu:"
   ]
  },
  {
   "cell_type": "code",
   "execution_count": null,
   "metadata": {},
   "outputs": [],
   "source": [
    "# Sukuriame žodyną\n",
    "my_dict = {\"A\": 1, \"B\": 2, \"C\": 3}\n",
    "\n",
    "# Sukuriame iteratoriaus objektą\n",
    "my_iterator = iter(my_dict.items())\n",
    "\n",
    "# Iteruojame per iteratoriaus elementus su while ciklu\n",
    "while True:\n",
    "    try:\n",
    "        key, value = next(my_iterator)\n",
    "        print(key, value)\n",
    "    except StopIteration:\n",
    "        break"
   ]
  },
  {
   "cell_type": "markdown",
   "metadata": {},
   "source": [
    "Sukurkime tekstinę eilutę ir iteruokime per jos simbolius su `while` ciklu:"
   ]
  },
  {
   "cell_type": "code",
   "execution_count": null,
   "metadata": {},
   "outputs": [],
   "source": [
    "# Sukuriame tekstinę eilutę\n",
    "sentence = \"Sveiki, pasauli!\"\n",
    "\n",
    "# Sukuriame iteratoriaus objektą\n",
    "sentence_iterator = iter(sentence)\n",
    "\n",
    "# Iteruojame per iteratoriaus elementus su while ciklu\n",
    "while True:\n",
    "    try:\n",
    "        character = next(sentence_iterator)\n",
    "        print(character)\n",
    "    except StopIteration:\n",
    "        break"
   ]
  },
  {
   "cell_type": "markdown",
   "metadata": {},
   "source": [
    "## Generatoriai"
   ]
  },
  {
   "cell_type": "markdown",
   "metadata": {},
   "source": [
    "Generatoriai yra specialūs Python objektai, kurie leidžia efektyviau atlikti iteracijas."
   ]
  },
  {
   "cell_type": "markdown",
   "metadata": {},
   "source": [
    "## Generatoriaus funkcija su `yield`"
   ]
  },
  {
   "cell_type": "markdown",
   "metadata": {},
   "source": [
    "Generatoriaus funkcijos yra tokios funkcijos, kurios vietoj `return` naudoja `yield` sakinį. `yield` leidžia funkcijai grąžinti reikšmę ir sustabdyti jos vykdymą, kol ji bus iškviesta vėl.\n",
    "\n",
    "Pavyzdys:"
   ]
  },
  {
   "cell_type": "code",
   "execution_count": null,
   "metadata": {},
   "outputs": [],
   "source": [
    "def numbers_up_to_n(n):\n",
    "    i = 0\n",
    "    while i < n:\n",
    "        yield i\n",
    "        i += 1\n",
    "\n",
    "# Sukuriamas generatorius, kuris generuoja skaičius nuo 0 iki 9\n",
    "generator = numbers_up_to_n(10)\n",
    "\n",
    "for number in generator:\n",
    "    print(number)"
   ]
  },
  {
   "cell_type": "markdown",
   "metadata": {},
   "source": [
    "### Greita Užduotis 4: Pagrindinė Generatoriaus Funkcija\n",
    "\n",
    "1. Parašykite generatoriaus funkciją, kuri generuoja kvadratinius skaičius iki 5.\n",
    "1. Sukurkite generatoriaus `objektą` naudodami funkciją.\n",
    "1. Iteruokite per generatorių ir `atspausdinkite` kiekvieną kvadratinį skaičių."
   ]
  },
  {
   "cell_type": "code",
   "execution_count": null,
   "metadata": {},
   "outputs": [],
   "source": [
    "# jusu kodo vieta"
   ]
  },
  {
   "cell_type": "markdown",
   "metadata": {},
   "source": [
    "## Generatorius su `next()`"
   ]
  },
  {
   "cell_type": "markdown",
   "metadata": {},
   "source": [
    "Pavyzdys:"
   ]
  },
  {
   "cell_type": "code",
   "execution_count": null,
   "metadata": {},
   "outputs": [],
   "source": [
    "def numbers_up_to_n(n):\n",
    "    i = 0\n",
    "    while i < n:\n",
    "        yield i\n",
    "        i += 1\n",
    "\n",
    "generator = numbers_up_to_n(3)\n",
    "\n",
    "print(next(generator))  # 0\n",
    "print(next(generator))  # 1\n",
    "print(next(generator))  # 2\n",
    "print(next(generator))  # Sukels StopIteration klaidą"
   ]
  },
  {
   "cell_type": "markdown",
   "metadata": {},
   "source": [
    "Funkcija `next()` leidžia gauti kitą elementą iš generatoriaus. Jei generatorius baigė generuoti visas reikšmes, `next()` iškels StopIteration klaidą."
   ]
  },
  {
   "cell_type": "markdown",
   "metadata": {},
   "source": [
    "### Greita Užduotis 5: Generatorius su „`next()`“\n",
    "\n",
    "1. Parašykite generatoriaus funkciją, kuri pateikia lyginius skaičius iki 8.\n",
    "1. Sukurkite generatoriaus `objektą` naudodami šią funkciją.\n",
    "1. Naudokite `next()` funkciją, kad atspausdintumėte pirmus tris lyginius skaičius."
   ]
  },
  {
   "cell_type": "code",
   "execution_count": null,
   "metadata": {},
   "outputs": [],
   "source": [
    "# jusu kodo vieta"
   ]
  },
  {
   "cell_type": "markdown",
   "metadata": {},
   "source": [
    "## Generatoriaus deklaracija su `()`"
   ]
  },
  {
   "cell_type": "markdown",
   "metadata": {},
   "source": [
    "Galite deklaruoti generatorių naudodami generatoriaus išraišką, panašiai kaip sąrašo supratimą, bet naudojant `()` vietoje `[]`.\n",
    "\n",
    "Pavyzdys:"
   ]
  },
  {
   "cell_type": "code",
   "execution_count": null,
   "metadata": {},
   "outputs": [],
   "source": [
    "numbers = (x for x in range(10))\n",
    "\n",
    "for number in numbers:\n",
    "    print(number)"
   ]
  },
  {
   "cell_type": "markdown",
   "metadata": {},
   "source": [
    "### Greita Užduotis 6: Generatoriaus Deklaracija\n",
    "\n",
    "1. Sukurkite generatoriaus išraišką, kuri generuoja kubinius skaičius iki 4.\n",
    "1. `Iteruokite` per generatorių ir `atspausdinkite` kiekvieną `kubinį` skaičių."
   ]
  },
  {
   "cell_type": "code",
   "execution_count": null,
   "metadata": {},
   "outputs": [],
   "source": [
    "# jusu kodo vieta"
   ]
  },
  {
   "cell_type": "markdown",
   "metadata": {},
   "source": [
    "### Papildoma Užduotis: Savadarbis Iteratorius\n",
    "\n",
    "1. Sukurkite klasę pavadinimu `MyRange`, kuri veiktų kaip savadarbis iteratorius skaičių sekai.\n",
    "1. Įgyvendinkite `__iter__` ir `__next__` metodus šioje klasėje.\n",
    "1. Naudokite savo pasidarytą iteratorių iteracijai per skaičių seką ir atspausdinkite kiekvieną vertę."
   ]
  },
  {
   "cell_type": "code",
   "execution_count": null,
   "metadata": {},
   "outputs": [],
   "source": [
    "# jusu kodo vieta"
   ]
  }
 ],
 "metadata": {
  "kernelspec": {
   "display_name": "venv",
   "language": "python",
   "name": "python3"
  },
  "language_info": {
   "codemirror_mode": {
    "name": "ipython",
    "version": 3
   },
   "file_extension": ".py",
   "mimetype": "text/x-python",
   "name": "python",
   "nbconvert_exporter": "python",
   "pygments_lexer": "ipython3",
   "version": "3.10.12"
  }
 },
 "nbformat": 4,
 "nbformat_minor": 2
}
