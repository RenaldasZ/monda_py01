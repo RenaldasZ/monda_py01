{
 "cells": [
  {
   "cell_type": "markdown",
   "metadata": {},
   "source": [
    "# List Helper Functions and List Comprehension"
   ]
  },
  {
   "cell_type": "markdown",
   "metadata": {},
   "source": [
    "## List helper functions"
   ]
  },
  {
   "cell_type": "markdown",
   "metadata": {},
   "source": [
    "### List processing function `reduce()`:"
   ]
  },
  {
   "cell_type": "markdown",
   "metadata": {},
   "source": [
    "The `reduce()` function applies a function to iterable elements in pairs, folding them into a single value."
   ]
  },
  {
   "cell_type": "markdown",
   "metadata": {},
   "source": [
    "For instance, if you want to sum up the numbers in a list, you can do so with `reduce()` like this:"
   ]
  },
  {
   "cell_type": "code",
   "execution_count": null,
   "metadata": {},
   "outputs": [],
   "source": [
    "from functools import reduce\n",
    "\n",
    "numbers = [1, 2, 3, 4, 5]\n",
    "total = reduce(lambda x, y: x + y, numbers)\n",
    "print(total)  # 15"
   ]
  },
  {
   "cell_type": "markdown",
   "metadata": {},
   "source": [
    "Here's another example using if, else:"
   ]
  },
  {
   "cell_type": "code",
   "execution_count": null,
   "metadata": {},
   "outputs": [],
   "source": [
    "from functools import reduce\n",
    "\n",
    "list = [1, 2, 3, 4, 5]\n",
    "maximum = reduce(lambda x, y: x if x > y else y, list)\n",
    "print(maximum)  # 5"
   ]
  },
  {
   "cell_type": "markdown",
   "metadata": {},
   "source": [
    "`lambda x, y: x + y` is a function that `reduce()` uses as its operation. It takes the first two numbers from the list, applies the function (`x + y`), then uses the result as the first number in a new pair with the third number from the list, and so on, until only one number remains - the final sum."
   ]
  },
  {
   "cell_type": "markdown",
   "metadata": {},
   "source": [
    "*`map()` and `filter()` are also auxiliary functions, you can remember them [here](https://github.com/infohata/monda_py01/blob/main/03_functions/0306en_anonymous_functions.ipynb)*"
   ]
  },
  {
   "cell_type": "markdown",
   "metadata": {},
   "source": [
    "### Quick assignment 1\n",
    "\n",
    "1. Create a program that uses `lambda`, `map()`, and `filter()` functions to select list elements that are `greater than 10` and `double them`.\n",
    "- Compare this result with what you would get using \"list comprehension\"."
   ]
  },
  {
   "cell_type": "code",
   "execution_count": null,
   "metadata": {},
   "outputs": [],
   "source": [
    "# Your code here"
   ]
  },
  {
   "cell_type": "markdown",
   "metadata": {},
   "source": [
    "### Quick assignment 2\n",
    "\n",
    "1. Write a program that uses the `reduce()` function to find the product of the list elements."
   ]
  },
  {
   "cell_type": "code",
   "execution_count": null,
   "metadata": {},
   "outputs": [],
   "source": [
    "# Your code here"
   ]
  },
  {
   "cell_type": "markdown",
   "metadata": {},
   "source": [
    "## Statistical Functions"
   ]
  },
  {
   "cell_type": "markdown",
   "metadata": {},
   "source": [
    "- `sum()`: A function that returns the sum of the list elements.\n",
    "- `max()`: A function that returns the largest list element.\n",
    "- `min()`: A function that returns the smallest list element.\n",
    "- `mean()`: A function that returns the average. You can obtain it with `statistics.mean()`.\n",
    "- `median()`: A function that returns the median. You can obtain it with `statistics.median()`."
   ]
  },
  {
   "cell_type": "markdown",
   "metadata": {},
   "source": [
    "Example:"
   ]
  },
  {
   "cell_type": "code",
   "execution_count": null,
   "metadata": {},
   "outputs": [],
   "source": [
    "import statistics\n",
    "\n",
    "numbers = [1, 2, 3, 4, 5]\n",
    "print(sum(numbers))  # 15\n",
    "print(max(numbers))  # 5\n",
    "print(min(numbers))  # 1\n",
    "print(statistics.mean(numbers))  # 3.0\n",
    "print(statistics.median(numbers))  # 3"
   ]
  },
  {
   "cell_type": "markdown",
   "metadata": {},
   "source": [
    "### Quick assignment 3\n",
    "\n",
    "1. Using the statistics module, calculate and print the `sum`, `average`, `median`, `smallest`, and `largest elements` of the list.\n",
    "```py\n",
    "numbers = [2, 4, 20, 33, 10]"
   ]
  },
  {
   "cell_type": "code",
   "execution_count": null,
   "metadata": {},
   "outputs": [],
   "source": [
    "# Your code here"
   ]
  },
  {
   "cell_type": "markdown",
   "metadata": {},
   "source": [
    "## `sort()`"
   ]
  },
  {
   "cell_type": "markdown",
   "metadata": {},
   "source": [
    "`sort()` is a list method that sorts the elements of the list. `sort()` accepts several optional parameters such as `key` and `reverse`."
   ]
  },
  {
   "cell_type": "code",
   "execution_count": null,
   "metadata": {},
   "outputs": [],
   "source": [
    "numbers = [3, 1, 4, 1, 5, 9, 2]\n",
    "numbers.sort()\n",
    "print(numbers) # [1, 1, 2, 3, 4, 5, 9]"
   ]
  },
  {
   "cell_type": "markdown",
   "metadata": {},
   "source": [
    "The reverse parameter is a boolean that, when set to `True`, sorts the list in descending order (from highest to lowest)."
   ]
  },
  {
   "cell_type": "code",
   "execution_count": null,
   "metadata": {},
   "outputs": [],
   "source": [
    "numbers = [3, 1, 4, 1, 5, 9, 2]\n",
    "numbers.sort(reverse=True)\n",
    "print(numbers) # [9, 5, 4, 3, 2, 1, 1]"
   ]
  },
  {
   "cell_type": "markdown",
   "metadata": {},
   "source": [
    "The `key` parameter allows us to provide a function that defines the sorting criteria, for example, you could sort by the length of the elements if they are strings or some other computed value."
   ]
  },
  {
   "cell_type": "code",
   "execution_count": null,
   "metadata": {},
   "outputs": [],
   "source": [
    "words = [\"one\", \"two\", \"twenty-three\", \"four\", \"five\"]\n",
    "words.sort(key=len)\n",
    "print(words)"
   ]
  },
  {
   "cell_type": "markdown",
   "metadata": {},
   "source": [
    "## `sorted()`"
   ]
  },
  {
   "cell_type": "markdown",
   "metadata": {},
   "source": [
    "`sorted()` is a built-in Python function that sorts a list and returns a new sorted list, without altering the original one. `sorted()` also accepts optional parameters such as `key` and `reverse`."
   ]
  },
  {
   "cell_type": "code",
   "execution_count": null,
   "metadata": {},
   "outputs": [],
   "source": [
    "numbers = [3, 1, 4, 1, 5, 9, 2]\n",
    "sorted_numbers = sorted(numbers)\n",
    "print(sorted_numbers) # [1, 1, 2, 3, 4, 5, 9]"
   ]
  },
  {
   "cell_type": "markdown",
   "metadata": {},
   "source": [
    "### Quick assignment 4\n",
    "\n",
    "1. Create a program that uses the `sort()` or `sorted()` functions to sort a list of numbers based on their remainders when divided by `3` (taking into account the key parameter)."
   ]
  },
  {
   "cell_type": "code",
   "execution_count": null,
   "metadata": {},
   "outputs": [],
   "source": [
    "# Your code here"
   ]
  },
  {
   "cell_type": "markdown",
   "metadata": {},
   "source": [
    "## Sorting Objects in a List \n",
    "\n",
    "Suppose we have a `Student class` that has a `first name`, `last name`, and a list of `grades`. We want to sort a list of Student objects by their average grades:\n",
    "\n",
    "Here is an example of how you might implement this in Python:"
   ]
  },
  {
   "cell_type": "code",
   "execution_count": null,
   "metadata": {},
   "outputs": [],
   "source": [
    "class Student:\n",
    "    def __init__(self, first_name, last_name, grades):\n",
    "        self.first_name = first_name\n",
    "        self.last_name = last_name\n",
    "        self.grades = grades\n",
    "    \n",
    "    def average(self):\n",
    "        return sum(self.grades) / len(self.grades)\n",
    "\n",
    "# Create a list of student objects\n",
    "students = [\n",
    "    Student(\"John\", \"Doe\", [8, 9, 7]),\n",
    "    Student(\"Jane\", \"Doe\", [10, 9, 10]),\n",
    "    Student(\"Alice\", \"Smith\", [6, 8, 7]),\n",
    "]\n",
    "\n",
    "# Sort the students by their average grades\n",
    "sorted_students = sorted(students, key=lambda x: x.average())\n",
    "\n",
    "# Print out sorted students\n",
    "for student in sorted_students:\n",
    "    print(f\"{student.first_name} {student.last_name}: {student.average()}\")"
   ]
  },
  {
   "cell_type": "markdown",
   "metadata": {},
   "source": [
    "This program uses the `sorted()` function with a `key` argument directed to the `Student` objects' `average()` method to sort the list of students by their averages. Additionally, the argument `reverse=True` is applied, highlighting the need to perform the sorting in descending order, from the highest average to the lowest."
   ]
  },
  {
   "cell_type": "markdown",
   "metadata": {},
   "source": [
    "## `attrgetter()`"
   ]
  },
  {
   "cell_type": "markdown",
   "metadata": {},
   "source": [
    "`attrgetter()` This is a function from the operator module that allows creating a `key` function for sorting based on object attributes."
   ]
  },
  {
   "cell_type": "code",
   "execution_count": null,
   "metadata": {},
   "outputs": [],
   "source": [
    "from operator import attrgetter\n",
    "\n",
    "class Student:\n",
    "    def __init__(self, first_name, last_name, grades):\n",
    "        self.first_name = first_name\n",
    "        self.last_name = last_name\n",
    "        self.grades = grades\n",
    "    \n",
    "    def average(self):\n",
    "        return sum(self.grades) / len(self.grades)\n",
    "\n",
    "# Create a list of student objects\n",
    "students = [\n",
    "    Student(\"John\", \"Doe\", [8, 9, 7]),\n",
    "    Student(\"Jane\", \"Doe\", [10, 9, 10]),\n",
    "    Student(\"Alice\", \"Smith\", [6, 8, 7]),\n",
    "]\n",
    "\n",
    "# Sort the students by their first name\n",
    "sorted_students = sorted(students, key=attrgetter(\"first_name\"))\n",
    "\n",
    "# Print out sorted students\n",
    "for student in sorted_students:\n",
    "    print(f\"{student.first_name} {student.last_name}\")"
   ]
  },
  {
   "cell_type": "markdown",
   "metadata": {},
   "source": [
    "The `attrgetter()` function specifies that we are sorting objects by the \"`name`\" attribute.\n",
    "\n",
    "If you want to sort by multiple attributes, you can provide the names of several attributes as arguments to the `attrgetter()` function:"
   ]
  },
  {
   "cell_type": "code",
   "execution_count": null,
   "metadata": {},
   "outputs": [],
   "source": [
    "# Print out sorted students\n",
    "for student in sorted_students:\n",
    "    print(f\"{student.last_name} {student.first_name}\")"
   ]
  },
  {
   "cell_type": "markdown",
   "metadata": {},
   "source": [
    "The `attrgetter()` function will sort the students by `last name` and then by `first name`, as the `key` function sorts the elements from left to right."
   ]
  },
  {
   "cell_type": "markdown",
   "metadata": {},
   "source": [
    "## List Comprehension"
   ]
  },
  {
   "cell_type": "markdown",
   "metadata": {},
   "source": [
    "List comprehension is a concise method to create new lists from existing iterable objects. It allows the application of a `for` loop and, if necessary, `if` conditions within a single expression. This not only enhances the clarity and conciseness of the code but often is more efficient in terms of execution time compared to using a traditional loop."
   ]
  },
  {
   "cell_type": "markdown",
   "metadata": {},
   "source": [
    "### Raising a List to a Power"
   ]
  },
  {
   "cell_type": "code",
   "execution_count": null,
   "metadata": {},
   "outputs": [],
   "source": [
    "numbers = [1, 2, 3, 4, 5]\n",
    "power = 3\n",
    "raised_numbers = [x ** power for x in numbers]\n",
    "print(raised_numbers)  # Result: [1, 8, 27, 64, 125]"
   ]
  },
  {
   "cell_type": "markdown",
   "metadata": {},
   "source": [
    "### Filtering a List by a Logical Condition"
   ]
  },
  {
   "cell_type": "code",
   "execution_count": null,
   "metadata": {},
   "outputs": [],
   "source": [
    "numbers = [1, 2, 3, 4, 5]\n",
    "condition = lambda x: x % 2 == 0\n",
    "filtered_numbers = [x for x in numbers if condition(x)]\n",
    "print(filtered_numbers)  # Result: [2, 4]"
   ]
  },
  {
   "cell_type": "markdown",
   "metadata": {},
   "source": [
    "### List Comprehension Using a `lambda` Function"
   ]
  },
  {
   "cell_type": "code",
   "execution_count": null,
   "metadata": {},
   "outputs": [],
   "source": [
    "numbers = [1, 2, 3, 4, 5]\n",
    "double_numbers = [(lambda x: x * 2)(x) for x in numbers]\n",
    "print(double_numbers)  # Result: [2, 4, 6, 8, 10]"
   ]
  },
  {
   "cell_type": "markdown",
   "metadata": {},
   "source": [
    "### Replacing List Comprehension with Generator Expression"
   ]
  },
  {
   "cell_type": "code",
   "execution_count": null,
   "metadata": {},
   "outputs": [],
   "source": [
    "numbers = [1, 2, 3, 4, 5]\n",
    "power = 3\n",
    "raised_numbers_gen = (x ** power for x in numbers)\n",
    "\n",
    "for raised in raised_numbers_gen:\n",
    "    print(raised)"
   ]
  },
  {
   "cell_type": "markdown",
   "metadata": {},
   "source": [
    "### Quick assignment 5\n",
    "\n",
    "1. Create a program that utilizes `lambda`, `filter()`, and `reduce()` functions to calculate the `average` of the numbers in a list that are even.\n",
    "- Compare this result with what you would obtain using \"list comprehension\"."
   ]
  },
  {
   "cell_type": "code",
   "execution_count": null,
   "metadata": {},
   "outputs": [],
   "source": [
    "# your code here"
   ]
  }
 ],
 "metadata": {
  "kernelspec": {
   "display_name": "Python 3",
   "language": "python",
   "name": "python3"
  },
  "language_info": {
   "codemirror_mode": {
    "name": "ipython",
    "version": 3
   },
   "file_extension": ".py",
   "mimetype": "text/x-python",
   "name": "python",
   "nbconvert_exporter": "python",
   "pygments_lexer": "ipython3",
   "version": "3.10.12"
  }
 },
 "nbformat": 4,
 "nbformat_minor": 2
}
