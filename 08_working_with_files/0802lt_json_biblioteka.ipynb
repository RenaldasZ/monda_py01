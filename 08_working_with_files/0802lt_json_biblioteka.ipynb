{
 "cells": [
  {
   "cell_type": "markdown",
   "metadata": {},
   "source": [
    "# JSON Biblioteka\n",
    "JSON (JavaScript Object Notation) yra duomenų formatas, naudojamas keistis duomenimis tarp serverio ir kliento arba tarp dviejų skirtingų sistemų. JSON galima lengvai konvertuoti į objektus daugelyje programavimo kalbų, įskaitant Python.\n",
    "\n",
    "JSON formatu naudojami raktai ir reikšmės, kur raktai yra eilutės, o reikšmės gali būti eilutės, skaičiai, Būlio reikšmės (teisinga arba klaidinga), masyvai arba kitos JSON objektų struktūros.\n",
    "\n",
    "Štai JSON objekto pavyzdys:\n",
    "\n",
    "```json\n",
    "{\n",
    "  \"name\": \"Jonas\",\n",
    "  \"age\": 30,\n",
    "  \"is_student\": false,\n",
    "  \"hobbies\": [\"books\", \"movies\", \"travel\"],\n",
    "  \"address\": {\n",
    "    \"street\": \"Vytauto St. 10\",\n",
    "    \"city\": \"Vilnius\",\n",
    "    \"country\": \"Lithuania\"\n",
    "  }\n",
    "}\n",
    "```"
   ]
  },
  {
   "cell_type": "markdown",
   "metadata": {},
   "source": [
    "su Python galite dirbti su JSON duomenimis naudodami `json` modulį. Šis modulis leidžia konvertuoti Python objektus, pvz., žodynus, sąrašus, eilutes, skaičius ir boolean reikšmes į JSON formatą ir atvirkščiai.\n",
    "\n",
    "Pagrindinės json modulio funkcijos yra šios:\n",
    "\n",
    "1. `json.dump()` ir `json.dumps()`: konvertuoja Python objektą į JSON formatą.\n",
    "1. `json.load()` ir `json.loads()`: konvertuoja JSON duomenis į Python objektą."
   ]
  },
  {
   "cell_type": "markdown",
   "metadata": {},
   "source": [
    "### json.dump()\n",
    "\n",
    "Ši funkcija konvertuoja Python objektą į JSON formatą ir įrašo jį į failą. Tam reikalingi du pagrindiniai argumentai: Python objektas, kurį norite konvertuoti, ir failo objektas, kuriame norite įrašyti JSON duomenis. Jis dažniausiai naudojamas su funkcija `open()`, norint atidaryti failą rašymui."
   ]
  },
  {
   "cell_type": "code",
   "execution_count": null,
   "metadata": {},
   "outputs": [],
   "source": [
    "import json\n",
    "\n",
    "data = {\"name\": \"Jonas\", \"age\": 30}\n",
    "\n",
    "with open(\"data.json\", \"w\", encoding=\"utf-8\") as f:\n",
    "    json.dump(data, f)\n"
   ]
  },
  {
   "cell_type": "markdown",
   "metadata": {},
   "source": [
    "### json.dumps()\n",
    "Ši funkcija konvertuoja Python objektą į JSON formatą ir grąžina JSON eilutę. Reikia vieno argumento: Python objekto, kurį norite konvertuoti."
   ]
  },
  {
   "cell_type": "code",
   "execution_count": null,
   "metadata": {},
   "outputs": [],
   "source": [
    "import json\n",
    "\n",
    "data = {\"name\": \"Jonas\", \"age\": 30}\n",
    "\n",
    "json_string = json.dumps(data)\n",
    "print(json_string)  # `{\"name\": \"Jonas\", \"age\": 30}`\n"
   ]
  },
  {
   "cell_type": "markdown",
   "metadata": {},
   "source": [
    "### json.load()\n",
    "Ši funkcija konvertuoja JSON duomenis iš failo į Python objektą. Reikia vieno argumento: failo objekto, iš kurio norite nuskaityti JSON duomenis. Paprastai jis naudojamas su funkcija `open()`, kad atidarytumėte failą skaitymui."
   ]
  },
  {
   "cell_type": "code",
   "execution_count": null,
   "metadata": {},
   "outputs": [],
   "source": [
    "import json\n",
    "\n",
    "with open(\"data.json\", \"r\", encoding=\"utf-8\") as f:\n",
    "    data = json.load(f)\n",
    "\n",
    "print(data)  # `{\"name\": \"Jonas\", \"age\": 30}`\n"
   ]
  },
  {
   "cell_type": "markdown",
   "metadata": {},
   "source": [
    "### json.loads()\n",
    "Ši funkcija konvertuoja JSON eilutę į Python objektą. Reikia vieno argumento: JSON eilutės, kurią norite konvertuoti į Python objektą."
   ]
  },
  {
   "cell_type": "code",
   "execution_count": null,
   "metadata": {},
   "outputs": [],
   "source": [
    "import json\n",
    "\n",
    "json_string = '{\"name\": \"Jonas\", \"age\": 30}'\n",
    "\n",
    "data = json.loads(json_string)\n",
    "print(data)  # `{\"name\": \"Jonas\", \"age\": 30}`\n"
   ]
  },
  {
   "cell_type": "markdown",
   "metadata": {},
   "source": [
    "# `Užduotis`\n",
    "\n",
    "Patobulinkite ankstesnio kurso metu sukurtą šaldytuvo programą naudodami JSON:\n",
    "\n",
    "1. Paleidus programą, ji randa šaldytuvo JSON failą, perskaitykite jo turinį ir užpildykite šaldytuvą jo turiniu.\n",
    "1. Kai programa užsidaro, išsaugokite šaldytuvo turinį JSON faile."
   ]
  },
  {
   "cell_type": "code",
   "execution_count": null,
   "metadata": {},
   "outputs": [],
   "source": []
  }
 ],
 "metadata": {
  "kernelspec": {
   "display_name": "Python 3",
   "language": "python",
   "name": "python3"
  },
  "language_info": {
   "codemirror_mode": {
    "name": "ipython",
    "version": 3
   },
   "file_extension": ".py",
   "mimetype": "text/x-python",
   "name": "python",
   "nbconvert_exporter": "python",
   "pygments_lexer": "ipython3",
   "version": "3.10.6"
  }
 },
 "nbformat": 4,
 "nbformat_minor": 2
}
