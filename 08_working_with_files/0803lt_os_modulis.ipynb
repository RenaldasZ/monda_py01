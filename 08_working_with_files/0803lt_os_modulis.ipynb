{
 "cells": [
  {
   "cell_type": "markdown",
   "metadata": {},
   "source": [
    "# Python `os` modulis\n",
    "\n",
    "`os` modulis yra standartinis Python bibliotekos modulis, teikiantis funkcijas ir galimybes sąveikauti su operacinės sistemos funkcijomis. Tai leidžia dirbti su failų sistema, katalogų struktūra, procesais, aplinkos kintamaisiais ir kt.\n",
    "\n",
    "## Naršymas katalogų medyje\n",
    "\n",
    "- `os.getcwd()`: grąžina dabartinio darbo katalogo kelią.\n",
    "- `os.chdir(path)`: pakeičia esamą darbo katalogą į nurodytą kelią.\n",
    "\n",
    "**Pavyzdys:**"
   ]
  },
  {
   "cell_type": "code",
   "execution_count": null,
   "metadata": {},
   "outputs": [],
   "source": [
    "import os\n",
    "\n",
    "# Dabartinės darbo direktorijos gavimas\n",
    "print(\"Current working directory:\", os.getcwd())\n",
    "\n",
    "# Senos direktorijos pakeitimas į naują\n",
    "os.chdir('/new_directory')\n",
    "print(\"Current working directory:\", os.getcwd())"
   ]
  },
  {
   "cell_type": "markdown",
   "metadata": {},
   "source": [
    "## Tikrinama, ar nėra failo\n",
    "Modulis os.path suteikia funkcijas, skirtas patikrinti, ar nėra failų ir katalogų.\n",
    "\n",
    "- „os.path.exists(path)“: grąžina „True“, jei nurodytas kelias egzistuoja, ir „False“, kitaip.\n",
    "\n",
    "Pavyzdys:"
   ]
  },
  {
   "cell_type": "code",
   "execution_count": null,
   "metadata": {},
   "outputs": [],
   "source": [
    "import os\n",
    "\n",
    "file_path = 'example.txt'\n",
    "if os.path.exists(file_path):\n",
    "    print(f\"File '{file_path}' exists.\")\n",
    "else:\n",
    "    print(f\"File '{file_path}' does not exist.\")\n"
   ]
  },
  {
   "cell_type": "markdown",
   "metadata": {},
   "source": [
    "## Katalogų kūrimas\n",
    "`os.makedirs(path)` : sukuriamas visas katalogų medis, jei jo nėra.\n",
    "\n",
    "Pavyzdys:"
   ]
  },
  {
   "cell_type": "code",
   "execution_count": null,
   "metadata": {},
   "outputs": [],
   "source": [
    "import os\n",
    "\n",
    "directory_path = 'new_directory/subdirectory'\n",
    "if not os.path.exists(directory_path):\n",
    "    os.makedirs(directory_path)\n",
    "    print(f\"Directory '{directory_path}' created.\")\n",
    "else:\n",
    "    print(f\"Directory '{directory_path}' already exists.\")\n"
   ]
  },
  {
   "cell_type": "markdown",
   "metadata": {},
   "source": [
    "## Greita užduotis 1 : katalogo kūrimas.\n",
    "\n",
    "**Užduoties aprašymas:**\n",
    "1. Dabartiniame darbo kataloge sukurkite naują katalogą pavadinimu „Mano_katalogas“.\n",
    "1. Patikrinkite, ar katalogas buvo sėkmingai sukurtas, ir išspausdinkite rezultatą."
   ]
  },
  {
   "cell_type": "code",
   "execution_count": null,
   "metadata": {},
   "outputs": [],
   "source": [
    "# Jūsų Kodas"
   ]
  },
  {
   "cell_type": "markdown",
   "metadata": {},
   "source": [
    "## Failų ištrynimas\n",
    "Funkcija `os.remove(path)` leidžia ištrinti nurodytą failą. Tam reikia vieno argumento, kuris yra failo kelias.\n",
    "\n",
    "Pavyzdys:"
   ]
  },
  {
   "cell_type": "code",
   "execution_count": null,
   "metadata": {},
   "outputs": [],
   "source": [
    "import os\n",
    "\n",
    "file_path = 'example.txt'\n",
    "\n",
    "if os.path.exists(file_path):\n",
    "    os.remove(file_path)\n",
    "    print(f\"File '{file_path}' deleted.\")\n",
    "else:\n",
    "    print(f\"File '{file_path}' does not exist.\")\n"
   ]
  },
  {
   "cell_type": "markdown",
   "metadata": {},
   "source": [
    "## Katalogų trynimas\n",
    "`os.rmdir(path)`: ištrina nurodytą katalogą. Katalogas turi būti tuščias, kitaip ši funkcija sukels klaidą.\n",
    "\n",
    "Pavyzdys:"
   ]
  },
  {
   "cell_type": "code",
   "execution_count": null,
   "metadata": {},
   "outputs": [],
   "source": [
    "import os\n",
    "\n",
    "directory_path = 'new_directory'\n",
    "\n",
    "if os.path.exists(directory_path):\n",
    "    if not os.listdir(directory_path):\n",
    "        os.rmdir(directory_path)\n",
    "        print(f\"Directory '{directory_path}' deleted.\")\n",
    "    else:\n",
    "        print(f\"Directory '{directory_path}' is not empty.\")\n",
    "else:\n",
    "    print(f\"Directory '{directory_path}' does not exist.\")\n"
   ]
  },
  {
   "cell_type": "markdown",
   "metadata": {},
   "source": [
    "## Viso katalogų medžio ištrynimas\n",
    "`os.removedirs(path)`: leidžia ištrinti visą katalogų medį, jei kiekvienas kelyje esantis katalogas yra tuščias.\n",
    "\n",
    "Pavyzdys:"
   ]
  },
  {
   "cell_type": "code",
   "execution_count": null,
   "metadata": {},
   "outputs": [],
   "source": [
    "import os\n",
    "\n",
    "directory_tree_path = 'new_directory/subdirectory'\n",
    "\n",
    "if os.path.exists(directory_tree_path):\n",
    "    os.removedirs(directory_tree_path)\n",
    "    print(f\"Directory tree '{directory_tree_path}' deleted.\")\n",
    "else:\n",
    "    print(f\"Directory tree '{directory_tree_path}' does not exist.\")\n"
   ]
  },
  {
   "cell_type": "markdown",
   "metadata": {},
   "source": [
    "## Katalogo turinio sąrašas\n",
    "Funkcija `os.listdir` naudojama katalogo turiniui gauti kaip sąrašą. Jis grąžina visų katalogo elementų sąrašą.\n",
    "\n",
    "Pavyzdys:"
   ]
  },
  {
   "cell_type": "code",
   "execution_count": null,
   "metadata": {},
   "outputs": [],
   "source": [
    "import os\n",
    "\n",
    "directory_path = '.'  # Jūsų dabartinė direktorija\n",
    "contents = os.listdir(directory_path)\n",
    "\n",
    "print(\"Directory Contents:\")\n",
    "for element in contents:\n",
    "    print(element)\n"
   ]
  },
  {
   "cell_type": "markdown",
   "metadata": {},
   "source": [
    "## `Greita užduotis 2 : failų ir katalogų sąrašas`\n",
    "\n",
    "**Užduoties aprašymas:**\n",
    "1. Parašykite programą, kuri išnagrinėtų esamą darbo katalogą\n",
    "1. Išspausdinkite visus rastus failus ir katalogus."
   ]
  },
  {
   "cell_type": "code",
   "execution_count": null,
   "metadata": {},
   "outputs": [],
   "source": [
    "# Jūsų Kodas"
   ]
  },
  {
   "cell_type": "markdown",
   "metadata": {},
   "source": [
    "## Failų ir katalogų informacijos gavimas\n",
    "\n",
    "Funkcija „os.stat“ naudojama informacijai apie failą arba katalogą, pvz., dydį, modifikavimo laiką ir kt., gauti. Jis grąžina objektą „os.stat_result“ su įvairiais atributais:\n",
    "\n",
    "- `st_mode`: tai failo apsaugos bitai, nurodantys failo tipą ir teises. Jis naudojamas failo tipui (pvz., įprastas failas, katalogas, simbolinė nuoroda) ir leidimams (skaityti, rašyti, vykdyti) nustatyti.\n",
    "\n",
    "- `st_ino`: \"Inode\" numeris yra unikalus failo identifikatorius failų sistemoje, naudojamas \"Unix\" tipo sistemose. „Windows“ nepalaiko šio atributo, o „os.stat“ grąžina jį su 0 reikšme.\n",
    "\n",
    "- `st_dev`: įrenginio, kuriame yra failas, identifikatorius.\n",
    "\n",
    "- `st_nlink`: tvirtų nuorodų į failą arba katalogą skaičius. Paprastai tai yra 1 failams ir gali būti didesnis katalogams.\n",
    "\n",
    "- `st_uid`: vartotojo ID, naudojamas Unix tipo sistemose failo arba katalogo savininkui identifikuoti. „Windows“ nepalaiko šio atributo, o „os.stat“ grąžina jį su 0 reikšme.\n",
    "\n",
    "- `st_gid`: grupės ID, naudojamas Unix tipo sistemose failo arba katalogo nuosavybės grupei identifikuoti. „Windows“ nepalaiko šio atributo, o „os.stat“ grąžina jį su 0 reikšme.\n",
    "\n",
    "- `st_size`: failo dydis baitais. Šis dydis netaikomas katalogams.\n",
    "\n",
    "- `st_atime`: paskutinės prieigos prie failo arba katalogo laikas, nurodantis, kada jis buvo paskutinį kartą perskaitytas. Laikas pateikiamas sekundėmis nuo epochos (1970-01-01 00:00:00 UTC).\n",
    "\n",
    "- `st_mtime`: paskutinio failo arba katalogo modifikavimo laikas, nurodantis, kada jis buvo paskutinį kartą pakeistas. Laikas pateikiamas sekundėmis nuo epochos (1970-01-01 00:00:00 UTC).\n",
    "\n",
    "- `st_ctime`: paskutinio failo arba katalogo būsenos pakeitimo laikas, įskaitant leidimų, nuorodų ar dydžio pakeitimus. Laikas pateikiamas sekundėmis nuo epochos (1970-01-01 00:00:00 UTC).\n",
    "\n",
    "- `st_blksize`: bloko dydis baitais, pirmiausia naudojamas \"Linux\" sistemose, siekiant efektyviau valdyti failų ar katalogų saugyklą. „MacOS“ ir „Windows“ nepalaiko šio atributo.\n",
    "\n",
    "- `st_blocks`: failo arba katalogo užimamų blokų, daugiausia naudojamų „Linux“ sistemose saugyklai valdyti, skaičius. „MacOS“ ir „Windows“ nepalaiko šio atributo.\n",
    "\n",
    "**Pavyzdys:**"
   ]
  },
  {
   "cell_type": "code",
   "execution_count": null,
   "metadata": {},
   "outputs": [],
   "source": [
    "import os\n",
    "\n",
    "file_path = 'new_directory'\n",
    "\n",
    "file_stats = os.stat(file_path)\n",
    "\n",
    "print(file_stats)\n"
   ]
  },
  {
   "cell_type": "markdown",
   "metadata": {},
   "source": [
    "Štai kombinuotas `os.listdir` ir `os.stat` naudojimo kartu pavyzdys:"
   ]
  },
  {
   "cell_type": "code",
   "execution_count": null,
   "metadata": {},
   "outputs": [],
   "source": [
    "import os\n",
    "\n",
    "directory_path = '.'\n",
    "\n",
    "# Gauti direktorijos turinį\n",
    "contents = os.listdir(directory_path)\n",
    "\n",
    "for element in contents:\n",
    "    element_path = os.path.join(directory_path, element)  # direktorijos ir elementų sujungimas\n",
    "\n",
    "    # patikrina ar tai failas\n",
    "    if os.path.isfile(element_path):\n",
    "        file_stats = os.stat(element_path)\n",
    "        print(f\"File: {element}\")\n",
    "        print(f\"  Size: {file_stats.st_size} bytes\")\n",
    "        print(f\"  Last Modification Date: {file_stats.st_mtime}\")\n",
    "    elif os.path.isdir(element_path):\n",
    "        print(f\"Directory: {element}\")\n"
   ]
  },
  {
   "cell_type": "markdown",
   "metadata": {},
   "source": [
    "Ši pamoka apima pagrindines `os` modulio funkcijas, skirtas darbui su failų sistema ir katalogais Python."
   ]
  },
  {
   "cell_type": "markdown",
   "metadata": {},
   "source": [
    "## `Greita užduotis 3 : failo kūrimas ir ištrynimas`\n",
    "\n",
    "**Užduoties aprašymas:**\n",
    "1. Dabartiniame darbo kataloge sukurkite naują failą pavadinimu „test.txt“.\n",
    "1. Parašykite programą, kuri patikrina, ar failas \"test.txt\" egzistuoja, ir ištrina, jei yra.\n",
    "1. Išspausdinkite rezultatą, kad patvirtintumėte sėkmingą ištrynimą."
   ]
  },
  {
   "cell_type": "code",
   "execution_count": null,
   "metadata": {},
   "outputs": [],
   "source": [
    "# Jūsų Kodas"
   ]
  }
 ],
 "metadata": {
  "kernelspec": {
   "display_name": "Python 3",
   "language": "python",
   "name": "python3"
  },
  "language_info": {
   "codemirror_mode": {
    "name": "ipython",
    "version": 3
   },
   "file_extension": ".py",
   "mimetype": "text/x-python",
   "name": "python",
   "nbconvert_exporter": "python",
   "pygments_lexer": "ipython3",
   "version": "3.11.7"
  }
 },
 "nbformat": 4,
 "nbformat_minor": 2
}
