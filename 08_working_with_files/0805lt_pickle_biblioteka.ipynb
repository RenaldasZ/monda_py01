{
 "cells": [
  {
   "cell_type": "markdown",
   "metadata": {},
   "source": [
    "# Pickle biblioteka objektų serializavimui\n",
    "\n",
    "Python turi `pickle` biblioteką kaip savo standartinės bibliotekos dalį, kuri naudojama objektų serializavimui ir deserializavimui. Serializavimas – tai objektų konvertavimo į baitų srautą procesas, leidžiantis juos saugoti diske arba perduoti tinklu. Deserializavimas yra atvirkštinis baitų srauto konvertavimo į objektą procesas.\n",
    "\n",
    "## Kintamųjų saugojimas ir skaitymas naudojant „Pickle“.\n",
    "\n",
    "```python\n",
    "import pickle\n",
    "\n",
    "# kintamūjų saugojimas (serializacija)\n",
    "variable = 42\n",
    "\n",
    "with open('variable.pickle', 'wb') as file:\n",
    "    pickle.dump(variable, file)\n",
    "\n",
    "# kintamūsų skaitymas (deserializacija)\n",
    "with open('variable.pickle', 'rb') as file:\n",
    "    loaded_variable = pickle.load(file)\n",
    "\n",
    "print(loaded_variable)  # Išspausdina: 42"
   ]
  },
  {
   "cell_type": "markdown",
   "metadata": {},
   "source": [
    ">Aukščiau pateiktame kode mes naudojame `pickle.dump()`, kad išsaugotume (serializuotume) kintamąjį \"variable\" atidarytame faile.\n",
    ">>Serializacija paverčia objektą į baitų seką, kurią galima įrašyti į diską. Tada mes naudojame `pickle.load()` norėdami nuskaityti (deserializuoti) kintamąjį iš atidaryto failo.\n",
    ">>>Deserializacija paverčia baitų seką atgal į objektą."
   ]
  },
  {
   "cell_type": "markdown",
   "metadata": {},
   "source": [
    "## Sąrašų ir žodynų Saugojimas ir Skaitymas"
   ]
  },
  {
   "cell_type": "code",
   "execution_count": null,
   "metadata": {},
   "outputs": [],
   "source": [
    "import pickle\n",
    "\n",
    "# sąrašo saugojimas (serialization)\n",
    "my_list = [1, 2, 3, 4, 5]\n",
    "\n",
    "with open('my_list.pickle', 'wb') as file:\n",
    "    pickle.dump(my_list, file)\n",
    "\n",
    "# sąrašo skaitymas (deserialization)\n",
    "with open('my_list.pickle', 'rb') as file:\n",
    "    loaded_list = pickle.load(file)\n",
    "\n",
    "print(loaded_list)  # Outputs: [1, 2, 3, 4, 5]\n",
    "\n",
    "# žodyno saugojimas (serialization)\n",
    "my_dict = {'a': 1, 'b': 2, 'c': 3}\n",
    "\n",
    "with open('my_dict.pickle', 'wb') as file:\n",
    "    pickle.dump(my_dict, file)\n",
    "\n",
    "# žodyno skaitymas (deserialization)\n",
    "with open('my_dict.pickle', 'rb') as file:\n",
    "    loaded_dict = pickle.load(file)\n",
    "\n",
    "print(loaded_dict)  # Išspausdina: {'a': 1, 'b': 2, 'c': 3}\n"
   ]
  },
  {
   "cell_type": "markdown",
   "metadata": {},
   "source": [
    ">Aukščiau pateiktame kode parodome, kaip suskirstyti sąrašus ir žodynus, naudojant biblioteką `pickle`."
   ]
  },
  {
   "cell_type": "markdown",
   "metadata": {},
   "source": [
    "## Objektų saugojimas ir skaitymas"
   ]
  },
  {
   "cell_type": "code",
   "execution_count": null,
   "metadata": {},
   "outputs": [],
   "source": [
    "import pickle\n",
    "\n",
    "class Person:\n",
    "    def __init__(self, name, age):\n",
    "        self.name = name\n",
    "        self.age = age\n",
    "\n",
    "    def __str__(self):\n",
    "        return f\"{self.name}, {self.age} years old\"\n",
    "\n",
    "# objekto saugojimas (serialization)\n",
    "person = Person(\"John\", 30)\n",
    "\n",
    "with open('person.pickle', 'wb') as file:\n",
    "    pickle.dump(person, file)\n",
    "\n",
    "# objekto skaitymas (deserialization)\n",
    "with open('person.pickle', 'rb') as file:\n",
    "    loaded_person = pickle.load(file)\n",
    "\n",
    "print(loaded_person)  # Išspausdina: John, 30 years old\n"
   ]
  },
  {
   "cell_type": "markdown",
   "metadata": {},
   "source": [
    ">Šiame kode parodome, kaip suskirstyti ir deserializuoti objektus naudojant `pickle` biblioteką.\n",
    ">>Mes apibrėžiame pasirinktinę klasę `Person` ir parodome, kaip saugoti ir skaityti šios klasės objektus."
   ]
  },
  {
   "cell_type": "markdown",
   "metadata": {},
   "source": [
    "# `Užduotis: padidinkite biudžetą`.\n",
    "\n",
    "Patobulinkite biudžeto programą, kad atidarius programą būtų galima nuskaityti pajamų / išlaidų įrašus iš marinato failo, o uždarant programą atnaujinti žurnalo marinavimo failą naujausia informacija.\n",
    "\n",
    "**Pastaba**, kad žurnalo įrašai yra objektai ir neturėtų būti tiesiogiai įrašomi JSON faile."
   ]
  }
 ],
 "metadata": {
  "language_info": {
   "name": "python"
  }
 },
 "nbformat": 4,
 "nbformat_minor": 2
}
