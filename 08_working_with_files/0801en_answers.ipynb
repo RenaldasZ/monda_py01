{
 "cells": [
  {
   "cell_type": "markdown",
   "metadata": {},
   "source": [
    "# `Quick Assignement 1`"
   ]
  },
  {
   "cell_type": "code",
   "execution_count": null,
   "metadata": {},
   "outputs": [],
   "source": [
    "# Open the text file for reading\n",
    "with open(\"changes.txt\", \"r\") as file:\n",
    "    # Read a line from the file\n",
    "    line = file.readline()\n",
    "    \n",
    "    # Convert uppercase to lowercase and vice versa\n",
    "    modified_line = line.swapcase()\n",
    "    \n",
    "    # Print the modified line\n",
    "    print(modified_line)"
   ]
  },
  {
   "cell_type": "markdown",
   "metadata": {},
   "source": [
    "# `Quick Assignement 2`"
   ]
  },
  {
   "cell_type": "code",
   "execution_count": null,
   "metadata": {},
   "outputs": [],
   "source": [
    "# Create a new file \"numbers.txt\" for writing\n",
    "with open(\"numbers.txt\", \"w\") as file:\n",
    "    # Write numbers from 1 to 100\n",
    "    for number in range(1, 101):\n",
    "        file.write(str(number) + \"\\n\")"
   ]
  },
  {
   "cell_type": "markdown",
   "metadata": {},
   "source": [
    "# `Quick Assignement 3`"
   ]
  },
  {
   "cell_type": "code",
   "execution_count": null,
   "metadata": {},
   "outputs": [],
   "source": [
    "# Example 1\n",
    "# Open the file \"text.txt\" for reading\n",
    "with open(\"text.txt\", \"r\") as file:\n",
    "    file.seek(0, 2)  # Move to the end of the file\n",
    "    file_size = file.tell()  # Get the file size\n",
    "    middle = file_size // 2  # Find the middle of the file\n",
    "\n",
    "    file.seek(middle)  # Set the pointer to the middle\n",
    "    remaining_content = file.read()  # Read the remaining part\n",
    "    print(remaining_content)"
   ]
  },
  {
   "cell_type": "code",
   "execution_count": null,
   "metadata": {},
   "outputs": [],
   "source": [
    "# Example 2\n",
    "# Open the file \"text.txt\" for reading\n",
    "with open(\"text.txt\", \"r\") as file:\n",
    "    # Determine the file's size\n",
    "    file_size = file.seek(0, 2)\n",
    "\n",
    "    # Move the file pointer to the middle\n",
    "    middle_position = file_size // 2\n",
    "    file.seek(middle_position)\n",
    "\n",
    "    # Read and print the remaining content\n",
    "    remaining_content = file.read()\n",
    "    print(remaining_content)"
   ]
  },
  {
   "cell_type": "markdown",
   "metadata": {},
   "source": [
    "# `Bonus Assignement 4`"
   ]
  },
  {
   "cell_type": "code",
   "execution_count": null,
   "metadata": {},
   "outputs": [],
   "source": [
    "# Create a new file \"lines.txt\" for writing with UTF-8 encoding and append lines\n",
    "with open(\"lines.txt\", \"w\", encoding=\"utf-8\") as file:\n",
    "    lines = [\n",
    "        \"The sunset gently devours the earth.\",\n",
    "        \"In the evening, the wind whispers to the trees.\",\n",
    "        \"The wind doesn't calm down; it whispers and whistles.\",\n",
    "    ]\n",
    "    for line in lines:\n",
    "        file.write(line + \"\\n\")\n",
    "\n",
    "# Append your full name as a new line\n",
    "with open(\"lines.txt\", \"a\", encoding=\"utf-8\") as file:\n",
    "    file.write(\"Your Full Name\")  # Insert your full name here\n",
    "\n",
    "# Open \"lines.txt\" for reading with UTF-8 encoding and print lines with \"wind\"\n",
    "with open(\"lines.txt\", \"r\", encoding=\"utf-8\") as file:\n",
    "    for line in file:\n",
    "        if \"wind\" in line:\n",
    "            print(line)"
   ]
  }
 ],
 "metadata": {
  "kernelspec": {
   "display_name": "Python 3",
   "language": "python",
   "name": "python3"
  },
  "language_info": {
   "codemirror_mode": {
    "name": "ipython",
    "version": 3
   },
   "file_extension": ".py",
   "mimetype": "text/x-python",
   "name": "python",
   "nbconvert_exporter": "python",
   "pygments_lexer": "ipython3",
   "version": "3.10.6"
  }
 },
 "nbformat": 4,
 "nbformat_minor": 2
}
