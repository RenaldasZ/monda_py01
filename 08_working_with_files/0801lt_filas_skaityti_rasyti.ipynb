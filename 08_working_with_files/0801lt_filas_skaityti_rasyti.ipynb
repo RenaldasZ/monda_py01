{
 "cells": [
  {
   "cell_type": "markdown",
   "metadata": {},
   "source": [
    "# Failų Skaitymas ir Įrašymas\n",
    "\n",
    "- `open()`, `\"r\"` ir `\"w\"` rėžimai, `file.close()`\n",
    "\n",
    "Failų atidarymas ir uždarymas yra svarbūs programavimo procesai, leidžiantys programai atlikti tam tikrus veiksmus su failais, pavyzdžiui, skaityti, rašyti, pridėti ar redaguoti failus.\n",
    "\n",
    "Failas atidaromas naudojant funkciją `open()`, kuri nurodo failo pavadinimą ir režimą, kuriuo norite atidaryti failą. Režimas gali būti nurodytas kaip `r` (skaitymo režimas) arba `w` (rašymo režimas).\n",
    "\n",
    "Failo atidarymo skaitymo režimu pavyzdys:\n",
    "\n",
    "```python\n",
    "file = open(\"text.txt\", \"r\")"
   ]
  },
  {
   "cell_type": "markdown",
   "metadata": {},
   "source": [
    "Naudojant šį kodą, failas `text.txt` atidaromas skaitymo režimu, o jo pavadinimas nurodomas kaip pirmasis parametras.\n",
    "\n",
    "Jei norite atidaryti failą rašymo režimu, turite nurodyti `w` režimą:"
   ]
  },
  {
   "cell_type": "code",
   "execution_count": null,
   "metadata": {},
   "outputs": [],
   "source": [
    "file = open(\"text.txt\", \"w\")"
   ]
  },
  {
   "cell_type": "markdown",
   "metadata": {},
   "source": [
    "Šis kodas atidaro „text.txt“ failą rašymo režimu, todėl galite rašyti į failą.\n",
    "\n",
    "Baigę dirbti su failu, turite jį uždaryti naudodami funkciją „close()“:"
   ]
  },
  {
   "cell_type": "code",
   "execution_count": null,
   "metadata": {},
   "outputs": [],
   "source": [
    "file.close()"
   ]
  },
  {
   "cell_type": "markdown",
   "metadata": {},
   "source": [
    "### `with open()` Naudojimas\n",
    "`with open()` yra naujesnis ir rekomenduojamas failų operacijų atlikimo būdas. Tai paprasčiau ir saugiau nei naudoti funkcijas `open()` ir `close()`. `with` užtikrina, kad failas būtų automatiškai uždarytas, kai jo naudojimas baigtas, o tai padeda išvengti galimo duomenų praradimo ir sumažina programos apkrovą. Štai kaip galite naudoti `with` kartu su funkcija `open()`:"
   ]
  },
  {
   "cell_type": "code",
   "execution_count": null,
   "metadata": {},
   "outputs": [],
   "source": [
    "with open(\"text.txt\", \"r\") as file:\n",
    "    # padaro veiksmą su failu\n",
    "    "
   ]
  },
  {
   "cell_type": "markdown",
   "metadata": {},
   "source": [
    "### Eilučių skaitymas iš failo\n",
    "Galite perskaityti tekstinį failą eilutę po eilutės naudodami „for“ kilpą ir pasiekti kiekvieną eilutę atskirai:"
   ]
  },
  {
   "cell_type": "code",
   "execution_count": null,
   "metadata": {},
   "outputs": [],
   "source": [
    "with open('file_name.txt', 'r') as file:\n",
    "    for line in file:\n",
    "        print(line)"
   ]
  },
  {
   "cell_type": "markdown",
   "metadata": {},
   "source": [
    "### Eilučių skaitymas su \"readline()\".\n",
    "Galite naudoti funkciją `readline()`, kad perskaitytumėte kiekvieną eilutę atskirai ir atsispausdintumėte. Pirmiausia ji priskiria pirmąją `line` eiluę kintamajam, o tada naudoja ciklą `while`, kad patikrintų, ar kintamasis nėra tuščias. Išspausdinus kiekvieną eilutę, ji skaito kitą eilutę, tęsia iki failo pabaigos.\n",
    "\n",
    "Pavyzdys:"
   ]
  },
  {
   "cell_type": "code",
   "execution_count": null,
   "metadata": {},
   "outputs": [],
   "source": [
    "with open('file_name.txt', 'r') as file:\n",
    "    line = file.readline()\n",
    "    while line != '':\n",
    "        print(line)\n",
    "        line = file.readline()"
   ]
  },
  {
   "cell_type": "markdown",
   "metadata": {},
   "source": [
    "# `Greita Užduotis 1`\n",
    "\n",
    "## Užduotis\n",
    "\n",
    "Atidarykite tekstinį failą ir išspausdinkite eilutę, konvertuodami visas didžiąsias raides į mažąsias ir atvirkščiai. Failo pavadinimas: \"changes.txt\". 💡 Galite naudoti funkciją `swapcase()`.\n",
    "\n",
    "## Sprendimas\n",
    "\n",
    "Norėdami užbaigti šią užduotį, atlikite šiuos veiksmus:\n",
    "\n",
    "1. Norėdami skaityti, atidarykite tekstinį failą `changes.txt`.\n",
    "2. Perskaitykite eilutę iš failo.\n",
    "3. Konvertuokite eilutę į naują eilutę, kurioje didžiosios raidės pakeičiamos į mažąsias ir atvirkščiai, naudodami funkciją `swapcase()`.\n",
    "4. Išspausdinkite pakeistą eilutę."
   ]
  },
  {
   "cell_type": "code",
   "execution_count": null,
   "metadata": {},
   "outputs": [],
   "source": [
    "# Jūsų Kodas"
   ]
  },
  {
   "cell_type": "markdown",
   "metadata": {},
   "source": [
    "### Eilučių skaitymas į masyvą su \"readlines()\".\n",
    "Galite naudoti funkciją `readlines()`, kad perskaitytumėte visas eilutes ir grąžintumėte jas kaip masyvą (array). Tokiu atveju masyvą priskiriame kintamajam `lines` ir naudojame kilpą `for`, kad spausdintume kiekvieną eilutę atskirai.\n",
    "\n",
    "Pavyzdys:"
   ]
  },
  {
   "cell_type": "code",
   "execution_count": null,
   "metadata": {},
   "outputs": [],
   "source": [
    "with open('file_name.txt', 'r') as file:\n",
    "    lines = file.readlines()\n",
    "    for line in lines:\n",
    "        print(line)"
   ]
  },
  {
   "cell_type": "markdown",
   "metadata": {},
   "source": [
    "### Viso failo skaitymas naudojant `read()`.\n",
    "\n",
    "Galite naudoti funkciją `read()`, norėdami perskaityti visą failą ir priskirti jį kintamajam, tada išspausdinti.\n",
    "\n",
    "Pavyzdys:"
   ]
  },
  {
   "cell_type": "code",
   "execution_count": null,
   "metadata": {},
   "outputs": [],
   "source": [
    "with open('file_name.txt', 'r') as file:\n",
    "    content = file.read()\n",
    "    print(content)"
   ]
  },
  {
   "cell_type": "markdown",
   "metadata": {},
   "source": [
    "### Skaitymas dalimis su buferizavimu\n",
    "Skaitymas dalimis su buferizavimu yra būdas nuskaityti failą ar duomenų srautą dalimis, o ne visus iš karto. Tai naudinga dideliems failams, kurie gali užimti daug atminties, jei nuskaitomi vienu metu, arba norint efektyviau nuskaityti duomenis iš disko."
   ]
  },
  {
   "cell_type": "markdown",
   "metadata": {},
   "source": [
    "### `tell()` Funkcija\n",
    "`tell()` funkcija yra naudojama gauti dabartinę failo poziciją.\n",
    "\n",
    "Pavyzdys:"
   ]
  },
  {
   "cell_type": "code",
   "execution_count": null,
   "metadata": {},
   "outputs": [],
   "source": [
    "with open(\"data.txt\", \"r\") as file:\n",
    "    position = file.tell()  # Get the current position in the file\n",
    "    print(position)"
   ]
  },
  {
   "cell_type": "markdown",
   "metadata": {},
   "source": [
    "### `seek()` Funkcija\n",
    "Funkcija `seek()` naudojama esamai failo žymeklio vietai pakeisti. Gali prireikti vieno ar dviejų argumentų:\n",
    "pirmasis nurodo nuo ko pradėti, o antrasis nurodo atskaitos tašką (0 – nuo pradžios, 1 – nuo esamos padėties, 2 – nuo pabaigos).\n",
    "\n",
    "Numatytoji nuoroda yra 0 (nuo pradžios).\n",
    "\n",
    "Pavyzdys:"
   ]
  },
  {
   "cell_type": "code",
   "execution_count": null,
   "metadata": {},
   "outputs": [],
   "source": [
    "with open(\"text.txt\", \"r\") as file:\n",
    "    # Nustatykite žymeklį į 5 simbolį nuo failo pradžios\n",
    "    file.seek(5)\n",
    "\n",
    "    # Skaitykite failą nuo 5 simbolio\n",
    "    content = file.read()\n",
    "    print(content)"
   ]
  },
  {
   "cell_type": "markdown",
   "metadata": {},
   "source": [
    "### `write()` Funkcija\n",
    " `write()` funkcija naudojama, kai norite įrašyti į failą.\n",
    "\n",
    "Example:"
   ]
  },
  {
   "cell_type": "code",
   "execution_count": null,
   "metadata": {},
   "outputs": [],
   "source": [
    "with open(\"results.txt\", \"w\") as file:\n",
    "    file.write(\"Hello, world!\")"
   ]
  },
  {
   "cell_type": "markdown",
   "metadata": {},
   "source": [
    "# `Greita Užduotis 2`\n",
    "\n",
    "## Užduotis\n",
    "\n",
    "Sukurkite naują failą pavadinimu `numeriai.txt` ir įrašykite skaičius nuo 1 iki 100, kiekvieną į naują eilutę.\n",
    "\n",
    "## Sprendimas\n",
    "\n",
    "o atlikite šią užduotį, atlikite šiuos veiksmus:\n",
    "\n",
    "1. Norėdami rašyti, sukurkite naują tekstinį failą pavadinimu \"numeriai.txt\".\n",
    "2. Įrašykite skaičius nuo 1 iki 100, kiekvieną į naują eilutę."
   ]
  },
  {
   "cell_type": "code",
   "execution_count": null,
   "metadata": {},
   "outputs": [],
   "source": [
    "# Jūsų Kodas"
   ]
  },
  {
   "cell_type": "markdown",
   "metadata": {},
   "source": [
    "### `writelines()` Funkcija\n",
    "Funkcija `writelines()` naudojama kelioms eilutėms į failą įrašyti. Tam reikia eilučių sąrašo arba kito kartojamo teksto. Svarbu kiekvienos eilutės pabaigoje įtraukti naujos eilutės simbolį (`\"\\n\"`).\n",
    "\n",
    "Pavyzdys:"
   ]
  },
  {
   "cell_type": "code",
   "execution_count": null,
   "metadata": {},
   "outputs": [],
   "source": [
    "lines = [\"Hello, world!\\n\", \"This is my first Python file.\\n\"]\n",
    "\n",
    "with open(\"results.txt\", \"w\") as file:\n",
    "    file.writelines(lines)"
   ]
  },
  {
   "cell_type": "markdown",
   "metadata": {},
   "source": [
    "# `Greita Užduotis 3`\n",
    "\n",
    "## Užduotis\n",
    "\n",
    "Atidarykite failą „text.txt“, perkelkite failo žymeklį į failo vidurį ir išspausdinkite likusį failo turinį.\n",
    "\n",
    "## Sprendimas\n",
    "\n",
    "Norėdami užbaigti šią užduotį, atlikite šiuos veiksmus:\n",
    "\n",
    "1. Atidarykite failą \"text.txt\", kad galėtumėte skaityti.\n",
    "2. Norėdami rasti vidurinį tašką, nustatykite failo dydį.\n",
    "3. Perkelkite failo žymeklį į failo vidurį.\n",
    "4. Perskaitykite ir atsispausdinkite likusį turinį."
   ]
  },
  {
   "cell_type": "code",
   "execution_count": null,
   "metadata": {},
   "outputs": [],
   "source": [
    "# Jūsų Kodas"
   ]
  },
  {
   "cell_type": "markdown",
   "metadata": {},
   "source": [
    "### Pridėjimo „a“ režimas\n",
    "Režimas „a“ naudojamas, kai norite pridėti turinį prie esamo failo. Jei failo nėra, jis bus sukurtas.\n",
    "\n",
    "Pavyzdys:"
   ]
  },
  {
   "cell_type": "code",
   "execution_count": null,
   "metadata": {},
   "outputs": [],
   "source": [
    "with open(\"append.txt\", \"a\") as file:\n",
    "    file.write(\"Additional line.\\n\")"
   ]
  },
  {
   "cell_type": "markdown",
   "metadata": {},
   "source": [
    "### Skaitymo ir rašymo režimas „r+“.\n",
    "Režimas „r+“ naudojamas, kai norite atidaryti failą ir skaityti, ir rašyti. Jei failo nėra, jis nebus sukurtas.\n",
    "\n",
    "Pavyzdys:"
   ]
  },
  {
   "cell_type": "code",
   "execution_count": null,
   "metadata": {},
   "outputs": [],
   "source": [
    "with open(\"read_write.txt\", \"r+\") as file:\n",
    "    # skaityti\n",
    "    content = file.read()\n",
    "    print(\"Original content:\", content)\n",
    "\n",
    "    # rašyti\n",
    "    file.seek(0)  # Sugrįžta į failo pradžią\n",
    "    file.write(\"Modified line.\\n\")\n"
   ]
  },
  {
   "cell_type": "markdown",
   "metadata": {},
   "source": [
    "### Rašymo ir skaitymo režimas „w+“.\n",
    "Režimas `w+` naudojamas, kai norite atidaryti failą ir rašyti, ir skaityti. Jei failas yra, jo turinys bus išvalytas.\n",
    "\n",
    "Pavyzdys:"
   ]
  },
  {
   "cell_type": "code",
   "execution_count": null,
   "metadata": {},
   "outputs": [],
   "source": [
    "with open(\"write_read.txt\", \"w+\") as file:\n",
    "    # Skaityti\n",
    "    file.write(\"New line.\\n\")\n",
    "\n",
    "    # Rašyti\n",
    "    file.seek(0)  # Return to the beginning of the file\n",
    "    content = file.read()\n",
    "    print(\"New content:\", content)"
   ]
  },
  {
   "cell_type": "markdown",
   "metadata": {},
   "source": [
    "Visi šie failų atidarymo režimai leidžia valdyti failų turinį. Atsižvelgdami į jūsų poreikius, galite pasirinkti tinkamiausią režimą."
   ]
  },
  {
   "cell_type": "markdown",
   "metadata": {},
   "source": [
    "# `Bonus Užduotis 4`\n",
    "\n",
    "## Užduotis\n",
    "\n",
    "Sukurkite failą pavadinimu „lines.txt“ ir įrašykite jame šias eilutes:\n",
    "\n",
    "1. Saulė švelniai ryja žemę.\n",
    "2. Vakare vėjas šnabžda į medžius.\n",
    "3. Vėjas nenurimsta; tai šnabžda ir švilpia.\n",
    "\n",
    "Pridėkite naują eilutę prie failo „lines.txt“, kuris yra visas jūsų vardas.\n",
    "\n",
    "Atidarykite failą „lines.txt“, perskaitykite jo turinį ir išspausdinkite visas eilutes, kuriose yra žodis „vėjas“.\n",
    "\n",
    "## Sprendimas\n",
    "\n",
    "Norėdami užbaigti šią užduotį, atlikite šiuos veiksmus:\n",
    "\n",
    "1. Norėdami rašyti, sukurkite naują failą pavadinimu „lines.txt“.\n",
    "2. Pateiktas eilutes įrašykite į failą.\n",
    "3. Pridėkite savo vardą ir pavardę kaip naują eilutę prie failo „lines.txt“.\n",
    "4. Atidarykite „lines.txt“ failą skaitymui.\n",
    "5. Perskaitykite turinį ir atspausdinkite visas eilutes, kuriose yra žodis „vėjas“."
   ]
  },
  {
   "cell_type": "code",
   "execution_count": null,
   "metadata": {},
   "outputs": [],
   "source": [
    "# Jūsų Kodas"
   ]
  }
 ],
 "metadata": {
  "kernelspec": {
   "display_name": "Python 3",
   "language": "python",
   "name": "python3"
  },
  "language_info": {
   "codemirror_mode": {
    "name": "ipython",
    "version": 3
   },
   "file_extension": ".py",
   "mimetype": "text/x-python",
   "name": "python",
   "nbconvert_exporter": "python",
   "pygments_lexer": "ipython3",
   "version": "3.0.0"
  }
 },
 "nbformat": 4,
 "nbformat_minor": 2
}
