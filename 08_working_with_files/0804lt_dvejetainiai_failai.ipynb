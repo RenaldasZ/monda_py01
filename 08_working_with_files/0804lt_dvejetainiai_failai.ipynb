{
 "cells": [
  {
   "cell_type": "markdown",
   "metadata": {},
   "source": [
    "# Dvejetainiai failai Pythone (Binary Files in Python)\n",
    "\n",
    "Dirbdami su failais Python, turite galimybę atidaryti juos teksto arba dvejetainiu režimu. Teksto režimas naudojamas tekstiniams failams tvarkyti, o dvejetainis režimas yra būtinas dirbant su dvejetainiais failais, tokiais kaip vaizdai, garso failai ar bet kokie duomenys, kurių turinys nėra paprastas tekstas.\n",
    "\n",
    "## `open()` Funkcija su \"rb\" ir \"wb\" Žymėmis\n",
    "\n",
    "Norėdami dirbti su dvejetainiais failais „Python“, atidarydami failus naudodami funkciją „open ()“, naudokite žymes „rb“ (skaityti dvejetainį) ir „wb“ (rašyti dvejetainį).\n",
    "\n",
    "**Pavyzdys:**\n",
    "\n",
    "```python\n",
    "# Atidarykite dvejetainį failą sakitymui\n",
    "with open('input.bin', 'rb') as input_file:\n",
    "    binary_data = input_file.read()\n",
    "\n",
    "# Atidarykite dvejetainį failą rašymui\n",
    "with open('output.bin', 'wb') as output_file:\n",
    "    output_file.write(binary_data)"
   ]
  },
  {
   "cell_type": "markdown",
   "metadata": {},
   "source": [
    "## Darbas su dvejetainiais objektais (b'')\n",
    "Dvejetainiai objektai „Python“ naudojami dvejetainiams duomenims, pvz., baitų sekoms, tvarkyti. Jie vaizduojami kaip „b“ ir juose yra šešioliktainės reikšmės.\n",
    "\n",
    "**Pavyzdys:**"
   ]
  },
  {
   "cell_type": "code",
   "execution_count": null,
   "metadata": {},
   "outputs": [],
   "source": [
    "binary_data = b'\\x48\\x65\\x6c\\x6c\\x6f\\x2c\\x20\\x57\\x6f\\x72\\x6c\\x64\\x21'  # Dvetainė reprezentacija \"Hello, World!\"\n",
    "print(binary_data)  # Išspausdina: b'Hello, World!'"
   ]
  },
  {
   "cell_type": "markdown",
   "metadata": {},
   "source": [
    "## Failo Kopijavimo Funkcija\n",
    "Štai paprasta funkcija, skirta kopijuoti dvejetainį failą iš vienos vietos į kitą:"
   ]
  },
  {
   "cell_type": "code",
   "execution_count": null,
   "metadata": {},
   "outputs": [],
   "source": [
    "def copy_binary_file(input_file_path, output_file_path):\n",
    "    with open(input_file_path, 'rb') as input_file:\n",
    "        binary_data = input_file.read()\n",
    "    with open(output_file_path, 'wb') as output_file:\n",
    "        output_file.write(binary_data)"
   ]
  },
  {
   "cell_type": "markdown",
   "metadata": {},
   "source": [
    "Šią funkciją galite naudoti dvejetainiams failams kopijuoti. Pavyzdžiui:"
   ]
  },
  {
   "cell_type": "code",
   "execution_count": null,
   "metadata": {},
   "outputs": [],
   "source": [
    "copy_binary_file('input.png', 'output.png')  # Nukopijuojamas vaizdo failas"
   ]
  },
  {
   "cell_type": "markdown",
   "metadata": {},
   "source": [
    "Ši medžiaga suteikia įžvalgų apie darbą su dvejetainiais failais Python."
   ]
  }
 ],
 "metadata": {
  "language_info": {
   "name": "python"
  }
 },
 "nbformat": 4,
 "nbformat_minor": 2
}
