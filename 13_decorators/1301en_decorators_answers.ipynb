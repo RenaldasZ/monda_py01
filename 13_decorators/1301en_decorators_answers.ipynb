{
 "cells": [
  {
   "cell_type": "markdown",
   "metadata": {},
   "source": [
    "## Quick Assignement 1"
   ]
  },
  {
   "cell_type": "code",
   "execution_count": null,
   "metadata": {},
   "outputs": [],
   "source": [
    "class Student:\n",
    "    def __init__(self, first_name, last_name, age):\n",
    "        self.first_name = first_name\n",
    "        self.last_name = last_name\n",
    "        self.age = age\n",
    "    \n",
    "    @property\n",
    "    def full_name(self):\n",
    "        return f\"{self.first_name} {self.last_name}\"\n",
    "    \n",
    "    @staticmethod\n",
    "    def is_mature(age):\n",
    "        return age >= 18\n",
    "    \n",
    "    @classmethod\n",
    "    def create_student(cls, first_name: str, last_name: str, age: int):\n",
    "        return cls(first_name, last_name, age)\n",
    "\n",
    "# Testing the class\n",
    "student1 = Student.create_student(\"John\", \"Doe\", 20)\n",
    "print(student1.full_name)  # Output: John Doe\n",
    "print(Student.is_mature(student1.age))  # Output: True"
   ]
  },
  {
   "cell_type": "markdown",
   "metadata": {},
   "source": [
    "## Quick Assignement 2"
   ]
  },
  {
   "cell_type": "code",
   "execution_count": null,
   "metadata": {},
   "outputs": [],
   "source": [
    "from functools import wraps\n",
    "def make_upper(func):\n",
    "    \"\"\" This decorator makes all function arguments and keyword arguments upper case if they are text, then makes the result upper case if it is text \"\"\"\n",
    "    @wraps(func)\n",
    "    def wrapper(*args, **kwargs):\n",
    "        for arg in args:\n",
    "            if type(arg) == str:\n",
    "                arg = arg.upper()\n",
    "        for kwarg in kwargs:\n",
    "            if type(kwarg) == str:\n",
    "                kwargs[kwarg] = kwargs[kwarg].upper()\n",
    "        result = func(*args, **kwargs)\n",
    "        if type(result) == str:\n",
    "            result = result.upper()\n",
    "        return result\n",
    "    return wrapper\n",
    "\n",
    "# testing the above decorator with function, which makes text lowecase, with a debug print\n",
    "@make_upper\n",
    "def make_lower(string=\"Hello World\"):\n",
    "    print(f\"making '{string}' lowercase\")\n",
    "    return string.lower()\n",
    "\n",
    "# testing of the decorated function\n",
    "print(make_lower())\n",
    "print(make_lower(\"it works!\"))"
   ]
  },
  {
   "cell_type": "markdown",
   "metadata": {},
   "source": [
    "## Quick Assignement 3\n"
   ]
  },
  {
   "cell_type": "code",
   "execution_count": null,
   "metadata": {},
   "outputs": [],
   "source": [
    "from time import time\n",
    "\n",
    "def find_primary(number):\n",
    "     if number < 2:\n",
    "         return False\n",
    "     for sk in range(2, number):\n",
    "         if number % sk == 0:\n",
    "             return False\n",
    "     return True\n",
    "\n",
    "def primary_num_generator():\n",
    "     number = 2\n",
    "     while True:\n",
    "         if find_primary(number):\n",
    "             yield number\n",
    "         number += 1\n",
    "\n",
    "def measure_time(function):\n",
    "     def wrapper(*args, **kwargs):\n",
    "         start = time()\n",
    "         result = function(*args, **kwargs)\n",
    "         end = time()\n",
    "         print(f\"Execution time: {end - start} s..\")\n",
    "         return result\n",
    "     return wrapper\n",
    "\n",
    "@measure_time\n",
    "def primary_sequence_until_time():\n",
    "     prim_nm_gen = primary_num_generator()\n",
    "     next_first = next(prim_nm_gen)\n",
    "     while True:\n",
    "         start = time()\n",
    "         primary = next_first\n",
    "         next_first = next(prim_nm_gen)\n",
    "         elapsed_time = time() - start\n",
    "         print(elapsed_time)\n",
    "         if elapsed_time > 0.01:\n",
    "             break\n",
    "         print(primary)\n",
    "            \n",
    "primary_sequence_until_time()"
   ]
  }
 ],
 "metadata": {
  "kernelspec": {
   "display_name": "Python 3",
   "language": "python",
   "name": "python3"
  },
  "language_info": {
   "codemirror_mode": {
    "name": "ipython",
    "version": 3
   },
   "file_extension": ".py",
   "mimetype": "text/x-python",
   "name": "python",
   "nbconvert_exporter": "python",
   "pygments_lexer": "ipython3",
   "version": "3.10.12"
  }
 },
 "nbformat": 4,
 "nbformat_minor": 2
}
