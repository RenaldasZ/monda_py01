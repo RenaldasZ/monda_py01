{
 "cells": [
  {
   "cell_type": "markdown",
   "metadata": {},
   "source": [
    "# Dekoratoriai"
   ]
  },
  {
   "cell_type": "markdown",
   "metadata": {},
   "source": [
    "\"Python\" dekoratoriai yra aukštesnės eilės funkcijos, naudojamos keisti ar praplėsti funkcijų ar metodų elgseną nekeičiant jų kodo. Aukštesnės eilės funkcijos yra tos, kurios kaip argumentus priima kitas funkcijas arba grąžina funkcijas kaip rezultatus."
   ]
  },
  {
   "cell_type": "markdown",
   "metadata": {},
   "source": [
    "## Dekoratoriaus deklaracija, wrapper'is"
   ]
  },
  {
   "cell_type": "markdown",
   "metadata": {},
   "source": [
    "Dekoratorius yra funkcija, kuri priima kitą funkciją kaip argumentą ir grąžina naują funkciją, kuri papildomai apjungia ar modifikuoja esamos funkcijos elgesį. Wrapper (apgaubianti) funkcija yra ta, kuri būna sukuriama ir grąžinama dekoratoriaus funkcijos metu.\n",
    "\n",
    "Pavyzdys:"
   ]
  },
  {
   "cell_type": "code",
   "execution_count": null,
   "metadata": {},
   "outputs": [],
   "source": [
    "def decorator(func):\n",
    "    def wrapper(*args, **kwargs):\n",
    "        print(\"Prieš funkcijos iškvietimą\")\n",
    "        result = func(*args, **kwargs)\n",
    "        print(\"Po funkcijos iškvietimo\")\n",
    "        return result\n",
    "    return wrapper"
   ]
  },
  {
   "cell_type": "markdown",
   "metadata": {},
   "source": [
    "Dekoratoriaus pavyzdys:"
   ]
  },
  {
   "cell_type": "code",
   "execution_count": null,
   "metadata": {},
   "outputs": [],
   "source": [
    "def greeting_decorator(func):\n",
    "    def wrapper(name):\n",
    "        print(f\"Sveiki, {name}!\")\n",
    "        func(name)\n",
    "    return wrapper\n",
    "\n",
    "@greeting_decorator\n",
    "def farewell(name):\n",
    "    print(f\"Viso gero, {name}!\")\n",
    "\n",
    "farewell(\"Jonas\")"
   ]
  },
  {
   "cell_type": "markdown",
   "metadata": {},
   "source": [
    "Šiame pavyzdyje `greeting_decorator()` priima funkciją `farewell()` kaip argumentą ir grąžina `wrapper` funkciją. \"`wrapper`\" funkcija atspausdina `greeting_decorator` tekstą, tada iškviečia `farewell()` funkciją su tuo pačiu vardu, kai iškviečiama `farewell(\"Jonas\")`.\n",
    "\n",
    "Dar vienas pavyzdys:"
   ]
  },
  {
   "cell_type": "code",
   "execution_count": null,
   "metadata": {},
   "outputs": [],
   "source": [
    "def check_positive_numbers(func):\n",
    "    def wrapper(*args, **kwargs):\n",
    "        if all(arg > 0 for arg in args):\n",
    "            result = func(*args, **kwargs)\n",
    "        else:\n",
    "            result = \"Klaida: visi argumentai turi būti teigiami\"\n",
    "        return result\n",
    "    return wrapper\n",
    "\n",
    "@check_positive_numbers\n",
    "def multiplication(x, y):\n",
    "    return x * y\n",
    "\n",
    "result1 = multiplication(3, 5)\n",
    "print(f\"Daugybos rezultatas: {result1}\")\n",
    "\n",
    "result2 = multiplication(-2, 4)\n",
    "print(f\"Daugybos rezultatas: {result2}\")"
   ]
  },
  {
   "cell_type": "markdown",
   "metadata": {},
   "source": [
    "Šiame pavyzdyje `check_positive_numbers()` yra dekoratorius, kuris priima funkciją daugyba kaip argumentą ir grąžina `wrapper` funkciją. `wrapper` funkcija tikrina, ar visi perduoti argumentai yra teigiami. Jei taip, iškviečiama `multiplication()` funkcija su perduotais argumentais ir grąžinamas rezultatas. Jei ne, grąžinamas klaidos pranešimas."
   ]
  },
  {
   "cell_type": "markdown",
   "metadata": {},
   "source": [
    "## Dekoratorių pavyzdžiai Python programavimo kalboje"
   ]
  },
  {
   "cell_type": "markdown",
   "metadata": {},
   "source": [
    "## `@property` dekoratorius"
   ]
  },
  {
   "cell_type": "markdown",
   "metadata": {},
   "source": [
    "`@property` dekoratorius naudojamas apibrėžiant `getter` metodus klasės atributams. Jis leidžia prieiti prie funkcijos rezultato kaip prie klasės atributo, o ne kaip prie metodo."
   ]
  },
  {
   "cell_type": "code",
   "execution_count": null,
   "metadata": {},
   "outputs": [],
   "source": [
    "class Person:\n",
    "    def __init__(self, name, surname):\n",
    "        self._name = name\n",
    "        self._surname = surname\n",
    "\n",
    "    @property\n",
    "    def full_name(self):\n",
    "        return f\"{self._name} {self._surname}\""
   ]
  },
  {
   "cell_type": "markdown",
   "metadata": {},
   "source": [
    "## `@staticmethod` dekoratorius"
   ]
  },
  {
   "cell_type": "markdown",
   "metadata": {},
   "source": [
    "`@staticmethod` dekoratorius leidžia apibrėžti statinius metodus klasėje. Statiniai metodai gali būti iškviesti klasės lygmeniu, nesant objekto egzemplioriaus, ir jie nepriklauso nuo objekto būsenos."
   ]
  },
  {
   "cell_type": "code",
   "execution_count": null,
   "metadata": {},
   "outputs": [],
   "source": [
    "class Math:\n",
    "    @staticmethod\n",
    "    def addition(x, y):\n",
    "        return x + y\n",
    "\n",
    "result = Math.addition(3, 5)\n",
    "print(result)"
   ]
  },
  {
   "cell_type": "markdown",
   "metadata": {},
   "source": [
    "## `@classmethod` dekoratorius"
   ]
  },
  {
   "cell_type": "markdown",
   "metadata": {},
   "source": [
    "`@classmethod` dekoratorius leidžia apibrėžti klasės metodus, kurie priima klasę kaip pirmąjį argumentą, vadinamą \"`cls`\". Klasės metodai gali būti naudojami klasės ar objekto lygmeniu, bet visada gražina klasės atributus."
   ]
  },
  {
   "cell_type": "code",
   "execution_count": null,
   "metadata": {},
   "outputs": [],
   "source": [
    "class Car:\n",
    "    _manufacturer = \"Toyota\"\n",
    "\n",
    "    @classmethod\n",
    "    def manufacturer(cls):\n",
    "        return cls._manufacturer\n",
    "\n",
    "print(Car.manufacturer())"
   ]
  },
  {
   "cell_type": "markdown",
   "metadata": {},
   "source": [
    "### Quick assignment 1\n",
    "\n",
    "Sukurkite klasę, pavadinimu Studentas, su trimis atributais: vardas (string), pavardė (string) ir amžius (sveikasis skaičius). Įgyvendinkite šiuos metodus:\n",
    "\n",
    "1. `full_name()`: Šis metodas turėtų būti savybės metodas, grąžinantis studento pilną vardą.\n",
    "1. `is_mature(age)`: Šis metodas turėtų būti statinis metodas, kuris priima amžių kaip įvestį ir grąžina True, jei amžius yra 18 ar vyresnis, ir False kitais atvejais.\n",
    "1. create_student(cls, first_name: str, last_name: str, age: int): Šis metodas turėtų būti klasės metodas, grąžinantis naują Studentas objektą pagal pateiktus parametrus."
   ]
  },
  {
   "cell_type": "code",
   "execution_count": null,
   "metadata": {},
   "outputs": [],
   "source": [
    "# jusu kodo vieta"
   ]
  },
  {
   "cell_type": "markdown",
   "metadata": {},
   "source": [
    "## Dekoratorių docstring'ai"
   ]
  },
  {
   "cell_type": "markdown",
   "metadata": {},
   "source": [
    "Docstring'ai yra ilgesni komentarai, aprašantys funkcijos veikimą, parametrus ir grąžinamus rezultatus. Jie rašomi tarp trijų kabučių ir privalo būti funkcijos pradžioje, prieš pat jos kodą.\n",
    "\n",
    "Pavyzdys:"
   ]
  },
  {
   "cell_type": "code",
   "execution_count": null,
   "metadata": {},
   "outputs": [],
   "source": [
    "def my_decorator(func):\n",
    "    \"\"\"\n",
    "    Dekoratorius, kuris atspausdina pranešimą prieš ir po funkcijos vykdymo.\n",
    "\n",
    "    Args:\n",
    "        func (callable): Funkcija, kurią reikia dekoruoti.\n",
    "    \"\"\"\n",
    "    def wrapper(*args, **kwargs):\n",
    "        print(\"Funkcija bus iškviesta\")\n",
    "        result = func(*args, **kwargs)\n",
    "        print(\"Funkcija buvo iškviesta\")\n",
    "        return result\n",
    "    return wrapper"
   ]
  },
  {
   "cell_type": "markdown",
   "metadata": {},
   "source": [
    "## Dekoratorių anotacijos"
   ]
  },
  {
   "cell_type": "markdown",
   "metadata": {},
   "source": [
    "Anotacijos yra užuomina apie kintamųjų tipus. Jos padeda geriau suprasti, kokius duomenų tipus funkcija priima ir grąžina. Anotacijos yra neprivalomos ir neturi įtakos programos veikimui, tačiau padeda suprasti ir skaityti kodą.\n",
    "\n",
    "Pavyzdys:"
   ]
  },
  {
   "cell_type": "code",
   "execution_count": null,
   "metadata": {},
   "outputs": [],
   "source": [
    "from typing import Callable, Any\n",
    "\n",
    "def my_decorator(func: Callable[..., Any]) -> Callable[..., Any]:\n",
    "    def wrapper(*args, **kwargs) -> Any:\n",
    "        print(\"Funkcija bus iškviesta\")\n",
    "        result = func(*args, **kwargs)\n",
    "        print(\"Funkcija buvo iškviesta\")\n",
    "        return result\n",
    "    return wrapper"
   ]
  },
  {
   "cell_type": "markdown",
   "metadata": {},
   "source": [
    "## Dekoratorių `@wraps()` naudojimas"
   ]
  },
  {
   "cell_type": "markdown",
   "metadata": {},
   "source": [
    "Dekoratoriaus viduje sukuriama vidinė funkcija (paprastai vadinama wrapper), kuri sukviečia pradinę funkciją. Tačiau šis elgesys gali sukelti problemų, nes vidinės funkcijos atributai gali \"užgožti\" pradinės funkcijos atributus. Norint išvengti šios problemos, galima naudoti functools.wraps() dekoratorių.\n",
    "\n",
    "Pavyzdys:"
   ]
  },
  {
   "cell_type": "code",
   "execution_count": null,
   "metadata": {},
   "outputs": [],
   "source": [
    "from functools import wraps\n",
    "from typing import Callable, Any\n",
    "\n",
    "def my_decorator(func: Callable[..., Any]) -> Callable[..., Any]:\n",
    "    @wraps(func)\n",
    "    def wrapper(*args, **kwargs) -> Any:\n",
    "        print(\"Funkcija bus iškviesta\")\n",
    "        result = func(*args, **kwargs)\n",
    "        print(\"Funkcija buvo iškviesta\")\n",
    "        return result\n",
    "    return wrapper\n",
    "\n",
    "@my_decorator\n",
    "def example_function(a: int, b: int) -> int:\n",
    "    \"\"\"\n",
    "    Funkcija, skirta sudėti du skaičius ir grąžinti rezultatą.\n",
    "\n",
    "    Args:\n",
    "        a (int): Pirmasis skaičius.\n",
    "        b (int): Antrasis skaičius.\n",
    "    Returns:\n",
    "        int: Skaičių suma.\n",
    "    \"\"\"\n",
    "    return a + b\n",
    "\n",
    "print(example_function(3, 5))  # Output: Funkcija bus iškviesta, Funkcija buvo iškviesta, 8\n",
    "print(example_function.__name__)  # Output: example_function\n",
    "print(example_function.__doc__)  # Output: Funkcija, skirta sudėti du skaičius ir grąžinti rezultatą..."
   ]
  },
  {
   "cell_type": "markdown",
   "metadata": {},
   "source": [
    "Šiame pavyzdyje `@wraps(func)` dekoratorius naudojamas wrapper funkcijai, kad išlaikytų pradinės funkcijos (šiuo atveju example_function) metaduomenis. Be `@wraps(func)`, `example_function.__name__` ir `example_function.__doc__` grąžintų vidinės `wrapper` funkcijos vardą ir docstring'ą. Su `@wraps(func)` dekoratoriumi, grąžinami teisingi pradinės funkcijos metaduomenys."
   ]
  },
  {
   "cell_type": "markdown",
   "metadata": {},
   "source": [
    "## Dekoratoriaus su parametrais sukūrimas"
   ]
  },
  {
   "cell_type": "markdown",
   "metadata": {},
   "source": [
    "Dekoratoriai su parametrais leidžia jums perduoti papildomus parametrus dekoratoriui, kad jūsų dekoratorius būtų lankstesnis ir lengviau pritaikomas skirtingose situacijose. Norint sukurti dekoratorių su parametrais, reikia sukurti dar vieną išorinę funkciją, kuri grąžina dekoratorių. Taip pat galite naudoti kelis dekoratorius ant vienos funkcijos, kad pritaikytumėte kelis elgsenos pakeitimus.\n",
    "\n",
    "Pavyzdys:"
   ]
  },
  {
   "cell_type": "code",
   "execution_count": null,
   "metadata": {},
   "outputs": [],
   "source": [
    "from functools import wraps\n",
    "from typing import Callable, Any\n",
    "\n",
    "def repeat_decorator(times: int):\n",
    "    def actual_decorator(func: Callable[..., Any]) -> Callable[..., Any]:\n",
    "        @wraps(func)\n",
    "        def wrapper(*args, **kwargs) -> Any:\n",
    "            for _ in range(times):\n",
    "                result = func(*args, **kwargs)\n",
    "            return result\n",
    "        return wrapper\n",
    "    return actual_decorator\n",
    "\n",
    "@repeat_decorator(3)\n",
    "def print_message(message: str) -> None:\n",
    "    print(message)\n",
    "\n",
    "print_message(\"Labas!\")  # Output: Labas! Labas! Labas!"
   ]
  },
  {
   "cell_type": "markdown",
   "metadata": {},
   "source": [
    "Šiame pavyzdyje `repeat_decorator` funkcija priima `times` parametrą, kuris nurodo, kiek kartų dekoruota funkcija turi būti iškviesta. Vidinė funkcija `actual_decorator` yra grąžinama išorinės funkcijos ir veikia kaip įprastas dekoratorius."
   ]
  },
  {
   "cell_type": "markdown",
   "metadata": {},
   "source": [
    "### Quick assignment 2\n",
    "\n",
    "Parašykite dekoratorių, kuris:\n",
    "\n",
    "1. visus dekoruotos funkcijos tekstinius argus ir kwargus paverčia didžiosiomis raidėmis.\n",
    "1. visus funkcijos teksinius rezultatus paverčia didžiosiomis raidėmis."
   ]
  },
  {
   "cell_type": "code",
   "execution_count": null,
   "metadata": {},
   "outputs": [],
   "source": [
    "# jusu kodo vieta"
   ]
  },
  {
   "cell_type": "markdown",
   "metadata": {},
   "source": [
    "## Keli dekoratoriai ant funkcijos"
   ]
  },
  {
   "cell_type": "markdown",
   "metadata": {},
   "source": [
    "Galite naudoti kelis dekoratorius ant vienos funkcijos, tačiau turėkite omenyje, kad jie bus pritaikyti tam tikra tvarka. Pirmasis dekoratorius bus pritaikytas paskutinis, antrasis dekoratorius bus pritaikytas prieš paskutinis ir t.t.\n",
    "\n",
    "Pavyzdys:"
   ]
  },
  {
   "cell_type": "code",
   "execution_count": null,
   "metadata": {},
   "outputs": [],
   "source": [
    "from functools import wraps\n",
    "from typing import Callable, Any\n",
    "\n",
    "def print_before_decorator(func: Callable[..., Any]) -> Callable[..., Any]:\n",
    "    @wraps(func)\n",
    "    def wrapper(*args, **kwargs) -> Any:\n",
    "        print(\"Funkcija bus iškviesta\")\n",
    "        return func(*args, **kwargs)\n",
    "    return wrapper\n",
    "\n",
    "def print_after_decorator(func: Callable[..., Any]) -> Callable[..., Any]:\n",
    "    @wraps(func)\n",
    "    def wrapper(*args, **kwargs) -> Any:\n",
    "        result = func(*args, **kwargs)\n",
    "        print(\"Funkcija buvo iškviesta\")\n",
    "        return result\n",
    "    return wrapper\n",
    "\n",
    "@print_before_decorator\n",
    "@print_after_decorator\n",
    "def add_numbers(a: int, b: int) -> int:\n",
    "    return a + b\n",
    "\n",
    "result = add_numbers(3, 5)  # Output: Funkcija bus iškviesta, Funkcija buvo iškviesta\n",
    "print(result)  # Output: 8"
   ]
  },
  {
   "cell_type": "markdown",
   "metadata": {},
   "source": [
    "Šiame pavyzdyje `add_numbers` funkcija yra dekoruota dviem dekoratoriais: `print_before_decorator` ir `print_after_decorator`."
   ]
  },
  {
   "cell_type": "markdown",
   "metadata": {},
   "source": [
    "### Greita užduotis\n",
    "\n",
    "Parašykite funkciją rasti pirminį skaičių\n",
    "\n",
    "1. Parašykite neribotą pirminių skaičių generatorių\n",
    "1. Parašykite dekoratorių matuoti funkcijos laikui\n",
    "1. Padarykite funkciją, kuri turi ciklą printinimui pirminių skaičių sekos radimui iki tol, kol einamo pirminio sekos skaičiaus radimas truks ilgiau negu 0,01 sekundės.\n",
    "1. išspausdinkite viso proceso trukmę, panaudojant dekoratorių"
   ]
  },
  {
   "cell_type": "code",
   "execution_count": null,
   "metadata": {},
   "outputs": [],
   "source": [
    "# jusu kodo vieta"
   ]
  },
  {
   "cell_type": "markdown",
   "metadata": {},
   "source": [
    "## `Setter`iai ir `Getter`iai"
   ]
  },
  {
   "cell_type": "markdown",
   "metadata": {},
   "source": [
    "Galime @property dekoruotiems metodams nustatyti @metodas.setter dekoruotą metodą, kuris valdys privačios reikšmės priskyrimo eigą. Labai praktiška naudoti sąlygų tikrinimui, cenzūrai, autokorekcijoms ir panašiai. \n",
    "\n",
    "Pavyzdys su žmogaus klase amžiaus ir vardo atributų priskyrimo valdymui:"
   ]
  },
  {
   "cell_type": "code",
   "execution_count": null,
   "metadata": {},
   "outputs": [],
   "source": [
    "class Zmogus:\n",
    "    def __init__(self, vardas, pavarde, amzius: int, *args, **kwargs) -> None:\n",
    "        self.vardas = vardas\n",
    "        self.pavarde = pavarde\n",
    "        self.amzius = amzius\n",
    "        self.savybes = args\n",
    "        for key, value in kwargs.items():\n",
    "            setattr(self, key, value)\n",
    "    \n",
    "    @property\n",
    "    def amzius(self) -> int:\n",
    "        return self.__amzius\n",
    "    \n",
    "    @amzius.setter\n",
    "    def amzius(self, metai) -> None:\n",
    "        if type(metai) != int:\n",
    "            raise ValueError(\"Amzius turi buti sveikas skaicius\")\n",
    "        elif metai < 0:\n",
    "            raise ValueError(\"Dar negyvena\")\n",
    "        elif metai > 200:\n",
    "            raise ValueError(\"Jau nebegyvena\")\n",
    "        self.__amzius = metai\n",
    "\n",
    "    @property\n",
    "    def vardas(self) -> str:\n",
    "        return self.__vardas\n",
    "    \n",
    "    @vardas.setter\n",
    "    def vardas(self, ivestas_vardas: str):\n",
    "        self.__vardas = ivestas_vardas.capitalize()\n",
    "    \n",
    "    def __str__(self) -> str:\n",
    "        return f\"{self.vardas} {self.pavarde}, {self.amzius}\""
   ]
  }
 ],
 "metadata": {
  "kernelspec": {
   "display_name": "venv",
   "language": "python",
   "name": "python3"
  },
  "language_info": {
   "codemirror_mode": {
    "name": "ipython",
    "version": 3
   },
   "file_extension": ".py",
   "mimetype": "text/x-python",
   "name": "python",
   "nbconvert_exporter": "python",
   "pygments_lexer": "ipython3",
   "version": "3.10.12"
  }
 },
 "nbformat": 4,
 "nbformat_minor": 2
}
