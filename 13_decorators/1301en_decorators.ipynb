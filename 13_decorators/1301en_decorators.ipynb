{
 "cells": [
  {
   "cell_type": "markdown",
   "metadata": {},
   "source": [
    "# Decorators\n"
   ]
  },
  {
   "cell_type": "markdown",
   "metadata": {},
   "source": [
    "Decorators in Python are higher-order functions used to modify or extend the behavior of functions or methods without changing their code. Higher-order functions are those that take other functions as arguments or return functions as results."
   ]
  },
  {
   "cell_type": "markdown",
   "metadata": {},
   "source": [
    "### Declaration of a decorator, wrapper:\n",
    "\n",
    "A decorator is a function that takes another function as an argument and returns a new function that additionally combines or modifies the behavior of the existing function. The wrapper function is the one created and returned during the decorator's execution.\n",
    "\n",
    "Example:"
   ]
  },
  {
   "cell_type": "code",
   "execution_count": null,
   "metadata": {},
   "outputs": [],
   "source": [
    "def decorator(func):\n",
    "    def wrapper(*args, **kwargs):\n",
    "        print(\"Before calling the function\")\n",
    "        result = func(*args, **kwargs)\n",
    "        print(\"After calling the function\")\n",
    "        return result\n",
    "    return wrapper\n"
   ]
  },
  {
   "cell_type": "markdown",
   "metadata": {},
   "source": [
    "Decorator example:"
   ]
  },
  {
   "cell_type": "code",
   "execution_count": null,
   "metadata": {},
   "outputs": [],
   "source": [
    "def greeting_decorator(func):\n",
    "    def wrapper(name):\n",
    "        print(f\"Hello, {name}!\")\n",
    "        func(name)\n",
    "    return wrapper\n",
    "\n",
    "@greeting_decorator\n",
    "def farewell(name):\n",
    "    print(f\"Goodbye, {name}!\")\n",
    "\n",
    "farewell(\"John\")"
   ]
  },
  {
   "cell_type": "markdown",
   "metadata": {},
   "source": [
    "\n",
    "\n",
    "In this example, the greeting decorator takes the farewell function as an argument and returns the `wrapper` function. The wrapper function prints a greeting, calls the farewell function with the same name, and is invoked when `farewell(\"John\")` is called.\n",
    "\n",
    "Another example:\n",
    "\n"
   ]
  },
  {
   "cell_type": "code",
   "execution_count": null,
   "metadata": {},
   "outputs": [],
   "source": [
    "\n",
    "def check_positive_numbers(func):\n",
    "    def wrapper(*args, **kwargs):\n",
    "        if all(arg > 0 for arg in args):\n",
    "            result = func(*args, **kwargs)\n",
    "        else:\n",
    "            result = \"Error: all arguments must be positive\"\n",
    "        return result\n",
    "    return wrapper\n",
    "\n",
    "@check_positive_numbers\n",
    "def multiplication(x, y):\n",
    "    return x * y\n",
    "\n",
    "result1 = multiplication(3, 5)\n",
    "print(f\"Multiplication result: {result1}\")\n",
    "\n",
    "result2 = multiplication(-2, 4)\n",
    "print(f\"Multiplication result: {result2}\")\n"
   ]
  },
  {
   "cell_type": "markdown",
   "metadata": {},
   "source": [
    "\n",
    "In this example, check_positive_numbers is a decorator that takes the multiplication function as an argument and returns the wrapper function. The wrapper function checks if all arguments are positive before calling the multiplication function.\n",
    "\n"
   ]
  },
  {
   "cell_type": "markdown",
   "metadata": {},
   "source": [
    "\n",
    "## Examples of Decorators in Python Programming:\n"
   ]
  },
  {
   "cell_type": "markdown",
   "metadata": {},
   "source": [
    "## `@property` decorator:"
   ]
  },
  {
   "cell_type": "markdown",
   "metadata": {},
   "source": [
    "The `@property` decorator is used when defining getter methods for class attributes. It allows accessing the function result as if it were a class attribute, rather than a method."
   ]
  },
  {
   "cell_type": "code",
   "execution_count": null,
   "metadata": {},
   "outputs": [],
   "source": [
    "class Person:\n",
    "    def __init__(self, name, surname):\n",
    "        self._name = name\n",
    "        self._surname = surname\n",
    "\n",
    "    @property\n",
    "    def full_name(self):\n",
    "        return f\"{self._name} {self._surname}\""
   ]
  },
  {
   "cell_type": "markdown",
   "metadata": {},
   "source": [
    "## `@staticmethod` decorator:\n",
    "\n",
    "The `@staticmethod` decorator is used to define static methods in a class. Static methods can be called at the class level without an instance of the object and are independent of the object's state.\n",
    "\n"
   ]
  },
  {
   "cell_type": "code",
   "execution_count": null,
   "metadata": {},
   "outputs": [],
   "source": [
    "class Math:\n",
    "    @staticmethod\n",
    "    def addition(x, y):\n",
    "        return x + y\n",
    "\n",
    "result = Math.addition(3, 5)\n",
    "print(result)"
   ]
  },
  {
   "cell_type": "markdown",
   "metadata": {},
   "source": [
    "## `@classmethod` decorator:\n",
    "\n",
    "The `@classmethod` decorator is used to define class methods that take the class itself as the first argument (usually named \"cls\"). Class methods can be called at both the class and object levels and always return class attributes.\n"
   ]
  },
  {
   "cell_type": "code",
   "execution_count": null,
   "metadata": {},
   "outputs": [],
   "source": [
    "class Car:\n",
    "    _manufacturer = \"Toyota\"\n",
    "\n",
    "    @classmethod\n",
    "    def manufacturer(cls):\n",
    "        return cls._manufacturer\n",
    "\n",
    "print(Car.manufacturer())"
   ]
  },
  {
   "cell_type": "markdown",
   "metadata": {},
   "source": [
    "### Quick Assignement 1\n",
    "\n",
    "Create a class called Student with three attributes: first_name (string), last_name (string), and age (integer). \n",
    "\n",
    "Implement the following methods:\n",
    "\n",
    "1. `full_name()`: This method should be a `property` method that returns the full name of the student.\n",
    "1. `is_mature(age)`: This method should be a `static` method that takes an age as input and returns True if the age is 18 or older, and False otherwise.\n",
    "1. create_student(cls, first_name: str, last_name: str, age: int): This method should be a class method that returns a new Student object based on the provided parameters."
   ]
  },
  {
   "cell_type": "code",
   "execution_count": null,
   "metadata": {},
   "outputs": [],
   "source": [
    "# your code here"
   ]
  },
  {
   "cell_type": "markdown",
   "metadata": {},
   "source": [
    "## Decorator Docstrings:\n",
    "\n",
    "Docstrings are longer comments describing a function's behavior, parameters, and return values. They are written between triple quotes and must be at the beginning of the function before its code."
   ]
  },
  {
   "cell_type": "code",
   "execution_count": null,
   "metadata": {},
   "outputs": [],
   "source": [
    "\n",
    "def decorator(func):\n",
    "    \"\"\"\n",
    "    A decorator that prints a message before and after calling the function.\n",
    "\n",
    "    Args:\n",
    "        func (callable): The function to be decorated.\n",
    "    \"\"\"\n",
    "    def wrapper(*args, **kwargs):\n",
    "        print(\"The function will be called\")\n",
    "        result = func(*args, **kwargs)\n",
    "        print(\"The function has been called\")\n",
    "        return result\n",
    "    return wrapper\n",
    "\n",
    "    \n"
   ]
  },
  {
   "cell_type": "markdown",
   "metadata": {},
   "source": [
    "## Decorator Annotations:\n",
    "\n",
    "Annotations provide hints about the types of variables. They help better understand the types of data that a function takes and returns. Annotations are optional and do not affect the program's execution.\n"
   ]
  },
  {
   "cell_type": "code",
   "execution_count": null,
   "metadata": {},
   "outputs": [],
   "source": [
    "\n",
    "from typing import Callable, Any\n",
    "\n",
    "def decorator(func: Callable[..., Any]) -> Callable[..., Any]:\n",
    "    def wrapper(*args, **kwargs) -> Any:\n",
    "        print(\"The function will be called\")\n",
    "        result = func(*args, **kwargs)\n",
    "        print(\"The function has been called\")\n",
    "        return result\n",
    "    return wrapper\n",
    "    \n"
   ]
  },
  {
   "cell_type": "markdown",
   "metadata": {},
   "source": [
    "## Using the `@wraps()` Decorator:\n",
    "\n",
    "Inside a decorator, an inner function (usually called wrapper) is created to invoke the original function. However, this behavior may cause issues as the inner function's attributes can overshadow the original function's attributes. To avoid this problem, the functools.wraps() decorator is often used.\n",
    "\n"
   ]
  },
  {
   "cell_type": "code",
   "execution_count": null,
   "metadata": {},
   "outputs": [],
   "source": [
    "\n",
    "from functools import wraps\n",
    "from typing import Callable, Any\n",
    "\n",
    "def decorator(func: Callable[..., Any]) -> Callable[..., Any]:\n",
    "    @wraps(func)\n",
    "    def wrapper(*args, **kwargs) -> Any:\n",
    "        print(\"The function will be called\")\n",
    "        result = func(*args, **kwargs)\n",
    "        print(\"The function has been called\")\n",
    "        return result\n",
    "    return wrapper\n",
    "\n",
    "@decorator\n",
    "def example_function(a: int, b: int) -> int:\n",
    "    \"\"\"\n",
    "    A function that adds two numbers and returns the result.\n",
    "\n",
    "    Args:\n",
    "        a (int): The first number.\n",
    "        b (int): The second number.\n",
    "    Returns:\n",
    "        int: The sum of the numbers.\n",
    "    \"\"\"\n",
    "    return a + b\n",
    "\n",
    "print(example_function(3, 5))  # Output: The function will be called, The function has been called, 8\n",
    "print(example_function.__name__)  # Output: example_function\n",
    "print(example_function.__doc__)  # Output: A function that adds two numbers and returns the result...\n",
    "\n"
   ]
  },
  {
   "cell_type": "markdown",
   "metadata": {},
   "source": [
    "In this example, the `@wraps(func)` decorator is used on the wrapper function to maintain the metadata of the original function (in this case, example_function). Without `@wraps(func)`, `example_function.__name__` and `example_function.__doc__` would return the name and docstring of the inner wrapper function. With the `@wraps(func)` decorator, the correct metadata of the original function is returned."
   ]
  },
  {
   "cell_type": "markdown",
   "metadata": {},
   "source": [
    "## Creating Decorators with Parameters:\n",
    "\n",
    "Decorators with parameters allow you to pass additional parameters to the decorator, making it more flexible and adaptable to different situations. To create a decorator with parameters, an additional outer function is created, which returns the actual decorator."
   ]
  },
  {
   "cell_type": "code",
   "execution_count": null,
   "metadata": {},
   "outputs": [],
   "source": [
    "\n",
    "from functools import wraps\n",
    "from typing import Callable, Any\n",
    "\n",
    "def repeat_decorator(times: int):\n",
    "    def actual_decorator(func: Callable[..., Any]) -> Callable[..., Any]:\n",
    "        @wraps(func)\n",
    "        def wrapper(*args, **kwargs) -> Any:\n",
    "            for _ in range(times):\n",
    "                result = func(*args, **kwargs)\n",
    "            return result\n",
    "        return wrapper\n",
    "    return actual_decorator\n",
    "\n",
    "@repeat_decorator(3)\n",
    "def print_message(message: str) -> None:\n",
    "    print(message)\n",
    "\n",
    "print_message(\"Hello!\")  # Output: Hello! Hello! Hello!"
   ]
  },
  {
   "cell_type": "markdown",
   "metadata": {},
   "source": [
    "\n",
    "In this example, the `repeat_decorator` function takes the times parameter, indicating how many times the decorated function should be called. The `actual_decorator` function is returned by the outer function, and it works as a standard decorator.\n"
   ]
  },
  {
   "cell_type": "markdown",
   "metadata": {},
   "source": [
    "## Quick Assignement 2\n",
    "\n",
    "Write a decorator that:\n",
    "\n",
    "1. converts all text `*args` and `**kwargs` of the decorated function to uppercase.\n",
    "1. converts all text results of the function to uppercase."
   ]
  },
  {
   "cell_type": "code",
   "execution_count": null,
   "metadata": {},
   "outputs": [],
   "source": [
    "# your code here"
   ]
  },
  {
   "cell_type": "markdown",
   "metadata": {},
   "source": [
    "\n",
    "### Multiple Decorators on One Function:\n",
    "\n",
    "You can use multiple decorators on a single function, but keep in mind that they will be applied in a specific order. The first decorator will be applied last, the second decorator will be applied second to last, and so on.\n",
    "\n"
   ]
  },
  {
   "cell_type": "code",
   "execution_count": null,
   "metadata": {},
   "outputs": [],
   "source": [
    "\n",
    "from functools import wraps\n",
    "from typing import Callable, Any\n",
    "\n",
    "def print_before_decorator(func: Callable[..., Any]) -> Callable[..., Any]:\n",
    "    @wraps(func)\n",
    "    def wrapper(*args, **kwargs) -> Any:\n",
    "        print(\"The function will be called\")\n",
    "        return func(*args, **kwargs)\n",
    "    return wrapper\n",
    "\n",
    "def print_after_decorator(func: Callable[..., Any]) -> Callable[..., Any]:\n",
    "    @wraps(func)\n",
    "    def wrapper(*args, **kwargs) -> Any:\n",
    "        result = func(*args, **kwargs)\n",
    "        print(\"The function has been called\")\n",
    "        return result\n",
    "    return wrapper\n",
    "\n",
    "@print_before_decorator\n",
    "@print_after_decorator\n",
    "def add_numbers(a: int, b: int) -> int:\n",
    "    return a + b\n",
    "\n",
    "result = add_numbers(3, 5)  # Output: The function will be called, The function has been called\n",
    "print(result)  # Output: 8\n"
   ]
  },
  {
   "cell_type": "markdown",
   "metadata": {},
   "source": [
    "\n",
    "In this example, the add_numbers function is decorated with two decorators: print_before_decorator and print_after_decorator. The order of application is important, and the output will reflect the order of decoration."
   ]
  },
  {
   "cell_type": "markdown",
   "metadata": {},
   "source": [
    "## Quick Assignement 3\n",
    "\n",
    "Write a function to find a prime number\n",
    "\n",
    "1. Write an unbounded prime number generator\n",
    "1. Write a decorator to measure the time of the function\n",
    "1. Make a function that has a loop to print finding a sequence of prime numbers until finding the current prime number in the sequence takes more than 0.01 seconds.\n",
    "1. print the duration of the entire process using the decorator"
   ]
  },
  {
   "cell_type": "code",
   "execution_count": null,
   "metadata": {},
   "outputs": [],
   "source": [
    "# your code here"
   ]
  },
  {
   "cell_type": "markdown",
   "metadata": {},
   "source": [
    "## Getters and Setters"
   ]
  },
  {
   "cell_type": "markdown",
   "metadata": {},
   "source": [
    "For methods decorated with `@property`, we can define a corresponding method decorated with `@method.setter`, which will control the assignment process of private attributes. It's very practical for condition checking, censorship, autocorrections, and similar tasks. \n",
    "\n",
    "Here's an example with the human class managing the attributes of age and name:"
   ]
  },
  {
   "cell_type": "code",
   "execution_count": null,
   "metadata": {},
   "outputs": [],
   "source": [
    "class Human:\n",
    "    def __init__(self, name, surname, age: int, *args, **kwargs) -> None:\n",
    "        self.name = name\n",
    "        self.surname = surname\n",
    "        self.age = age\n",
    "        self.properties = args\n",
    "        for key, value in kwargs.items():\n",
    "            setattr(self, key, value)\n",
    "    \n",
    "    @property\n",
    "    def age(self) -> int:\n",
    "        return self.__age\n",
    "    \n",
    "    @age.setter\n",
    "    def age(self, years) -> None:\n",
    "        if type(years) != int:\n",
    "            raise ValueError(\"Age must be an integer\")\n",
    "        elif years < 0:\n",
    "            raise ValueError(\"Not born yet\")\n",
    "        elif years > 200:\n",
    "            raise ValueError(\"Already deceased\")\n",
    "        self.__age = years\n",
    "\n",
    "    @property\n",
    "    def name(self) -> str:\n",
    "        return self.__name\n",
    "    \n",
    "    @name.setter\n",
    "    def name(self, input_name: str):\n",
    "        self.__name = input_name.capitalize()\n",
    "    \n",
    "    def __str__(self) -> str:\n",
    "        return f\"{self.name} {self.surname}, {self.age}\""
   ]
  }
 ],
 "metadata": {
  "kernelspec": {
   "display_name": "Python 3",
   "language": "python",
   "name": "python3"
  },
  "language_info": {
   "codemirror_mode": {
    "name": "ipython",
    "version": 3
   },
   "file_extension": ".py",
   "mimetype": "text/x-python",
   "name": "python",
   "nbconvert_exporter": "python",
   "pygments_lexer": "ipython3",
   "version": "3.10.12"
  }
 },
 "nbformat": 4,
 "nbformat_minor": 2
}
